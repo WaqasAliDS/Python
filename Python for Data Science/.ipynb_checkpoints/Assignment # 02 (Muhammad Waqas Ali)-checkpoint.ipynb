{
 "cells": [
  {
   "cell_type": "markdown",
   "id": "2babfb7d",
   "metadata": {},
   "source": [
    "# Assignment # 02"
   ]
  },
  {
   "cell_type": "markdown",
   "id": "169ff44d",
   "metadata": {},
   "source": [
    "Consider a company that wants to gather employee’s 0personal information with the help of python. The personal information contains Name, Age, and Salary. If we initialize a variable for each information of an employee, we need three variables for an employee as shown below:"
   ]
  },
  {
   "cell_type": "code",
   "execution_count": 1,
   "id": "05514bc1",
   "metadata": {},
   "outputs": [],
   "source": [
    "employee_name = \"Waqas\"\n",
    "employee_age = 25\n",
    "employee_salary = 50000.0"
   ]
  },
  {
   "cell_type": "markdown",
   "id": "c2ba86d3",
   "metadata": {},
   "source": [
    "Considering the above case, if we have 500 people and we have to gather each of above-mentioned information of each and every employee, for this we have to make 1500 variables that will put unnecessary burden on system memory. In order to get rid of this issue we use \"lists\" to minimize the consumption of memory and make our work efficient enough to reach out the data."
   ]
  },
  {
   "cell_type": "markdown",
   "id": "ac74c61b",
   "metadata": {},
   "source": [
    "## List"
   ]
  },
  {
   "cell_type": "markdown",
   "id": "5eac54d1",
   "metadata": {},
   "source": [
    "In Python, a list is a collection of items that are ordered and changeable. A list can contain any type of data, including numbers, strings, and other lists. Lets put the above information of an employee in the list."
   ]
  },
  {
   "cell_type": "code",
   "execution_count": 2,
   "id": "11074fe1",
   "metadata": {},
   "outputs": [],
   "source": [
    "employee_01 = [\"Waqas\",25,50000.0 ]"
   ]
  },
  {
   "cell_type": "markdown",
   "id": "da24f725",
   "metadata": {},
   "source": [
    "In the above mentioned list, we can see \"Waqas\" is the string, \"25\" is the integer number, and \"50000.0\" is the float number.\n",
    "Also we need only one variable for each employee minimized the variables requirement from 1500 to 500, for 500 employee.\n"
   ]
  },
  {
   "cell_type": "code",
   "execution_count": 3,
   "id": "30f9d652",
   "metadata": {},
   "outputs": [
    {
     "data": {
      "text/plain": [
       "['Waqas', 25, 50000.0]"
      ]
     },
     "execution_count": 3,
     "metadata": {},
     "output_type": "execute_result"
    }
   ],
   "source": [
    "employee_01  #Calling list without print() function as we know jupyter notebook prints the last line if it is printable."
   ]
  },
  {
   "cell_type": "markdown",
   "id": "8cea633d",
   "metadata": {},
   "source": [
    "## List Indexing"
   ]
  },
  {
   "cell_type": "markdown",
   "id": "5d4e6456",
   "metadata": {},
   "source": [
    "We can access the individual items in the list with the help of indexing. In Python, lists are indexed starting from 0. This means that the first element of a list has an index of 0, the second element has an index of 1, and so on. We use [] (box brackets) with the assigned variable of list to call the particular index number of the list. For example, "
   ]
  },
  {
   "cell_type": "code",
   "execution_count": 4,
   "id": "a2022c2d",
   "metadata": {},
   "outputs": [
    {
     "data": {
      "text/plain": [
       "'Waqas'"
      ]
     },
     "execution_count": 4,
     "metadata": {},
     "output_type": "execute_result"
    }
   ],
   "source": [
    "employee_01[0] #Calling 0th idex item in employee_01. "
   ]
  },
  {
   "cell_type": "code",
   "execution_count": 5,
   "id": "c20a7f97",
   "metadata": {},
   "outputs": [
    {
     "data": {
      "text/plain": [
       "25"
      ]
     },
     "execution_count": 5,
     "metadata": {},
     "output_type": "execute_result"
    }
   ],
   "source": [
    "employee_01[1] #Calling idex 01 in employee_01."
   ]
  },
  {
   "cell_type": "code",
   "execution_count": 6,
   "id": "2dd4abe2",
   "metadata": {},
   "outputs": [
    {
     "data": {
      "text/plain": [
       "50000.0"
      ]
     },
     "execution_count": 6,
     "metadata": {},
     "output_type": "execute_result"
    }
   ],
   "source": [
    "employee_01[2] #Calling idex 02 in employee_01."
   ]
  },
  {
   "cell_type": "markdown",
   "id": "80a733b6",
   "metadata": {},
   "source": [
    "You can also use negative indexing to access elements from the end of the list. In negative indexing, the last element of the list has an index of -1, the second-last element has an index of -2, and so on. For Example,"
   ]
  },
  {
   "cell_type": "code",
   "execution_count": 7,
   "id": "1e4271d3",
   "metadata": {},
   "outputs": [
    {
     "data": {
      "text/plain": [
       "50000.0"
      ]
     },
     "execution_count": 7,
     "metadata": {},
     "output_type": "execute_result"
    }
   ],
   "source": [
    "employee_01[-1] #Calling index -1 in employee_01."
   ]
  },
  {
   "cell_type": "code",
   "execution_count": 8,
   "id": "b4a576dc",
   "metadata": {},
   "outputs": [
    {
     "data": {
      "text/plain": [
       "25"
      ]
     },
     "execution_count": 8,
     "metadata": {},
     "output_type": "execute_result"
    }
   ],
   "source": [
    "employee_01[-2] #Calling index -2 in employee_01."
   ]
  },
  {
   "cell_type": "code",
   "execution_count": 9,
   "id": "d2776026",
   "metadata": {},
   "outputs": [
    {
     "data": {
      "text/plain": [
       "'Waqas'"
      ]
     },
     "execution_count": 9,
     "metadata": {},
     "output_type": "execute_result"
    }
   ],
   "source": [
    "employee_01[-3] #Calling index -3 in employee_01."
   ]
  },
  {
   "cell_type": "markdown",
   "id": "0999b1e9",
   "metadata": {},
   "source": [
    "If we have to add new items in this existing list we use \".append()\" function that will add the new element at the end of the list. For example,"
   ]
  },
  {
   "cell_type": "code",
   "execution_count": 10,
   "id": "ee1b40bd",
   "metadata": {},
   "outputs": [],
   "source": [
    "employee_01.append(\"M\") # Here we are adding the gender of the employee. \"M\" represents the male."
   ]
  },
  {
   "cell_type": "code",
   "execution_count": 11,
   "id": "416c929f",
   "metadata": {},
   "outputs": [
    {
     "data": {
      "text/plain": [
       "['Waqas', 25, 50000.0, 'M']"
      ]
     },
     "execution_count": 11,
     "metadata": {},
     "output_type": "execute_result"
    }
   ],
   "source": [
    "employee_01 # Calling employee_01 "
   ]
  },
  {
   "cell_type": "markdown",
   "id": "f31e7fdf",
   "metadata": {},
   "source": [
    "Here we can see \"M\" added at the end the list."
   ]
  },
  {
   "cell_type": "markdown",
   "id": "550844b4",
   "metadata": {},
   "source": [
    "Now we have to mention \"male\" instead of \"M\". For this we simply assign \"male\" at the existing index of \"M\"."
   ]
  },
  {
   "cell_type": "code",
   "execution_count": 12,
   "id": "60bfa1ed",
   "metadata": {},
   "outputs": [],
   "source": [
    "employee_01[-1]=\"Male\" "
   ]
  },
  {
   "cell_type": "code",
   "execution_count": 13,
   "id": "ef6ea6c4",
   "metadata": {},
   "outputs": [
    {
     "data": {
      "text/plain": [
       "['Waqas', 25, 50000.0, 'Male']"
      ]
     },
     "execution_count": 13,
     "metadata": {},
     "output_type": "execute_result"
    }
   ],
   "source": [
    "employee_01 # Calling employee_01 "
   ]
  },
  {
   "cell_type": "markdown",
   "id": "edc2c814",
   "metadata": {},
   "source": [
    "Here we can see \"Male\" overwrite on \"M\"."
   ]
  },
  {
   "cell_type": "markdown",
   "id": "9dc96cb1",
   "metadata": {},
   "source": [
    "Here we mistakenly write 50000.0 instead of 60000.0  as employee_01 salary. We need to add 10000.0 more in order to correct. We simply use special assignment operator \"+=\" to add 10000.0."
   ]
  },
  {
   "cell_type": "code",
   "execution_count": 14,
   "id": "e7131b57",
   "metadata": {},
   "outputs": [],
   "source": [
    "employee_01[-2]+=10000.0"
   ]
  },
  {
   "cell_type": "code",
   "execution_count": 15,
   "id": "e78f9f56",
   "metadata": {},
   "outputs": [
    {
     "data": {
      "text/plain": [
       "['Waqas', 25, 60000.0, 'Male']"
      ]
     },
     "execution_count": 15,
     "metadata": {},
     "output_type": "execute_result"
    }
   ],
   "source": [
    "employee_01 # Calling employee_01 "
   ]
  },
  {
   "cell_type": "markdown",
   "id": "8c4a26ed",
   "metadata": {},
   "source": [
    "Now we can see, we successfully added 10000.0 at index[-2] to make it correct."
   ]
  },
  {
   "cell_type": "markdown",
   "id": "f74c3b11",
   "metadata": {},
   "source": [
    "## List of Lists"
   ]
  },
  {
   "cell_type": "markdown",
   "id": "f2390ed1",
   "metadata": {},
   "source": [
    "In Python, you can create a list of lists, which is also known as a nested list. A nested list is a list that contains other lists as its elements.\n",
    "\n",
    "Here's an example of how to create a list of lists:"
   ]
  },
  {
   "cell_type": "code",
   "execution_count": 20,
   "id": "e305937b",
   "metadata": {},
   "outputs": [],
   "source": [
    "employees = [[\"Waqas\", 25, 50000, \"Male\"],[\"Ali\", 23, 30000, \"Male\"],\\\n",
    " [\"Zara\", 45000, \"Female\"],[\"Sahar\", 40000, \"Female\"]]"
   ]
  },
  {
   "cell_type": "code",
   "execution_count": 17,
   "id": "9ea30c75",
   "metadata": {},
   "outputs": [
    {
     "data": {
      "text/plain": [
       "[['Waqas', 25, 50000, 'Male'],\n",
       " ['Ali', 23, 30000, 'Male'],\n",
       " ['Zara', 45000, 'Female'],\n",
       " ['Sahar', 40000, 'Female']]"
      ]
     },
     "execution_count": 17,
     "metadata": {},
     "output_type": "execute_result"
    }
   ],
   "source": [
    "employees #Calling employees. "
   ]
  },
  {
   "cell_type": "markdown",
   "id": "518c2fc5",
   "metadata": {},
   "source": [
    "Now we have to find out the average salary of these four employees."
   ]
  },
  {
   "cell_type": "code",
   "execution_count": 18,
   "id": "e75b8582",
   "metadata": {},
   "outputs": [
    {
     "data": {
      "text/plain": [
       "135000.0"
      ]
     },
     "execution_count": 18,
     "metadata": {},
     "output_type": "execute_result"
    }
   ],
   "source": [
    "employees[0][-2] + employees[1][-2] + employees[2][1] + employees[3][1]/ 4"
   ]
  },
  {
   "cell_type": "markdown",
   "id": "bb697b38",
   "metadata": {},
   "source": [
    "135000 is not even the individual salary of any of the employee. This can not be the average salary of the employees. What happen here python first add employees[0][-2] + employees[1][-2] + employees[2][1] and then it adds employees[3][1]/4 because python follows PEMDAS rule to determine the order of operations in arithmetic expressions."
   ]
  },
  {
   "cell_type": "markdown",
   "id": "2bb3b190",
   "metadata": {},
   "source": [
    "### PEMDAS Rule"
   ]
  },
  {
   "cell_type": "markdown",
   "id": "0c300a82",
   "metadata": {},
   "source": [
    "PEMDAS is an acronym that stands for Parentheses, Exponents, Multiplication and Division, and Addition and Subtraction. In Python, the order of operations is also determined by the PEMDAS rule. When evaluating an arithmetic expression, Python will perform operations in the following order:\n",
    "\n",
    "1)Parentheses\n",
    "2)Exponents\n",
    "3)Multiplication and Division (from left to right)\n",
    "4)Addition and Subtraction (from left to right)\n",
    "\n",
    "Now lets see what happens when we add parentheses at the ends of summation."
   ]
  },
  {
   "cell_type": "code",
   "execution_count": 19,
   "id": "d961dbd9",
   "metadata": {},
   "outputs": [
    {
     "data": {
      "text/plain": [
       "41250.0"
      ]
     },
     "execution_count": 19,
     "metadata": {},
     "output_type": "execute_result"
    }
   ],
   "source": [
    "(employees[0][-2] + employees[1][-2] + employees[2][1] + employees[3][1])/ 4"
   ]
  },
  {
   "cell_type": "markdown",
   "id": "e8daab39",
   "metadata": {},
   "source": [
    "We get the correct average salaries.\n",
    "Here in this case we have four employees so we divide the summation by 4. what if the number of employees is much more that we can count them manually, for this purpose we have a len() function that gives the length of the list. Let's see,\n",
    "\n"
   ]
  },
  {
   "cell_type": "code",
   "execution_count": 21,
   "id": "89b30cb5",
   "metadata": {},
   "outputs": [
    {
     "data": {
      "text/plain": [
       "41250.0"
      ]
     },
     "execution_count": 21,
     "metadata": {},
     "output_type": "execute_result"
    }
   ],
   "source": [
    "(employees[0][-2] + employees[1][-2] + employees[2][1] + employees[3][1])/ len(employees)"
   ]
  },
  {
   "cell_type": "markdown",
   "id": "d68e01ac",
   "metadata": {},
   "source": [
    "Consider a case in which we have to gather the salaries of each and every employee. In this case we can access the salaries of individual employee because we just have four employee in our list. This is not the efficient method to access the particular information, what if we have 1000s of employee in our list? We cannot access them manually. For this purpose we use FOR Loop."
   ]
  },
  {
   "cell_type": "markdown",
   "id": "51fc46ee",
   "metadata": {},
   "source": [
    "### For Loop"
   ]
  },
  {
   "cell_type": "markdown",
   "id": "cb5ad77b",
   "metadata": {},
   "source": [
    "In Python, a for loop is a control flow statement that allows you to iterate over a sequence of elements, such as a list or a string. The general syntax of a for loop in Python is as follows:\n",
    "\n",
    "for element in sequence:\n",
    "\n",
    "In this syntax, sequence is the sequence of elements over which you want to iterate, and element is a variable that represents each individual element in the sequence during each iteration of the loop. The code inside the loop is executed once for each element in the sequence. \n",
    "\n",
    "Let's apply for loop in our list to get the salaries of individual employee."
   ]
  },
  {
   "cell_type": "code",
   "execution_count": 22,
   "id": "49d7be64",
   "metadata": {},
   "outputs": [
    {
     "name": "stdout",
     "output_type": "stream",
     "text": [
      "50000\n",
      "30000\n",
      "Female\n",
      "Female\n"
     ]
    }
   ],
   "source": [
    "for i in employees:\n",
    "    print(i[2])"
   ]
  },
  {
   "cell_type": "markdown",
   "id": "173cee3c",
   "metadata": {},
   "source": [
    "As we can see that we get the salaries of both male employee but in case of female employee, we get their gender. What happen here at employees[2][2] & employees[3][2], they have there genders instead of salaries. In order to get the salaries of each and every employee, we have to use negative indexing as we can see from negative index all four employee have salaries at index[-2].\n",
    "\n",
    "Remember, python does not give anything optional. If there are formats of anything that can be done in two, three or more ways, at certain condition there must be a scenario that will only be able to utilize the particular formats to achieve the desired task. Similarly, here in our list of employees we cannot use negative indexing to get the name of each employee. Let's apply the above for loop with negative indexing."
   ]
  },
  {
   "cell_type": "code",
   "execution_count": 23,
   "id": "009d6ca8",
   "metadata": {},
   "outputs": [
    {
     "name": "stdout",
     "output_type": "stream",
     "text": [
      "50000\n",
      "30000\n",
      "45000\n",
      "40000\n"
     ]
    }
   ],
   "source": [
    "for i in employees:\n",
    "    print(i[-2])"
   ]
  },
  {
   "cell_type": "markdown",
   "id": "58cf9de3",
   "metadata": {},
   "source": [
    "Now we successfully gather the salaries of individual employees. In order to save these salaries in the list, we have to create an empty list, then apply the same for loop, but this time instead of printing we will add all the salaries in the empty list by using \".append()\" function."
   ]
  },
  {
   "cell_type": "code",
   "execution_count": 24,
   "id": "16f594f4",
   "metadata": {},
   "outputs": [
    {
     "name": "stdout",
     "output_type": "stream",
     "text": [
      "[50000, 30000, 45000, 40000]\n"
     ]
    }
   ],
   "source": [
    "salaries = []\n",
    "\n",
    "for i in employees:\n",
    "    salaries.append(i[-2])\n",
    "print(salaries)"
   ]
  },
  {
   "cell_type": "markdown",
   "id": "fea50ca4",
   "metadata": {},
   "source": [
    "Python provides some special arthimatic function to perform some of the arthimatic tasks. sum() is one of them. Let's find the average salary of employees using sum() and len() function."
   ]
  },
  {
   "cell_type": "code",
   "execution_count": 25,
   "id": "e6da8a75",
   "metadata": {},
   "outputs": [
    {
     "data": {
      "text/plain": [
       "41250.0"
      ]
     },
     "execution_count": 25,
     "metadata": {},
     "output_type": "execute_result"
    }
   ],
   "source": [
    "sum(salaries)/len(salaries)"
   ]
  },
  {
   "cell_type": "code",
   "execution_count": null,
   "id": "4cc17f84",
   "metadata": {},
   "outputs": [],
   "source": []
  }
 ],
 "metadata": {
  "kernelspec": {
   "display_name": "Python 3 (ipykernel)",
   "language": "python",
   "name": "python3"
  },
  "language_info": {
   "codemirror_mode": {
    "name": "ipython",
    "version": 3
   },
   "file_extension": ".py",
   "mimetype": "text/x-python",
   "name": "python",
   "nbconvert_exporter": "python",
   "pygments_lexer": "ipython3",
   "version": "3.9.13"
  }
 },
 "nbformat": 4,
 "nbformat_minor": 5
}
