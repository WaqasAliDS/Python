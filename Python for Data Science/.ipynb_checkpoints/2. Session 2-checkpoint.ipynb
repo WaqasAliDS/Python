{
 "cells": [
  {
   "cell_type": "code",
   "execution_count": 1,
   "id": "dbcb04c0",
   "metadata": {},
   "outputs": [],
   "source": [
    "employee_name = \"Ali\"\n",
    "employee_age = 23\n",
    "employee_salary = 25000.0"
   ]
  },
  {
   "cell_type": "code",
   "execution_count": 2,
   "id": "8200b979",
   "metadata": {},
   "outputs": [
    {
     "data": {
      "text/plain": [
       "8"
      ]
     },
     "execution_count": 2,
     "metadata": {},
     "output_type": "execute_result"
    }
   ],
   "source": [
    "2+2\n",
    "4+4"
   ]
  },
  {
   "cell_type": "code",
   "execution_count": 3,
   "id": "2c01c02a",
   "metadata": {},
   "outputs": [
    {
     "name": "stdout",
     "output_type": "stream",
     "text": [
      "Ali\n"
     ]
    }
   ],
   "source": [
    "print(\"Ali\")"
   ]
  },
  {
   "cell_type": "code",
   "execution_count": 4,
   "id": "6b2d72e0",
   "metadata": {},
   "outputs": [
    {
     "data": {
      "text/plain": [
       "'Ali'"
      ]
     },
     "execution_count": 4,
     "metadata": {},
     "output_type": "execute_result"
    }
   ],
   "source": [
    "\"Ali\""
   ]
  },
  {
   "cell_type": "code",
   "execution_count": 5,
   "id": "85472714",
   "metadata": {},
   "outputs": [
    {
     "data": {
      "text/plain": [
       "900"
      ]
     },
     "execution_count": 5,
     "metadata": {},
     "output_type": "execute_result"
    }
   ],
   "source": [
    "3*300"
   ]
  },
  {
   "cell_type": "code",
   "execution_count": 6,
   "id": "f5dd4f98",
   "metadata": {},
   "outputs": [],
   "source": [
    "employee1 = [\"Danial\",25,25000.0]"
   ]
  },
  {
   "cell_type": "code",
   "execution_count": 7,
   "id": "9179d05e",
   "metadata": {},
   "outputs": [
    {
     "data": {
      "text/plain": [
       "['Danial', 25, 25000.0]"
      ]
     },
     "execution_count": 7,
     "metadata": {},
     "output_type": "execute_result"
    }
   ],
   "source": [
    "employee1"
   ]
  },
  {
   "cell_type": "code",
   "execution_count": 8,
   "id": "75a17813",
   "metadata": {},
   "outputs": [
    {
     "data": {
      "text/plain": [
       "[]"
      ]
     },
     "execution_count": 8,
     "metadata": {},
     "output_type": "execute_result"
    }
   ],
   "source": [
    "[] # list"
   ]
  },
  {
   "cell_type": "code",
   "execution_count": 9,
   "id": "8998f50f",
   "metadata": {},
   "outputs": [
    {
     "data": {
      "text/plain": [
       "25000.0"
      ]
     },
     "execution_count": 9,
     "metadata": {},
     "output_type": "execute_result"
    }
   ],
   "source": [
    "employee1[2] # indexing"
   ]
  },
  {
   "cell_type": "code",
   "execution_count": 10,
   "id": "914d89cb",
   "metadata": {},
   "outputs": [
    {
     "data": {
      "text/plain": [
       "'Danial'"
      ]
     },
     "execution_count": 10,
     "metadata": {},
     "output_type": "execute_result"
    }
   ],
   "source": [
    "employee1[0]"
   ]
  },
  {
   "cell_type": "code",
   "execution_count": 11,
   "id": "80d40eae",
   "metadata": {},
   "outputs": [
    {
     "data": {
      "text/plain": [
       "25000.0"
      ]
     },
     "execution_count": 11,
     "metadata": {},
     "output_type": "execute_result"
    }
   ],
   "source": [
    "employee1[-1]"
   ]
  },
  {
   "cell_type": "code",
   "execution_count": 12,
   "id": "f7b1080e",
   "metadata": {},
   "outputs": [
    {
     "data": {
      "text/plain": [
       "list"
      ]
     },
     "execution_count": 12,
     "metadata": {},
     "output_type": "execute_result"
    }
   ],
   "source": [
    "type(employee1)"
   ]
  },
  {
   "cell_type": "code",
   "execution_count": 13,
   "id": "4d34dcd4",
   "metadata": {},
   "outputs": [],
   "source": [
    "employee1.append(\"M\")"
   ]
  },
  {
   "cell_type": "code",
   "execution_count": 14,
   "id": "5cb07751",
   "metadata": {},
   "outputs": [
    {
     "data": {
      "text/plain": [
       "['Danial', 25, 25000.0, 'M']"
      ]
     },
     "execution_count": 14,
     "metadata": {},
     "output_type": "execute_result"
    }
   ],
   "source": [
    "employee1"
   ]
  },
  {
   "cell_type": "code",
   "execution_count": 15,
   "id": "7539a281",
   "metadata": {},
   "outputs": [],
   "source": [
    "employee1[-1] = \"Male\""
   ]
  },
  {
   "cell_type": "code",
   "execution_count": 16,
   "id": "dd7b258f",
   "metadata": {},
   "outputs": [
    {
     "data": {
      "text/plain": [
       "['Danial', 25, 25000.0, 'Male']"
      ]
     },
     "execution_count": 16,
     "metadata": {},
     "output_type": "execute_result"
    }
   ],
   "source": [
    "employee1"
   ]
  },
  {
   "cell_type": "code",
   "execution_count": 17,
   "id": "1111a6b6",
   "metadata": {},
   "outputs": [],
   "source": [
    "employee1[-2] += 10000"
   ]
  },
  {
   "cell_type": "code",
   "execution_count": 18,
   "id": "9a3caa5f",
   "metadata": {},
   "outputs": [
    {
     "data": {
      "text/plain": [
       "['Danial', 25, 35000.0, 'Male']"
      ]
     },
     "execution_count": 18,
     "metadata": {},
     "output_type": "execute_result"
    }
   ],
   "source": [
    "employee1"
   ]
  },
  {
   "cell_type": "code",
   "execution_count": 19,
   "id": "1b8636ae",
   "metadata": {},
   "outputs": [
    {
     "data": {
      "text/plain": [
       "['Danial', 25, 35000.0, 'Male']"
      ]
     },
     "execution_count": 19,
     "metadata": {},
     "output_type": "execute_result"
    }
   ],
   "source": [
    "employee1"
   ]
  },
  {
   "cell_type": "code",
   "execution_count": 20,
   "id": "25ae0201",
   "metadata": {},
   "outputs": [],
   "source": [
    "emp = ['Danial', 25, 35000.0, 'Male', [\"Gulshan\",\"Johar\"]]"
   ]
  },
  {
   "cell_type": "code",
   "execution_count": 21,
   "id": "39d2f966",
   "metadata": {},
   "outputs": [
    {
     "data": {
      "text/plain": [
       "['Danial', 25, 35000.0, 'Male', ['Gulshan', 'Johar']]"
      ]
     },
     "execution_count": 21,
     "metadata": {},
     "output_type": "execute_result"
    }
   ],
   "source": [
    "emp"
   ]
  },
  {
   "cell_type": "code",
   "execution_count": 22,
   "id": "5a289900",
   "metadata": {},
   "outputs": [
    {
     "data": {
      "text/plain": [
       "['Gulshan', 'Johar']"
      ]
     },
     "execution_count": 22,
     "metadata": {},
     "output_type": "execute_result"
    }
   ],
   "source": [
    "emp[-1]"
   ]
  },
  {
   "cell_type": "code",
   "execution_count": 23,
   "id": "cb062358",
   "metadata": {},
   "outputs": [
    {
     "data": {
      "text/plain": [
       "'Gulshan'"
      ]
     },
     "execution_count": 23,
     "metadata": {},
     "output_type": "execute_result"
    }
   ],
   "source": [
    "emp[-1][0]"
   ]
  },
  {
   "cell_type": "markdown",
   "id": "cb09896d",
   "metadata": {},
   "source": [
    "# list of lists"
   ]
  },
  {
   "cell_type": "code",
   "execution_count": 24,
   "id": "03831a36",
   "metadata": {},
   "outputs": [],
   "source": [
    "employees = [[\"Danial\", 25, 25000, \"Male\"],[\"Ali\", 23, 15000, \"Male\"],\\\n",
    " [\"Aliza\", 45000, \"Female\"],[\"Ayesha\", 50000, \"Female\"]]"
   ]
  },
  {
   "cell_type": "code",
   "execution_count": 25,
   "id": "444e23b8",
   "metadata": {},
   "outputs": [
    {
     "data": {
      "text/plain": [
       "[['Danial', 25, 25000, 'Male'],\n",
       " ['Ali', 23, 15000, 'Male'],\n",
       " ['Aliza', 45000, 'Female'],\n",
       " ['Ayesha', 50000, 'Female']]"
      ]
     },
     "execution_count": 25,
     "metadata": {},
     "output_type": "execute_result"
    }
   ],
   "source": [
    "employees"
   ]
  },
  {
   "cell_type": "code",
   "execution_count": 26,
   "id": "c9aed83b",
   "metadata": {},
   "outputs": [
    {
     "data": {
      "text/plain": [
       "4"
      ]
     },
     "execution_count": 26,
     "metadata": {},
     "output_type": "execute_result"
    }
   ],
   "source": [
    "len(employees)"
   ]
  },
  {
   "cell_type": "markdown",
   "id": "b7ea2b21",
   "metadata": {},
   "source": [
    "PEMDAS"
   ]
  },
  {
   "cell_type": "code",
   "execution_count": 27,
   "id": "73082823",
   "metadata": {},
   "outputs": [
    {
     "data": {
      "text/plain": [
       "33750.0"
      ]
     },
     "execution_count": 27,
     "metadata": {},
     "output_type": "execute_result"
    }
   ],
   "source": [
    "(employees[0][-2] + employees[1][-2] + employees[2][1] + employees[3][1])/ len(employees)"
   ]
  },
  {
   "cell_type": "code",
   "execution_count": 28,
   "id": "549cac01",
   "metadata": {},
   "outputs": [
    {
     "data": {
      "text/plain": [
       "[['Danial', 25, 25000, 'Male'],\n",
       " ['Ali', 23, 15000, 'Male'],\n",
       " ['Aliza', 45000, 'Female'],\n",
       " ['Ayesha', 50000, 'Female']]"
      ]
     },
     "execution_count": 28,
     "metadata": {},
     "output_type": "execute_result"
    }
   ],
   "source": [
    "employees"
   ]
  },
  {
   "cell_type": "code",
   "execution_count": 29,
   "id": "bd7578e0",
   "metadata": {},
   "outputs": [
    {
     "name": "stdout",
     "output_type": "stream",
     "text": [
      "25000\n",
      "15000\n",
      "Female\n",
      "Female\n"
     ]
    }
   ],
   "source": [
    "for i in employees:\n",
    "    print(i[2])"
   ]
  },
  {
   "cell_type": "code",
   "execution_count": 30,
   "id": "6ab6c002",
   "metadata": {},
   "outputs": [
    {
     "name": "stdout",
     "output_type": "stream",
     "text": [
      "25000\n",
      "15000\n",
      "45000\n",
      "50000\n"
     ]
    }
   ],
   "source": [
    "for i in employees:\n",
    "    print(i[-2])"
   ]
  },
  {
   "cell_type": "code",
   "execution_count": 31,
   "id": "6cf29735",
   "metadata": {},
   "outputs": [],
   "source": [
    "salaries = []\n",
    "\n",
    "for i in employees:\n",
    "    salaries.append(i[-2])"
   ]
  },
  {
   "cell_type": "code",
   "execution_count": 32,
   "id": "9f708958",
   "metadata": {},
   "outputs": [
    {
     "data": {
      "text/plain": [
       "[25000, 15000, 45000, 50000]"
      ]
     },
     "execution_count": 32,
     "metadata": {},
     "output_type": "execute_result"
    }
   ],
   "source": [
    "salaries"
   ]
  },
  {
   "cell_type": "code",
   "execution_count": 33,
   "id": "7498329e",
   "metadata": {},
   "outputs": [
    {
     "data": {
      "text/plain": [
       "33750.0"
      ]
     },
     "execution_count": 33,
     "metadata": {},
     "output_type": "execute_result"
    }
   ],
   "source": [
    "sum(salaries)/len(salaries)"
   ]
  },
  {
   "cell_type": "code",
   "execution_count": null,
   "id": "719bb95d",
   "metadata": {},
   "outputs": [],
   "source": []
  }
 ],
 "metadata": {
  "kernelspec": {
   "display_name": "Python 3 (ipykernel)",
   "language": "python",
   "name": "python3"
  },
  "language_info": {
   "codemirror_mode": {
    "name": "ipython",
    "version": 3
   },
   "file_extension": ".py",
   "mimetype": "text/x-python",
   "name": "python",
   "nbconvert_exporter": "python",
   "pygments_lexer": "ipython3",
   "version": "3.9.13"
  }
 },
 "nbformat": 4,
 "nbformat_minor": 5
}
