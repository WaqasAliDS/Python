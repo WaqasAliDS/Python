{
 "cells": [
  {
   "cell_type": "markdown",
   "id": "4715172d",
   "metadata": {},
   "source": [
    "# 1st Class\n",
    "    *int : 12, 26,45\n",
    "    *float : 22.5, 16.7, 18.9\n",
    "    *Str : \"aliayubi167@gmail.com\""
   ]
  },
  {
   "cell_type": "code",
   "execution_count": 1,
   "id": "4170143a",
   "metadata": {},
   "outputs": [
    {
     "name": "stdout",
     "output_type": "stream",
     "text": [
      "9\n"
     ]
    }
   ],
   "source": [
    "print(9)"
   ]
  },
  {
   "cell_type": "code",
   "execution_count": 2,
   "id": "64c545a0",
   "metadata": {},
   "outputs": [
    {
     "name": "stdout",
     "output_type": "stream",
     "text": [
      "WAQAS\n"
     ]
    }
   ],
   "source": [
    "print(\"WAQAS\")"
   ]
  },
  {
   "cell_type": "code",
   "execution_count": 3,
   "id": "c6cf45b1",
   "metadata": {},
   "outputs": [
    {
     "name": "stdout",
     "output_type": "stream",
     "text": [
      "3\n"
     ]
    }
   ],
   "source": [
    "print(1+2)"
   ]
  },
  {
   "cell_type": "code",
   "execution_count": 4,
   "id": "e726c599",
   "metadata": {},
   "outputs": [
    {
     "name": "stdout",
     "output_type": "stream",
     "text": [
      "1\n"
     ]
    }
   ],
   "source": [
    "print(13%3)"
   ]
  },
  {
   "cell_type": "code",
   "execution_count": 5,
   "id": "65701dad",
   "metadata": {},
   "outputs": [
    {
     "name": "stdout",
     "output_type": "stream",
     "text": [
      "4\n"
     ]
    }
   ],
   "source": [
    "print(13//3)"
   ]
  },
  {
   "cell_type": "code",
   "execution_count": 6,
   "id": "7613c3cd",
   "metadata": {},
   "outputs": [
    {
     "name": "stdout",
     "output_type": "stream",
     "text": [
      "6\n"
     ]
    }
   ],
   "source": [
    "print(3*2)"
   ]
  },
  {
   "cell_type": "code",
   "execution_count": 7,
   "id": "3104f88e",
   "metadata": {},
   "outputs": [
    {
     "name": "stdout",
     "output_type": "stream",
     "text": [
      "8\n"
     ]
    }
   ],
   "source": [
    "print(2**3)"
   ]
  },
  {
   "cell_type": "markdown",
   "id": "6c01b692",
   "metadata": {},
   "source": [
    "# Variable Declaration and Initialiazation Syntax\n",
    "    *Variable_name = Value\n",
    "    * = assignment operator"
   ]
  },
  {
   "cell_type": "code",
   "execution_count": 8,
   "id": "5349e2bb",
   "metadata": {},
   "outputs": [
    {
     "name": "stdout",
     "output_type": "stream",
     "text": [
      "2\n"
     ]
    }
   ],
   "source": [
    "num=2\n",
    "print(num)"
   ]
  },
  {
   "cell_type": "markdown",
   "id": "4184c996",
   "metadata": {},
   "source": [
    "# Legal Variables\n",
    "    *Must start wth character or underscore(_)\n",
    "    *other letters can be characters, digits or underscore (_)"
   ]
  },
  {
   "cell_type": "markdown",
   "id": "82b64ed5",
   "metadata": {},
   "source": [
    "# Special Assignment Operator\n",
    "    * +=, *=, /=, //=, -=, %= "
   ]
  },
  {
   "cell_type": "code",
   "execution_count": null,
   "id": "9a788ad8",
   "metadata": {},
   "outputs": [],
   "source": []
  }
 ],
 "metadata": {
  "kernelspec": {
   "display_name": "Python 3 (ipykernel)",
   "language": "python",
   "name": "python3"
  },
  "language_info": {
   "codemirror_mode": {
    "name": "ipython",
    "version": 3
   },
   "file_extension": ".py",
   "mimetype": "text/x-python",
   "name": "python",
   "nbconvert_exporter": "python",
   "pygments_lexer": "ipython3",
   "version": "3.9.13"
  }
 },
 "nbformat": 4,
 "nbformat_minor": 5
}
