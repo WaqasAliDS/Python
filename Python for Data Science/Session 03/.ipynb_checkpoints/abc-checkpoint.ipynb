{
 "cells": [
  {
   "cell_type": "markdown",
   "id": "e805cd48",
   "metadata": {},
   "source": [
    "# Conditional Statement"
   ]
  },
  {
   "cell_type": "markdown",
   "id": "98157057",
   "metadata": {},
   "source": [
    "    In Python, a conditional statement is used to execute a block of code if a certain condition is met. The syntax for a basic conditional statement using an if statement is as follows:\n",
    "    if condition:\n",
    "    # execute this block of code if condition is True\n",
    "    \n",
    "    Here is an example of using a conditional statement in Python:\n"
   ]
  },
  {
   "cell_type": "code",
   "execution_count": 1,
   "id": "299d848c",
   "metadata": {},
   "outputs": [
    {
     "name": "stdout",
     "output_type": "stream",
     "text": [
      "Stop\n"
     ]
    }
   ],
   "source": [
    "signal=\"red\"\n",
    "if signal==\"Green\":\n",
    "    print(\"Pass\")\n",
    "else:\n",
    "    print(\"Stop\")"
   ]
  },
  {
   "cell_type": "markdown",
   "id": "ae078627",
   "metadata": {},
   "source": [
    "Here is another example of condtional statement."
   ]
  },
  {
   "cell_type": "code",
   "execution_count": 2,
   "id": "f4447427",
   "metadata": {},
   "outputs": [
    {
     "name": "stdout",
     "output_type": "stream",
     "text": [
      "Eligible to Vote\n"
     ]
    }
   ],
   "source": [
    "age=18\n",
    "if age>=18:\n",
    "    print(\"Eligible to Vote\")\n",
    "else:\n",
    "    print(\"Not Eligible to Vote\")"
   ]
  },
  {
   "cell_type": "markdown",
   "id": "1a28039e",
   "metadata": {},
   "source": [
    "-Let's take a little complex example.\n",
    "\n",
    "Using following list of cities per country,\n",
    "\n",
    "*india = [\"mumbai\", \"banglore\", \"chennai\", \"delhi\"]\n",
    "\n",
    "*pakistan = [\"lahore\",\"karachi\",\"islamabad\"]\n",
    "\n",
    "*bangladesh = [\"dhaka\", \"khulna\", \"rangpur\"]\n",
    "\n",
    "Write a program that asks user to enter a city name and it should tell which country the city belongs to?"
   ]
  },
  {
   "cell_type": "code",
   "execution_count": null,
   "id": "53f54dab",
   "metadata": {},
   "outputs": [],
   "source": []
  }
 ],
 "metadata": {
  "kernelspec": {
   "display_name": "Python 3 (ipykernel)",
   "language": "python",
   "name": "python3"
  },
  "language_info": {
   "codemirror_mode": {
    "name": "ipython",
    "version": 3
   },
   "file_extension": ".py",
   "mimetype": "text/x-python",
   "name": "python",
   "nbconvert_exporter": "python",
   "pygments_lexer": "ipython3",
   "version": "3.9.13"
  }
 },
 "nbformat": 4,
 "nbformat_minor": 5
}
