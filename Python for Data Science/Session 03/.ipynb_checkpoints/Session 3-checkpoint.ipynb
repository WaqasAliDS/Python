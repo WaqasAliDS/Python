{
 "cells": [
  {
   "cell_type": "markdown",
   "id": "ee2759e0",
   "metadata": {},
   "source": [
    "# Conditional Statement\n",
    "    * syntax:\n",
    "        if condition:\n",
    "            statement\n",
    "        else:\n",
    "            statement"
   ]
  },
  {
   "cell_type": "code",
   "execution_count": 1,
   "id": "f2b975b6",
   "metadata": {},
   "outputs": [
    {
     "name": "stdout",
     "output_type": "stream",
     "text": [
      "Eligible to Vote\n"
     ]
    }
   ],
   "source": [
    "age = 19\n",
    "\n",
    "if age >= 18:\n",
    "    print(\"Eligible to Vote\")\n",
    "else:\n",
    "    print(\"Not Eligible to Vote\")"
   ]
  },
  {
   "cell_type": "code",
   "execution_count": 2,
   "id": "a6a5f0a8",
   "metadata": {},
   "outputs": [
    {
     "name": "stdout",
     "output_type": "stream",
     "text": [
      "Not Eligible to Vote\n"
     ]
    }
   ],
   "source": [
    "age = 17\n",
    "\n",
    "if age >= 18:\n",
    "    print(\"Eligible to Vote\")\n",
    "else:\n",
    "    print(\"Not Eligible to Vote\")"
   ]
  },
  {
   "cell_type": "code",
   "execution_count": 3,
   "id": "5f483791",
   "metadata": {},
   "outputs": [
    {
     "data": {
      "text/plain": [
       "False"
      ]
     },
     "execution_count": 3,
     "metadata": {},
     "output_type": "execute_result"
    }
   ],
   "source": [
    "age >= 18"
   ]
  },
  {
   "cell_type": "code",
   "execution_count": 4,
   "id": "4822ffde",
   "metadata": {},
   "outputs": [
    {
     "name": "stdout",
     "output_type": "stream",
     "text": [
      "Eligible to Vote\n"
     ]
    }
   ],
   "source": [
    "age = 17\n",
    "\n",
    "if True:\n",
    "    print(\"Eligible to Vote\")\n",
    "else:\n",
    "    print(\"Not Eligible to Vote\")"
   ]
  },
  {
   "cell_type": "markdown",
   "id": "933b9c1a",
   "metadata": {},
   "source": [
    "* `>` , `<` , `>=` , `<=` , `==`, `!=`"
   ]
  },
  {
   "cell_type": "code",
   "execution_count": 6,
   "id": "44baa1a8",
   "metadata": {},
   "outputs": [
    {
     "data": {
      "text/plain": [
       "97"
      ]
     },
     "execution_count": 6,
     "metadata": {},
     "output_type": "execute_result"
    }
   ],
   "source": [
    "ord(\"a\")"
   ]
  },
  {
   "cell_type": "code",
   "execution_count": 7,
   "id": "6fba5f9f",
   "metadata": {},
   "outputs": [
    {
     "data": {
      "text/plain": [
       "65"
      ]
     },
     "execution_count": 7,
     "metadata": {},
     "output_type": "execute_result"
    }
   ],
   "source": [
    "ord(\"A\")"
   ]
  },
  {
   "cell_type": "code",
   "execution_count": 8,
   "id": "931ebab9",
   "metadata": {},
   "outputs": [
    {
     "data": {
      "text/plain": [
       "128523"
      ]
     },
     "execution_count": 8,
     "metadata": {},
     "output_type": "execute_result"
    }
   ],
   "source": [
    "ord(\"😋\")"
   ]
  },
  {
   "cell_type": "code",
   "execution_count": 10,
   "id": "71377a9d",
   "metadata": {},
   "outputs": [
    {
     "data": {
      "text/plain": [
       "'😍'"
      ]
     },
     "execution_count": 10,
     "metadata": {},
     "output_type": "execute_result"
    }
   ],
   "source": [
    "chr(128525)"
   ]
  },
  {
   "cell_type": "code",
   "execution_count": 11,
   "id": "30dbdac0",
   "metadata": {},
   "outputs": [
    {
     "data": {
      "text/plain": [
       "'ÿ'"
      ]
     },
     "execution_count": 11,
     "metadata": {},
     "output_type": "execute_result"
    }
   ],
   "source": [
    "chr(255)"
   ]
  },
  {
   "cell_type": "code",
   "execution_count": 14,
   "id": "967354ff",
   "metadata": {},
   "outputs": [
    {
     "data": {
      "text/plain": [
       "<_io.TextIOWrapper name='students_data.csv' mode='r' encoding='utf-8'>"
      ]
     },
     "execution_count": 14,
     "metadata": {},
     "output_type": "execute_result"
    }
   ],
   "source": [
    "open_file = open(\"students_data.csv\", encoding = \"utf-8\")\n",
    "open_file"
   ]
  },
  {
   "cell_type": "code",
   "execution_count": 15,
   "id": "69484b80",
   "metadata": {},
   "outputs": [],
   "source": [
    "import csv"
   ]
  },
  {
   "cell_type": "code",
   "execution_count": 16,
   "id": "c4f94c40",
   "metadata": {},
   "outputs": [
    {
     "data": {
      "text/plain": [
       "<_csv.reader at 0x2a596080940>"
      ]
     },
     "execution_count": 16,
     "metadata": {},
     "output_type": "execute_result"
    }
   ],
   "source": [
    "read_file = csv.reader(open_file)\n",
    "read_file"
   ]
  },
  {
   "cell_type": "code",
   "execution_count": 17,
   "id": "22674375",
   "metadata": {},
   "outputs": [],
   "source": [
    "dataset = list(read_file)"
   ]
  },
  {
   "cell_type": "code",
   "execution_count": 18,
   "id": "5779ee5f",
   "metadata": {},
   "outputs": [
    {
     "data": {
      "text/plain": [
       "[['Roll No.', 'Name', 'Chemistry', 'Physics', 'Maths'],\n",
       " ['101', 'Aliza', '45', '99', '88'],\n",
       " ['102', 'Soban', '50', '97', '87'],\n",
       " ['103', 'Noman', '43', '94', '89'],\n",
       " ['104', 'Bilal', '42', '87', '85'],\n",
       " ['105', 'Saim', '39', '76', '76'],\n",
       " ['106', 'Shameer', '38', '58', '75'],\n",
       " ['107', 'Zainab', '47', '92', '78'],\n",
       " ['108', 'Umer', '46', '86', '73'],\n",
       " ['109', 'Umair', '35', '83', '89'],\n",
       " ['110', 'Fizzah', '36', '81', '97'],\n",
       " ['111', 'Zahra', '49', '90', '94'],\n",
       " ['112', 'Fatima', '45', '88', '99'],\n",
       " ['113', 'Tooba', '43', '80', '93'],\n",
       " ['114', 'Saad', '42', '90', '77'],\n",
       " ['115', 'Azher', '41', '93', '98'],\n",
       " ['116', 'Danial', '34', '82', '87'],\n",
       " ['117', 'kaiser', '45', '91', '86'],\n",
       " ['118', 'Jibran', '46', '77', '78'],\n",
       " ['119', 'Maria', '43', '69', '94'],\n",
       " ['120', 'Amna', '38', '89', '91'],\n",
       " ['121', 'Noreen', '37', '98', '90']]"
      ]
     },
     "execution_count": 18,
     "metadata": {},
     "output_type": "execute_result"
    }
   ],
   "source": [
    "dataset"
   ]
  },
  {
   "cell_type": "code",
   "execution_count": 19,
   "id": "951e92a2",
   "metadata": {},
   "outputs": [
    {
     "data": {
      "text/plain": [
       "22"
      ]
     },
     "execution_count": 19,
     "metadata": {},
     "output_type": "execute_result"
    }
   ],
   "source": [
    "len(dataset)"
   ]
  },
  {
   "cell_type": "code",
   "execution_count": 21,
   "id": "b199a503",
   "metadata": {},
   "outputs": [
    {
     "data": {
      "text/plain": [
       "[['101', 'Aliza', '45', '99', '88'],\n",
       " ['102', 'Soban', '50', '97', '87'],\n",
       " ['103', 'Noman', '43', '94', '89'],\n",
       " ['104', 'Bilal', '42', '87', '85'],\n",
       " ['105', 'Saim', '39', '76', '76']]"
      ]
     },
     "execution_count": 21,
     "metadata": {},
     "output_type": "execute_result"
    }
   ],
   "source": [
    "dataset[1:6]"
   ]
  },
  {
   "cell_type": "code",
   "execution_count": 22,
   "id": "3d85bbfd",
   "metadata": {},
   "outputs": [
    {
     "data": {
      "text/plain": [
       "[['101', 'Aliza', '45', '99', '88'],\n",
       " ['102', 'Soban', '50', '97', '87'],\n",
       " ['103', 'Noman', '43', '94', '89'],\n",
       " ['104', 'Bilal', '42', '87', '85'],\n",
       " ['105', 'Saim', '39', '76', '76'],\n",
       " ['106', 'Shameer', '38', '58', '75'],\n",
       " ['107', 'Zainab', '47', '92', '78'],\n",
       " ['108', 'Umer', '46', '86', '73'],\n",
       " ['109', 'Umair', '35', '83', '89'],\n",
       " ['110', 'Fizzah', '36', '81', '97'],\n",
       " ['111', 'Zahra', '49', '90', '94'],\n",
       " ['112', 'Fatima', '45', '88', '99'],\n",
       " ['113', 'Tooba', '43', '80', '93'],\n",
       " ['114', 'Saad', '42', '90', '77'],\n",
       " ['115', 'Azher', '41', '93', '98'],\n",
       " ['116', 'Danial', '34', '82', '87'],\n",
       " ['117', 'kaiser', '45', '91', '86'],\n",
       " ['118', 'Jibran', '46', '77', '78'],\n",
       " ['119', 'Maria', '43', '69', '94'],\n",
       " ['120', 'Amna', '38', '89', '91'],\n",
       " ['121', 'Noreen', '37', '98', '90']]"
      ]
     },
     "execution_count": 22,
     "metadata": {},
     "output_type": "execute_result"
    }
   ],
   "source": [
    "dataset[1:]"
   ]
  },
  {
   "cell_type": "code",
   "execution_count": 23,
   "id": "592960ae",
   "metadata": {},
   "outputs": [
    {
     "data": {
      "text/plain": [
       "[['Roll No.', 'Name', 'Chemistry', 'Physics', 'Maths'],\n",
       " ['101', 'Aliza', '45', '99', '88'],\n",
       " ['102', 'Soban', '50', '97', '87'],\n",
       " ['103', 'Noman', '43', '94', '89'],\n",
       " ['104', 'Bilal', '42', '87', '85']]"
      ]
     },
     "execution_count": 23,
     "metadata": {},
     "output_type": "execute_result"
    }
   ],
   "source": [
    "dataset[:5]"
   ]
  },
  {
   "cell_type": "code",
   "execution_count": 25,
   "id": "bbc1405a",
   "metadata": {},
   "outputs": [
    {
     "name": "stdout",
     "output_type": "stream",
     "text": [
      "45\n",
      "50\n",
      "43\n",
      "42\n",
      "39\n",
      "38\n",
      "47\n",
      "46\n",
      "35\n",
      "36\n",
      "49\n",
      "45\n",
      "43\n",
      "42\n",
      "41\n",
      "34\n",
      "45\n",
      "46\n",
      "43\n",
      "38\n",
      "37\n"
     ]
    }
   ],
   "source": [
    "for i in dataset[1:]:\n",
    "    print(i[-3])"
   ]
  },
  {
   "cell_type": "code",
   "execution_count": 26,
   "id": "3281b712",
   "metadata": {},
   "outputs": [
    {
     "name": "stdout",
     "output_type": "stream",
     "text": [
      "<class 'str'>\n",
      "<class 'str'>\n",
      "<class 'str'>\n",
      "<class 'str'>\n",
      "<class 'str'>\n",
      "<class 'str'>\n",
      "<class 'str'>\n",
      "<class 'str'>\n",
      "<class 'str'>\n",
      "<class 'str'>\n",
      "<class 'str'>\n",
      "<class 'str'>\n",
      "<class 'str'>\n",
      "<class 'str'>\n",
      "<class 'str'>\n",
      "<class 'str'>\n",
      "<class 'str'>\n",
      "<class 'str'>\n",
      "<class 'str'>\n",
      "<class 'str'>\n",
      "<class 'str'>\n"
     ]
    }
   ],
   "source": [
    "for i in dataset[1:]:\n",
    "    print(type(i[-3]))"
   ]
  },
  {
   "cell_type": "code",
   "execution_count": 27,
   "id": "97bbf2e9",
   "metadata": {},
   "outputs": [
    {
     "data": {
      "text/plain": [
       "45"
      ]
     },
     "execution_count": 27,
     "metadata": {},
     "output_type": "execute_result"
    }
   ],
   "source": [
    "int(\"45\")"
   ]
  },
  {
   "cell_type": "code",
   "execution_count": 28,
   "id": "a65a25bb",
   "metadata": {},
   "outputs": [
    {
     "ename": "ValueError",
     "evalue": "invalid literal for int() with base 10: '4.5'",
     "output_type": "error",
     "traceback": [
      "\u001b[1;31m---------------------------------------------------------------------------\u001b[0m",
      "\u001b[1;31mValueError\u001b[0m                                Traceback (most recent call last)",
      "\u001b[1;32m~\\AppData\\Local\\Temp\\ipykernel_5508\\3555043550.py\u001b[0m in \u001b[0;36m<module>\u001b[1;34m\u001b[0m\n\u001b[1;32m----> 1\u001b[1;33m \u001b[0mint\u001b[0m\u001b[1;33m(\u001b[0m\u001b[1;34m\"4.5\"\u001b[0m\u001b[1;33m)\u001b[0m\u001b[1;33m\u001b[0m\u001b[1;33m\u001b[0m\u001b[0m\n\u001b[0m",
      "\u001b[1;31mValueError\u001b[0m: invalid literal for int() with base 10: '4.5'"
     ]
    }
   ],
   "source": [
    "int(\"4.5\")"
   ]
  },
  {
   "cell_type": "code",
   "execution_count": 30,
   "id": "f3115999",
   "metadata": {},
   "outputs": [
    {
     "data": {
      "text/plain": [
       "4"
      ]
     },
     "execution_count": 30,
     "metadata": {},
     "output_type": "execute_result"
    }
   ],
   "source": [
    "int(float(\"4.5\"))"
   ]
  },
  {
   "cell_type": "code",
   "execution_count": 31,
   "id": "e5a5dc70",
   "metadata": {},
   "outputs": [
    {
     "name": "stdout",
     "output_type": "stream",
     "text": [
      "<class 'int'>\n",
      "<class 'int'>\n",
      "<class 'int'>\n",
      "<class 'int'>\n",
      "<class 'int'>\n",
      "<class 'int'>\n",
      "<class 'int'>\n",
      "<class 'int'>\n",
      "<class 'int'>\n",
      "<class 'int'>\n",
      "<class 'int'>\n",
      "<class 'int'>\n",
      "<class 'int'>\n",
      "<class 'int'>\n",
      "<class 'int'>\n",
      "<class 'int'>\n",
      "<class 'int'>\n",
      "<class 'int'>\n",
      "<class 'int'>\n",
      "<class 'int'>\n",
      "<class 'int'>\n"
     ]
    }
   ],
   "source": [
    "for i in dataset[1:]:\n",
    "    chem = int(i[-3])\n",
    "    print(type(chem))"
   ]
  },
  {
   "cell_type": "code",
   "execution_count": 32,
   "id": "ea0512df",
   "metadata": {},
   "outputs": [],
   "source": [
    "chemistry = []\n",
    "\n",
    "for i in dataset[1:]:\n",
    "    chem = int(i[-3])\n",
    "    chemistry.append(chem)"
   ]
  },
  {
   "cell_type": "code",
   "execution_count": 34,
   "id": "2ea9941a",
   "metadata": {},
   "outputs": [
    {
     "name": "stdout",
     "output_type": "stream",
     "text": [
      "[45, 50, 43, 42, 39, 38, 47, 46, 35, 36, 49, 45, 43, 42, 41, 34, 45, 46, 43, 38, 37]\n"
     ]
    }
   ],
   "source": [
    "print(chemistry)"
   ]
  },
  {
   "cell_type": "code",
   "execution_count": 38,
   "id": "6eccb482",
   "metadata": {},
   "outputs": [
    {
     "data": {
      "text/plain": [
       "42.1"
      ]
     },
     "execution_count": 38,
     "metadata": {},
     "output_type": "execute_result"
    }
   ],
   "source": [
    "round(sum(chemistry)/len(chemistry), 2)"
   ]
  },
  {
   "cell_type": "code",
   "execution_count": 39,
   "id": "d73f27b9",
   "metadata": {},
   "outputs": [
    {
     "data": {
      "text/plain": [
       "[['Roll No.', 'Name', 'Chemistry', 'Physics', 'Maths'],\n",
       " ['101', 'Aliza', '45', '99', '88'],\n",
       " ['102', 'Soban', '50', '97', '87'],\n",
       " ['103', 'Noman', '43', '94', '89'],\n",
       " ['104', 'Bilal', '42', '87', '85'],\n",
       " ['105', 'Saim', '39', '76', '76'],\n",
       " ['106', 'Shameer', '38', '58', '75'],\n",
       " ['107', 'Zainab', '47', '92', '78'],\n",
       " ['108', 'Umer', '46', '86', '73'],\n",
       " ['109', 'Umair', '35', '83', '89'],\n",
       " ['110', 'Fizzah', '36', '81', '97'],\n",
       " ['111', 'Zahra', '49', '90', '94'],\n",
       " ['112', 'Fatima', '45', '88', '99'],\n",
       " ['113', 'Tooba', '43', '80', '93'],\n",
       " ['114', 'Saad', '42', '90', '77'],\n",
       " ['115', 'Azher', '41', '93', '98'],\n",
       " ['116', 'Danial', '34', '82', '87'],\n",
       " ['117', 'kaiser', '45', '91', '86'],\n",
       " ['118', 'Jibran', '46', '77', '78'],\n",
       " ['119', 'Maria', '43', '69', '94'],\n",
       " ['120', 'Amna', '38', '89', '91'],\n",
       " ['121', 'Noreen', '37', '98', '90']]"
      ]
     },
     "execution_count": 39,
     "metadata": {},
     "output_type": "execute_result"
    }
   ],
   "source": [
    "dataset"
   ]
  },
  {
   "cell_type": "code",
   "execution_count": 40,
   "id": "5cac1ac2",
   "metadata": {},
   "outputs": [],
   "source": [
    "for i in dataset[1:]:\n",
    "    i[-3] = int(i[-3])\n",
    "    i[-2] = int(i[-2])\n",
    "    i[-1] = int(i[-1])"
   ]
  },
  {
   "cell_type": "code",
   "execution_count": 41,
   "id": "6b5c9b71",
   "metadata": {},
   "outputs": [
    {
     "data": {
      "text/plain": [
       "[['Roll No.', 'Name', 'Chemistry', 'Physics', 'Maths'],\n",
       " ['101', 'Aliza', 45, 99, 88],\n",
       " ['102', 'Soban', 50, 97, 87],\n",
       " ['103', 'Noman', 43, 94, 89],\n",
       " ['104', 'Bilal', 42, 87, 85],\n",
       " ['105', 'Saim', 39, 76, 76],\n",
       " ['106', 'Shameer', 38, 58, 75],\n",
       " ['107', 'Zainab', 47, 92, 78],\n",
       " ['108', 'Umer', 46, 86, 73],\n",
       " ['109', 'Umair', 35, 83, 89],\n",
       " ['110', 'Fizzah', 36, 81, 97],\n",
       " ['111', 'Zahra', 49, 90, 94],\n",
       " ['112', 'Fatima', 45, 88, 99],\n",
       " ['113', 'Tooba', 43, 80, 93],\n",
       " ['114', 'Saad', 42, 90, 77],\n",
       " ['115', 'Azher', 41, 93, 98],\n",
       " ['116', 'Danial', 34, 82, 87],\n",
       " ['117', 'kaiser', 45, 91, 86],\n",
       " ['118', 'Jibran', 46, 77, 78],\n",
       " ['119', 'Maria', 43, 69, 94],\n",
       " ['120', 'Amna', 38, 89, 91],\n",
       " ['121', 'Noreen', 37, 98, 90]]"
      ]
     },
     "execution_count": 41,
     "metadata": {},
     "output_type": "execute_result"
    }
   ],
   "source": [
    "dataset"
   ]
  },
  {
   "cell_type": "code",
   "execution_count": 43,
   "id": "d9a015fa",
   "metadata": {},
   "outputs": [],
   "source": [
    "dataset[0].append(\"Percentage\")"
   ]
  },
  {
   "cell_type": "code",
   "execution_count": 44,
   "id": "d041a678",
   "metadata": {},
   "outputs": [
    {
     "data": {
      "text/plain": [
       "[['Roll No.', 'Name', 'Chemistry', 'Physics', 'Maths', 'Percentage'],\n",
       " ['101', 'Aliza', 45, 99, 88],\n",
       " ['102', 'Soban', 50, 97, 87],\n",
       " ['103', 'Noman', 43, 94, 89],\n",
       " ['104', 'Bilal', 42, 87, 85],\n",
       " ['105', 'Saim', 39, 76, 76],\n",
       " ['106', 'Shameer', 38, 58, 75],\n",
       " ['107', 'Zainab', 47, 92, 78],\n",
       " ['108', 'Umer', 46, 86, 73],\n",
       " ['109', 'Umair', 35, 83, 89],\n",
       " ['110', 'Fizzah', 36, 81, 97],\n",
       " ['111', 'Zahra', 49, 90, 94],\n",
       " ['112', 'Fatima', 45, 88, 99],\n",
       " ['113', 'Tooba', 43, 80, 93],\n",
       " ['114', 'Saad', 42, 90, 77],\n",
       " ['115', 'Azher', 41, 93, 98],\n",
       " ['116', 'Danial', 34, 82, 87],\n",
       " ['117', 'kaiser', 45, 91, 86],\n",
       " ['118', 'Jibran', 46, 77, 78],\n",
       " ['119', 'Maria', 43, 69, 94],\n",
       " ['120', 'Amna', 38, 89, 91],\n",
       " ['121', 'Noreen', 37, 98, 90]]"
      ]
     },
     "execution_count": 44,
     "metadata": {},
     "output_type": "execute_result"
    }
   ],
   "source": [
    "dataset"
   ]
  },
  {
   "cell_type": "code",
   "execution_count": 46,
   "id": "4636d784",
   "metadata": {},
   "outputs": [
    {
     "name": "stdout",
     "output_type": "stream",
     "text": [
      "77.33\n",
      "78.0\n",
      "75.33\n",
      "71.33\n",
      "63.67\n",
      "57.0\n",
      "72.33\n",
      "68.33\n",
      "69.0\n",
      "71.33\n",
      "77.67\n",
      "77.33\n",
      "72.0\n",
      "69.67\n",
      "77.33\n",
      "67.67\n",
      "74.0\n",
      "67.0\n",
      "68.67\n",
      "72.67\n",
      "75.0\n"
     ]
    }
   ],
   "source": [
    "for i in dataset[1:]:\n",
    "    percentage = (i[-3] + i[-2] + i[-1]) / 300 * 100\n",
    "    percentage = round(percentage,2)\n",
    "    print(percentage)"
   ]
  },
  {
   "cell_type": "code",
   "execution_count": 47,
   "id": "4ddf1db2",
   "metadata": {},
   "outputs": [],
   "source": [
    "for i in dataset[1:]:\n",
    "    percentage = (i[-3] + i[-2] + i[-1]) / 300 * 100\n",
    "    percentage = round(percentage,2)\n",
    "    i.append(percentage)"
   ]
  },
  {
   "cell_type": "code",
   "execution_count": 48,
   "id": "da9c8312",
   "metadata": {},
   "outputs": [
    {
     "data": {
      "text/plain": [
       "[['Roll No.', 'Name', 'Chemistry', 'Physics', 'Maths', 'Percentage'],\n",
       " ['101', 'Aliza', 45, 99, 88, 77.33],\n",
       " ['102', 'Soban', 50, 97, 87, 78.0],\n",
       " ['103', 'Noman', 43, 94, 89, 75.33],\n",
       " ['104', 'Bilal', 42, 87, 85, 71.33],\n",
       " ['105', 'Saim', 39, 76, 76, 63.67],\n",
       " ['106', 'Shameer', 38, 58, 75, 57.0],\n",
       " ['107', 'Zainab', 47, 92, 78, 72.33],\n",
       " ['108', 'Umer', 46, 86, 73, 68.33],\n",
       " ['109', 'Umair', 35, 83, 89, 69.0],\n",
       " ['110', 'Fizzah', 36, 81, 97, 71.33],\n",
       " ['111', 'Zahra', 49, 90, 94, 77.67],\n",
       " ['112', 'Fatima', 45, 88, 99, 77.33],\n",
       " ['113', 'Tooba', 43, 80, 93, 72.0],\n",
       " ['114', 'Saad', 42, 90, 77, 69.67],\n",
       " ['115', 'Azher', 41, 93, 98, 77.33],\n",
       " ['116', 'Danial', 34, 82, 87, 67.67],\n",
       " ['117', 'kaiser', 45, 91, 86, 74.0],\n",
       " ['118', 'Jibran', 46, 77, 78, 67.0],\n",
       " ['119', 'Maria', 43, 69, 94, 68.67],\n",
       " ['120', 'Amna', 38, 89, 91, 72.67],\n",
       " ['121', 'Noreen', 37, 98, 90, 75.0]]"
      ]
     },
     "execution_count": 48,
     "metadata": {},
     "output_type": "execute_result"
    }
   ],
   "source": [
    "dataset"
   ]
  },
  {
   "cell_type": "code",
   "execution_count": 50,
   "id": "799612b8",
   "metadata": {},
   "outputs": [
    {
     "data": {
      "text/plain": [
       "['Roll No.', 'Name', 'Chemistry', 'Physics', 'Maths', 'Percentage', 'Remarks']"
      ]
     },
     "execution_count": 50,
     "metadata": {},
     "output_type": "execute_result"
    }
   ],
   "source": [
    "dataset[0].append(\"Remarks\")\n",
    "dataset[0]"
   ]
  },
  {
   "cell_type": "code",
   "execution_count": 51,
   "id": "305193bc",
   "metadata": {},
   "outputs": [],
   "source": [
    "for i in dataset[1:]:\n",
    "    percentage = i[-1]\n",
    "    if percentage >= 70:\n",
    "        i.append(\"Excellent\")\n",
    "    else:\n",
    "        i.append(\"Average\")"
   ]
  },
  {
   "cell_type": "code",
   "execution_count": 52,
   "id": "796582ed",
   "metadata": {},
   "outputs": [
    {
     "data": {
      "text/plain": [
       "[['Roll No.',\n",
       "  'Name',\n",
       "  'Chemistry',\n",
       "  'Physics',\n",
       "  'Maths',\n",
       "  'Percentage',\n",
       "  'Remarks'],\n",
       " ['101', 'Aliza', 45, 99, 88, 77.33, 'Excellent'],\n",
       " ['102', 'Soban', 50, 97, 87, 78.0, 'Excellent'],\n",
       " ['103', 'Noman', 43, 94, 89, 75.33, 'Excellent'],\n",
       " ['104', 'Bilal', 42, 87, 85, 71.33, 'Excellent'],\n",
       " ['105', 'Saim', 39, 76, 76, 63.67, 'Average'],\n",
       " ['106', 'Shameer', 38, 58, 75, 57.0, 'Average'],\n",
       " ['107', 'Zainab', 47, 92, 78, 72.33, 'Excellent'],\n",
       " ['108', 'Umer', 46, 86, 73, 68.33, 'Average'],\n",
       " ['109', 'Umair', 35, 83, 89, 69.0, 'Average'],\n",
       " ['110', 'Fizzah', 36, 81, 97, 71.33, 'Excellent'],\n",
       " ['111', 'Zahra', 49, 90, 94, 77.67, 'Excellent'],\n",
       " ['112', 'Fatima', 45, 88, 99, 77.33, 'Excellent'],\n",
       " ['113', 'Tooba', 43, 80, 93, 72.0, 'Excellent'],\n",
       " ['114', 'Saad', 42, 90, 77, 69.67, 'Average'],\n",
       " ['115', 'Azher', 41, 93, 98, 77.33, 'Excellent'],\n",
       " ['116', 'Danial', 34, 82, 87, 67.67, 'Average'],\n",
       " ['117', 'kaiser', 45, 91, 86, 74.0, 'Excellent'],\n",
       " ['118', 'Jibran', 46, 77, 78, 67.0, 'Average'],\n",
       " ['119', 'Maria', 43, 69, 94, 68.67, 'Average'],\n",
       " ['120', 'Amna', 38, 89, 91, 72.67, 'Excellent'],\n",
       " ['121', 'Noreen', 37, 98, 90, 75.0, 'Excellent']]"
      ]
     },
     "execution_count": 52,
     "metadata": {},
     "output_type": "execute_result"
    }
   ],
   "source": [
    "dataset"
   ]
  },
  {
   "cell_type": "code",
   "execution_count": null,
   "id": "089ce115",
   "metadata": {},
   "outputs": [],
   "source": []
  }
 ],
 "metadata": {
  "kernelspec": {
   "display_name": "Python 3 (ipykernel)",
   "language": "python",
   "name": "python3"
  },
  "language_info": {
   "codemirror_mode": {
    "name": "ipython",
    "version": 3
   },
   "file_extension": ".py",
   "mimetype": "text/x-python",
   "name": "python",
   "nbconvert_exporter": "python",
   "pygments_lexer": "ipython3",
   "version": "3.9.13"
  }
 },
 "nbformat": 4,
 "nbformat_minor": 5
}
