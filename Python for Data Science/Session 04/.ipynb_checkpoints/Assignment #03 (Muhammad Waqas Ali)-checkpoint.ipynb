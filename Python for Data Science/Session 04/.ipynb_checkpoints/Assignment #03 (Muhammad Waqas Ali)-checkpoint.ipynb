{
 "cells": [
  {
   "cell_type": "markdown",
   "id": "a079062c",
   "metadata": {},
   "source": [
    "# Conditional Statement"
   ]
  },
  {
   "cell_type": "markdown",
   "id": "d3e2376f",
   "metadata": {},
   "source": [
    "    In Python, a conditional statement is used to execute a block of code if a certain condition is met. The syntax for a basic conditional statement using an if statement is as follows:\n",
    " \n",
    "     if condition:\n",
    "             #execute this block of code if condition is True\n",
    "     else:\n",
    "             #execute this block of code if condition is False\n",
    "    \n",
    "    Conditional statements in Python, work based on a Boolean expression that evaluates to either True or False. The statement block associated with the if statement will only be executed if the Boolean expression is True.\n",
    "\n",
    "    In Python, any value can be evaluated as a Boolean expression. However, the following values are considered to be False in a Boolean context:\n",
    "\n",
    "    False\n",
    "    None\n",
    "    0 (integer)\n",
    "    0.0 (float)\n",
    "    '' or \"\" (empty string)\n",
    "    [] (empty list)\n",
    "    () (empty tuple)\n",
    "    {} (empty dictionary)\n",
    "    set() (empty set)\n",
    "    Any other value not listed above will be evaluated as True in a Boolean context.\n",
    "\n",
    "    So, the value of the conditional statement in Python depends on the Boolean expression being evaluated. If the Boolean expression is True, the statement block associated with the if statement will be executed; if the Boolean expression is False, the statement block will be skipped.\n",
    "\n",
    "    Here is an example of using a conditional statement in Python:"
   ]
  },
  {
   "cell_type": "code",
   "execution_count": 1,
   "id": "d62bce39",
   "metadata": {},
   "outputs": [
    {
     "name": "stdout",
     "output_type": "stream",
     "text": [
      "Stop\n"
     ]
    }
   ],
   "source": [
    "signal=\"red\"\n",
    "if signal==\"Green\":\n",
    "    print(\"Pass\")\n",
    "else:\n",
    "    print(\"Stop\")"
   ]
  },
  {
   "cell_type": "markdown",
   "id": "b4706357",
   "metadata": {},
   "source": [
    "Here is another example of condtional statement."
   ]
  },
  {
   "cell_type": "code",
   "execution_count": 2,
   "id": "1497b494",
   "metadata": {},
   "outputs": [
    {
     "name": "stdout",
     "output_type": "stream",
     "text": [
      "Eligible to Vote\n"
     ]
    }
   ],
   "source": [
    "age=18\n",
    "if age>=18:\n",
    "    print(\"Eligible to Vote\")\n",
    "else:\n",
    "    print(\"Not Eligible to Vote\")"
   ]
  },
  {
   "cell_type": "markdown",
   "id": "896f0083",
   "metadata": {},
   "source": [
    "Let's take a little complex example of condtional statement."
   ]
  },
  {
   "cell_type": "markdown",
   "id": "a1a8a7b3",
   "metadata": {},
   "source": [
    "    Using following list of cities per country,\n",
    "    india = [\"mumbai\", \"banglore\", \"chennai\", \"delhi\"]\n",
    "    pakistan = [\"lahore\",\"karachi\",\"islamabad\"]\n",
    "    bangladesh = [\"dhaka\", \"khulna\", \"rangpur\"]\n",
    "    Write a program that asks user to enter a city name and it should tell which country the city belongs to?"
   ]
  },
  {
   "cell_type": "code",
   "execution_count": 3,
   "id": "dcdc75dc",
   "metadata": {},
   "outputs": [
    {
     "name": "stdout",
     "output_type": "stream",
     "text": [
      "Enter the name of the city:karachi\n",
      "This city is located in Pakistan\n"
     ]
    }
   ],
   "source": [
    "india = [\"mumbai\", \"banglore\", \"chennai\", \"delhi\"]\n",
    "pakistan = [\"lahore\",\"karachi\",\"islamabad\"]\n",
    "bangladesh = [\"dhaka\", \"khulna\", \"rangpur\"]\n",
    "\n",
    "city=input(\"Enter the name of the city:\")\n",
    "if city in india:\n",
    "    print(\"This city is located in India\")\n",
    "elif city in pakistan:\n",
    "    print(\"This city is located in Pakistan\")\n",
    "elif city in bangladesh:\n",
    "    print(\"This city is located in Bangladesh\")\n",
    "else:\n",
    "    print(\"This city is not belongs to the given list.\")"
   ]
  },
  {
   "cell_type": "markdown",
   "id": "ed0afb7b",
   "metadata": {},
   "source": [
    "### Explanation\n",
    "The given code is an example of using conditional statements to check if a given city name belongs to a particular country.\n",
    "\n",
    "The code defines three lists: india, pakistan, and bangladesh, each containing the names of cities located in those countries.\n",
    "\n",
    "The user is then prompted to enter the name of a city using the input() function, and the input is stored in the city variable.\n",
    "\n",
    "Note: In Python, the input() function is used to accept user input from the keyboard. It takes a single optional argument, which is a prompt to be displayed to the user before they enter their input.\n",
    "\n",
    "The code then checks if the value of city is present in the india list using the in operator. If it is, the code prints the message \"This city is located in India\". If it is not, the code proceeds to check if it is present in the pakistan list, and so on. If the value of city is not present in any of the lists, the code prints the message \"This city is not belongs to the given list.\".\n",
    "In the above code, the user enters the city name \"karachi\", which is present in the pakistan list. Therefore, the code prints the message \"This city is located in Pakistan\"."
   ]
  },
  {
   "cell_type": "markdown",
   "id": "0d783263",
   "metadata": {},
   "source": [
    "# Unicode\n",
    "    In Python, the ord() and chr() functions are used to convert characters to their corresponding Unicode code points and vice versa.\n",
    "\n",
    "    The ord() function takes a single character as an argument and returns its corresponding Unicode code point as an integer. For example:"
   ]
  },
  {
   "cell_type": "code",
   "execution_count": 4,
   "id": "9b27ece7",
   "metadata": {},
   "outputs": [
    {
     "data": {
      "text/plain": [
       "99"
      ]
     },
     "execution_count": 4,
     "metadata": {},
     "output_type": "execute_result"
    }
   ],
   "source": [
    "ord(\"c\")"
   ]
  },
  {
   "cell_type": "markdown",
   "id": "50c8732b",
   "metadata": {},
   "source": [
    "In this example, the ord() function returns the integer '99', which is the Unicode code point for the uppercase letter 'c'."
   ]
  },
  {
   "cell_type": "markdown",
   "id": "3eb9e03a",
   "metadata": {},
   "source": [
    "The chr() function takes an integer as an argument and returns the corresponding character as a string. For example:"
   ]
  },
  {
   "cell_type": "code",
   "execution_count": 5,
   "id": "538660f6",
   "metadata": {},
   "outputs": [
    {
     "data": {
      "text/plain": [
       "'A'"
      ]
     },
     "execution_count": 5,
     "metadata": {},
     "output_type": "execute_result"
    }
   ],
   "source": [
    "chr(65)"
   ]
  },
  {
   "cell_type": "markdown",
   "id": "2d056c75",
   "metadata": {},
   "source": [
    "In this example, the chr() function returns the string 'A', which is the character corresponding to the Unicode code point 65.\n",
    "\n"
   ]
  },
  {
   "cell_type": "markdown",
   "id": "a880df3e",
   "metadata": {},
   "source": [
    "# Importing CSV File in Python\n",
    "        In Python, you can import a CSV file using the csv module, which is part of Python's standard library. The csv module provides functionality for reading and writing CSV files.\n",
    "\n",
    "    Here's an example of how to import a CSV file in Python:"
   ]
  },
  {
   "cell_type": "code",
   "execution_count": 6,
   "id": "79ad1d9d",
   "metadata": {
    "scrolled": true
   },
   "outputs": [
    {
     "ename": "FileNotFoundError",
     "evalue": "[Errno 2] No such file or directory: 'data.csv'",
     "output_type": "error",
     "traceback": [
      "\u001b[1;31m---------------------------------------------------------------------------\u001b[0m",
      "\u001b[1;31mFileNotFoundError\u001b[0m                         Traceback (most recent call last)",
      "\u001b[1;32m~\\AppData\\Local\\Temp\\ipykernel_7736\\349719266.py\u001b[0m in \u001b[0;36m<module>\u001b[1;34m\u001b[0m\n\u001b[1;32m----> 1\u001b[1;33m \u001b[0mopen_file\u001b[0m\u001b[1;33m=\u001b[0m\u001b[0mopen\u001b[0m\u001b[1;33m(\u001b[0m\u001b[1;34m\"data.csv\"\u001b[0m\u001b[1;33m,\u001b[0m \u001b[0mencoding\u001b[0m\u001b[1;33m=\u001b[0m\u001b[1;34m\"utf-8\"\u001b[0m\u001b[1;33m)\u001b[0m\u001b[1;33m\u001b[0m\u001b[1;33m\u001b[0m\u001b[0m\n\u001b[0m\u001b[0;32m      2\u001b[0m \u001b[0mopen_file\u001b[0m\u001b[1;33m\u001b[0m\u001b[1;33m\u001b[0m\u001b[0m\n",
      "\u001b[1;31mFileNotFoundError\u001b[0m: [Errno 2] No such file or directory: 'data.csv'"
     ]
    }
   ],
   "source": [
    "open_file=open(\"data.csv\", encoding=\"utf-8\")\n",
    "open_file"
   ]
  },
  {
   "cell_type": "code",
   "execution_count": null,
   "id": "7d77518e",
   "metadata": {},
   "outputs": [],
   "source": [
    "import csv"
   ]
  },
  {
   "cell_type": "code",
   "execution_count": null,
   "id": "b3023f23",
   "metadata": {},
   "outputs": [],
   "source": [
    "read_file=csv.reader(open_file)\n",
    "read_file\n"
   ]
  },
  {
   "cell_type": "code",
   "execution_count": null,
   "id": "945995bf",
   "metadata": {},
   "outputs": [],
   "source": [
    "dataset = list(read_file)"
   ]
  },
  {
   "cell_type": "code",
   "execution_count": null,
   "id": "3921a8eb",
   "metadata": {},
   "outputs": [],
   "source": [
    "dataset"
   ]
  },
  {
   "cell_type": "markdown",
   "id": "abe024a5",
   "metadata": {},
   "source": [
    "Now Utilizing the above dataset, let's find out the average marks in chemistry. First let's print the individual marks of each student in chemistry and it's data type. "
   ]
  },
  {
   "cell_type": "code",
   "execution_count": null,
   "id": "2b242c17",
   "metadata": {},
   "outputs": [],
   "source": [
    "chem=[]\n",
    "for i in dataset[1:]: #Here we slice the data set because we do not need the header as it contains the string value and to calculate average we need integers.\n",
    "    chem.append(i[-3])\n",
    "print(chem,type(i[-3]))"
   ]
  },
  {
   "cell_type": "markdown",
   "id": "1faa72a9",
   "metadata": {},
   "source": [
    "Here we can see data type of markes is string. In order to calculate the average marks in chemistry we must have to convert string data types of marks into integer."
   ]
  },
  {
   "cell_type": "code",
   "execution_count": null,
   "id": "8c8dfc49",
   "metadata": {},
   "outputs": [],
   "source": [
    "for i in dataset[1:]:\n",
    "    i[-3] = int(i[-3])\n",
    "    i[-2] = int(i[-2])\n",
    "    i[-1] = int(i[-1])"
   ]
  },
  {
   "cell_type": "code",
   "execution_count": null,
   "id": "4456d7af",
   "metadata": {},
   "outputs": [],
   "source": [
    "chemistry=[]\n",
    "for i in dataset[1:]: #Here we slice the data set because we do not need the header as it contains the string value and to calculate average we need integers.\n",
    "    chem=i[-3]\n",
    "    chemistry.append(chem)\n",
    "    \n",
    "print(chemistry,type(chem))"
   ]
  },
  {
   "cell_type": "markdown",
   "id": "51cd8b24",
   "metadata": {},
   "source": [
    "Now we have converted the data type of all subject marks int into integer. Now we will calculate the average mark in chemistry."
   ]
  },
  {
   "cell_type": "code",
   "execution_count": null,
   "id": "38f13d7f",
   "metadata": {},
   "outputs": [],
   "source": [
    "average=sum(chemistry)/len(chemistry)\n",
    "print(\"Average marks in chemistry=\",average)"
   ]
  },
  {
   "cell_type": "markdown",
   "id": "ec08a454",
   "metadata": {},
   "source": [
    "Let's find out the percentage of each student "
   ]
  },
  {
   "cell_type": "code",
   "execution_count": null,
   "id": "c5a3591f",
   "metadata": {},
   "outputs": [],
   "source": [
    "for i in dataset[1:]:\n",
    "    percentage=(i[-3]+i[-2]+i[-1])/300*100\n",
    "    i.append(round(percentage,2))\n",
    "dataset[0].append(\"Percentage\")\n",
    "dataset"
   ]
  },
  {
   "cell_type": "markdown",
   "id": "ea9e400d",
   "metadata": {},
   "source": [
    "Here we can see that we append the percentage of each student."
   ]
  },
  {
   "cell_type": "markdown",
   "id": "04be2477",
   "metadata": {},
   "source": [
    "Let's append another coloumn of remarks and assign 'Excellent' to those who got 70+% and assign 'Average' to those who got less the 70%"
   ]
  },
  {
   "cell_type": "code",
   "execution_count": null,
   "id": "86634f9f",
   "metadata": {},
   "outputs": [],
   "source": [
    "for i in dataset[1:]:\n",
    "    i[-1]=int(i[-1])\n",
    "    percentage=i[-1]\n",
    "    if percentage>=70:\n",
    "        i.append(\"Excellent\")\n",
    "    else:\n",
    "        i.append(\"Average\")\n",
    "dataset[0].append(\"Remarks\")\n",
    "dataset\n",
    "    "
   ]
  },
  {
   "cell_type": "markdown",
   "id": "66b4797b",
   "metadata": {},
   "source": [
    "Here we can se that the \"Remarks\" column has appeared as the last column in each row of the dataset list."
   ]
  },
  {
   "cell_type": "markdown",
   "id": "caf9ecea",
   "metadata": {},
   "source": [
    "## Apple Store Data set\n",
    "    Now we are going to import applestore.csv as our new data set. This data set is comparetively bigger then our previous data set data.csv."
   ]
  },
  {
   "cell_type": "code",
   "execution_count": null,
   "id": "277596a1",
   "metadata": {},
   "outputs": [],
   "source": [
    "open_file2=open(\"AppleStore.csv\",encoding=\"utf-8\")"
   ]
  },
  {
   "cell_type": "code",
   "execution_count": null,
   "id": "61ffca69",
   "metadata": {},
   "outputs": [],
   "source": [
    "read_file2=csv.reader(open_file2)\n",
    "read_file2"
   ]
  },
  {
   "cell_type": "code",
   "execution_count": null,
   "id": "47f1baa9",
   "metadata": {
    "scrolled": true
   },
   "outputs": [],
   "source": [
    "apple_dataset=list(read_file2)\n",
    "print(apple_dataset[:5])"
   ]
  },
  {
   "cell_type": "markdown",
   "id": "2965701f",
   "metadata": {},
   "source": [
    "Here we have read our new dataset. Now by using this we will find out following things.\n",
    "First of all we will find the average of overall customer ratings."
   ]
  },
  {
   "cell_type": "code",
   "execution_count": null,
   "id": "b6391926",
   "metadata": {},
   "outputs": [],
   "source": [
    "print(apple_dataset[0])"
   ]
  },
  {
   "cell_type": "code",
   "execution_count": null,
   "id": "c3893cb8",
   "metadata": {},
   "outputs": [],
   "source": [
    "apple_dataset[0].index(\"user_rating\")"
   ]
  },
  {
   "cell_type": "markdown",
   "id": "55fd91f5",
   "metadata": {},
   "source": [
    "In above lind we find out the index number of \"user_rating\".\n",
    "Let's find the average user rating.\n"
   ]
  },
  {
   "cell_type": "code",
   "execution_count": null,
   "id": "2e5a51d3",
   "metadata": {},
   "outputs": [],
   "source": [
    "user_rating=[]\n",
    "for i in apple_dataset[1:]:\n",
    "    i[7]=float(i[7])\n",
    "    user_rating.append(i[7])\n",
    "average_user_rating=sum(user_rating)/len(user_rating)\n",
    "print(\"Average user rating=\",average_user_rating)   \n"
   ]
  },
  {
   "cell_type": "markdown",
   "id": "d03aa1bd",
   "metadata": {},
   "source": [
    "### Expalanation\n",
    "This code first initializes an empty list called user_rating to store the user rating values from the dataset. It then iterates over each row of the dataset (excluding the first row which contains the headers) and converts the 8th column value (which is contain the user rating) from a string to a float using the float() function. The converted user rating value is then appended to the user_rating list.\n",
    "\n",
    "Once all user rating values have been collected in the user_rating list, the code calculates the average user rating by summing up all the user rating values using the sum() function, dividing the sum by the length of the user_rating list using the len() function, and assigning the result to the variable average_user_rating. Finally, the code prints the average user rating value, rounded to two decimal places, using the print() function."
   ]
  },
  {
   "cell_type": "markdown",
   "id": "941f6b64",
   "metadata": {},
   "source": [
    "Buy visualizing the appstore data, we find same paid user rating. Let's segregate the average of paid user rating and unpaid user rating.\n",
    "Firstly we will find the unpaid user rating."
   ]
  },
  {
   "cell_type": "code",
   "execution_count": null,
   "id": "c9ed601a",
   "metadata": {},
   "outputs": [],
   "source": [
    "apple_dataset[0].index(\"price\") # Finding the index number of 'price'."
   ]
  },
  {
   "cell_type": "code",
   "execution_count": null,
   "id": "88188a6b",
   "metadata": {},
   "outputs": [],
   "source": [
    "unpaid_user_rating=[]\n",
    "for i in apple_dataset[1:]:\n",
    "    i[7]=float(i[7])\n",
    "    price=float(i[4])\n",
    "    if price==0: #This will find the unpaid average user rating\n",
    "        unpaid_user_rating.append(i[7])\n",
    "unpaid_average_user_rating=sum(unpaid_user_rating)/len(unpaid_user_rating)\n",
    "print(\"Unpaid average user rating=\",unpaid_average_user_rating)\n",
    "\n"
   ]
  },
  {
   "cell_type": "code",
   "execution_count": null,
   "id": "1abc633a",
   "metadata": {},
   "outputs": [],
   "source": [
    "paid_user_rating=[]\n",
    "for i in apple_dataset[1:]:\n",
    "    price=float(i[4])\n",
    "    if price!=0: #This will find the paid average user rating\n",
    "        paid_user_rating.append(i[7])\n",
    "    \n",
    "paid_average_user_rating=sum(paid_user_rating)/len(paid_user_rating)\n",
    "print(\"Paid average user rating=\",paid_average_user_rating)"
   ]
  },
  {
   "cell_type": "markdown",
   "id": "01abdc44",
   "metadata": {},
   "source": [
    "There is another coloumn in our data set named user_rating_ver. Let's find it's average rating.\n"
   ]
  },
  {
   "cell_type": "code",
   "execution_count": null,
   "id": "7315d08c",
   "metadata": {},
   "outputs": [],
   "source": [
    "apple_dataset[0].index(\"user_rating_ver\") #Finding index number of user_rating_ver."
   ]
  },
  {
   "cell_type": "code",
   "execution_count": null,
   "id": "e5840226",
   "metadata": {},
   "outputs": [],
   "source": [
    "user_rating_ver=[]\n",
    "for i in apple_dataset[1:]:\n",
    "    i[8]=float(i[8])\n",
    "    user_rating_ver.append(i[8])\n",
    "average_user_rating_ver=sum(user_rating_ver)/len(user_rating_ver)\n",
    "print(\"Average user_rating_ver=\",average_user_rating_ver)"
   ]
  },
  {
   "cell_type": "markdown",
   "id": "d92067cf",
   "metadata": {},
   "source": [
    " Now moving forward we have another coloumn of prime genre which contains the type of application i.e. social network, games, music etc. Let's find out the average user rating considering the scenario where price=0, and prime genre will be games and music. First find out the index number of price and prime genre.\n",
    " "
   ]
  },
  {
   "cell_type": "code",
   "execution_count": null,
   "id": "29d5c0fd",
   "metadata": {},
   "outputs": [],
   "source": [
    "print(\"Prime genre\",apple_dataset[0].index(\"prime_genre\"))\n",
    "print(\"price\",apple_dataset[0].index(\"price\"))"
   ]
  },
  {
   "cell_type": "code",
   "execution_count": null,
   "id": "00b1f55b",
   "metadata": {
    "scrolled": true
   },
   "outputs": [],
   "source": [
    "user_rating2=[]\n",
    "for i in apple_dataset[1:]:\n",
    "    if price==0 and (i[11]==\"Games\" or i[11]==\"Music\"):\n",
    "        user_rating2.append(i[7])\n",
    "average_user_rating2=sum(user_rating2)/len(user_rating2)\n",
    "print(\"Average user rating when price=0 and prime_genre are Games and Music=\",average_user_rating2)"
   ]
  },
  {
   "cell_type": "markdown",
   "id": "ae424642",
   "metadata": {},
   "source": [
    "At last we are going to labelled down the free apps and paid apps at end of the coloumn."
   ]
  },
  {
   "cell_type": "code",
   "execution_count": null,
   "id": "cf3af698",
   "metadata": {},
   "outputs": [],
   "source": [
    "apple_dataset[0].append(\"Subscription_type (Price_Labelling)\") # Adding header of labelled coloumn named \"Subscription_type\"."
   ]
  },
  {
   "cell_type": "code",
   "execution_count": null,
   "id": "2e314df6",
   "metadata": {},
   "outputs": [],
   "source": [
    "apple_dataset[0]"
   ]
  },
  {
   "cell_type": "code",
   "execution_count": null,
   "id": "8604a98c",
   "metadata": {},
   "outputs": [],
   "source": [
    "#Segregation of free and paid apps.\n",
    "for i in apple_dataset[1:]:\n",
    "    i[4]=float(i[4])\n",
    "    if i[4]==0:\n",
    "        i.append(\"Free\")\n",
    "    elif 0.0<i[4]<=20.0:\n",
    "        i.append(\"Paid (Cheap)\")\n",
    "    elif 20.0<i[4]<= 50:\n",
    "        i.append(\"Paid (Affordabale)\")\n",
    "    elif i[4]>50:\n",
    "        i.append(\"Paid (Expensive)\")\n",
    "    else:\n",
    "        i.append(\"Price Not Found\")"
   ]
  },
  {
   "cell_type": "code",
   "execution_count": null,
   "id": "52b2ffbe",
   "metadata": {},
   "outputs": [],
   "source": [
    "print(apple_dataset)"
   ]
  },
  {
   "cell_type": "markdown",
   "id": "df260134",
   "metadata": {},
   "source": [
    "Here at the end of each list of lists we added the subscription type either free or paid. For easy to visualize let's print two indexes to get the better understanding of it."
   ]
  },
  {
   "cell_type": "code",
   "execution_count": null,
   "id": "b1b44fa4",
   "metadata": {},
   "outputs": [],
   "source": [
    "print(apple_dataset[4])"
   ]
  },
  {
   "cell_type": "markdown",
   "id": "2f9e246c",
   "metadata": {},
   "source": [
    "Here at [-1] index we can see that subscription type is entitled to free."
   ]
  },
  {
   "cell_type": "code",
   "execution_count": null,
   "id": "1c348c55",
   "metadata": {},
   "outputs": [],
   "source": [
    "print(apple_dataset[12])"
   ]
  },
  {
   "cell_type": "markdown",
   "id": "1d270432",
   "metadata": {},
   "source": [
    "Here at [-1] index we can see that subscription type is entitled to paid."
   ]
  },
  {
   "cell_type": "markdown",
   "id": "fa60f7ff",
   "metadata": {},
   "source": [
    "In order to find the number of free and paid apps we just need to implement the given steps."
   ]
  },
  {
   "cell_type": "code",
   "execution_count": null,
   "id": "b9f77fd1",
   "metadata": {},
   "outputs": [],
   "source": [
    "Free=0\n",
    "Paid=0\n",
    "for i in apple_dataset[1:]:\n",
    "    i[4]=float(i[4])\n",
    "    \n",
    "    if i[4]==0:\n",
    "        Free+=1\n",
    "    else:\n",
    "        Paid+=1"
   ]
  },
  {
   "cell_type": "code",
   "execution_count": null,
   "id": "252b63ff",
   "metadata": {},
   "outputs": [],
   "source": [
    "print(\"Number of free apps\",Free)\n",
    "print(\"Number of paid apps\",Paid)"
   ]
  },
  {
   "cell_type": "markdown",
   "id": "d491add5",
   "metadata": {},
   "source": [
    "Now we are going to add another column named user_rating_label. "
   ]
  },
  {
   "cell_type": "code",
   "execution_count": null,
   "id": "ee63b644",
   "metadata": {},
   "outputs": [],
   "source": [
    "print(\"user_rating index number :\",apple_dataset[0].index(\"user_rating\"))"
   ]
  },
  {
   "cell_type": "code",
   "execution_count": null,
   "id": "84de414d",
   "metadata": {},
   "outputs": [],
   "source": [
    "for i in apple_dataset[1:]:\n",
    "    if i[7]==0.0:\n",
    "        i.append(\"Poor\")\n",
    "    elif 0.0<i[7]<=2:\n",
    "        i.append(\"Average\")\n",
    "    elif 2.0<i[7]<=4.0:\n",
    "        i.append(\"Good\")\n",
    "    elif i[7]>4.0:\n",
    "        i.append(\"Excellent\")\n",
    "    else:\n",
    "        i.append(\"User rating not given\")\n",
    "apple_dataset[0].append(\"user_rating_label\")\n",
    "print(apple_dataset)"
   ]
  },
  {
   "cell_type": "code",
   "execution_count": null,
   "id": "43f2e7ab",
   "metadata": {},
   "outputs": [],
   "source": []
  }
 ],
 "metadata": {
  "kernelspec": {
   "display_name": "Python 3 (ipykernel)",
   "language": "python",
   "name": "python3"
  },
  "language_info": {
   "codemirror_mode": {
    "name": "ipython",
    "version": 3
   },
   "file_extension": ".py",
   "mimetype": "text/x-python",
   "name": "python",
   "nbconvert_exporter": "python",
   "pygments_lexer": "ipython3",
   "version": "3.9.13"
  }
 },
 "nbformat": 4,
 "nbformat_minor": 5
}
