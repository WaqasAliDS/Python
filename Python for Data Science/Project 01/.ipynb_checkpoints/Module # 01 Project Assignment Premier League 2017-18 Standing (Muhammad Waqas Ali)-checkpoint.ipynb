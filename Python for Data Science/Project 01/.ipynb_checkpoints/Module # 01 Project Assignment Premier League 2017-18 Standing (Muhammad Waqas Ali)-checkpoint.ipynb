{
 "cells": [
  {
   "cell_type": "markdown",
   "id": "427bef9a",
   "metadata": {},
   "source": [
    "# Premier League Standing 2017-18"
   ]
  },
  {
   "cell_type": "markdown",
   "id": "65bcca3a",
   "metadata": {},
   "source": [
    "This file contains the complete line of code to generate premier league standing table for the year of 2017-18 along with step by step explanation. Explanation is given below each line of code."
   ]
  },
  {
   "cell_type": "code",
   "execution_count": 1,
   "id": "acadf989",
   "metadata": {},
   "outputs": [],
   "source": [
    "import csv"
   ]
  },
  {
   "cell_type": "markdown",
   "id": "ae24fc80",
   "metadata": {},
   "source": [
    "This line is used to import the csv module in Python."
   ]
  },
  {
   "cell_type": "code",
   "execution_count": 2,
   "id": "2a329024",
   "metadata": {},
   "outputs": [
    {
     "name": "stdout",
     "output_type": "stream",
     "text": [
      "[{'ï»¿Div': 'E0', 'Date': '11-08-2017', 'HomeTeam': 'Arsenal', 'AwayTeam': 'Leicester', 'FTHG': '4', 'FTAG': '3', 'FTR': 'H', 'HTHG': '2', 'HTAG': '2', 'HTR': 'D', 'Season': '2017-18'}, {'ï»¿Div': 'E0', 'Date': '12-08-2017', 'HomeTeam': 'Brighton', 'AwayTeam': 'Man City', 'FTHG': '0', 'FTAG': '2', 'FTR': 'A', 'HTHG': '0', 'HTAG': '0', 'HTR': 'D', 'Season': '2017-18'}, {'ï»¿Div': 'E0', 'Date': '12-08-2017', 'HomeTeam': 'Chelsea', 'AwayTeam': 'Burnley', 'FTHG': '2', 'FTAG': '3', 'FTR': 'A', 'HTHG': '0', 'HTAG': '3', 'HTR': 'A', 'Season': '2017-18'}, {'ï»¿Div': 'E0', 'Date': '12-08-2017', 'HomeTeam': 'Crystal Palace', 'AwayTeam': 'Huddersfield', 'FTHG': '0', 'FTAG': '3', 'FTR': 'A', 'HTHG': '0', 'HTAG': '2', 'HTR': 'A', 'Season': '2017-18'}, {'ï»¿Div': 'E0', 'Date': '12-08-2017', 'HomeTeam': 'Everton', 'AwayTeam': 'Stoke', 'FTHG': '1', 'FTAG': '0', 'FTR': 'H', 'HTHG': '1', 'HTAG': '0', 'HTR': 'H', 'Season': '2017-18'}, {'ï»¿Div': 'E0', 'Date': '12-08-2017', 'HomeTeam': 'Southampton', 'AwayTeam': 'Swansea', 'FTHG': '0', 'FTAG': '0', 'FTR': 'D', 'HTHG': '0', 'HTAG': '0', 'HTR': 'D', 'Season': '2017-18'}, {'ï»¿Div': 'E0', 'Date': '12-08-2017', 'HomeTeam': 'Watford', 'AwayTeam': 'Liverpool', 'FTHG': '3', 'FTAG': '3', 'FTR': 'D', 'HTHG': '2', 'HTAG': '1', 'HTR': 'H', 'Season': '2017-18'}, {'ï»¿Div': 'E0', 'Date': '12-08-2017', 'HomeTeam': 'West Brom', 'AwayTeam': 'Bournemouth', 'FTHG': '1', 'FTAG': '0', 'FTR': 'H', 'HTHG': '1', 'HTAG': '0', 'HTR': 'H', 'Season': '2017-18'}, {'ï»¿Div': 'E0', 'Date': '13-08-2017', 'HomeTeam': 'Man United', 'AwayTeam': 'West Ham', 'FTHG': '4', 'FTAG': '0', 'FTR': 'H', 'HTHG': '1', 'HTAG': '0', 'HTR': 'H', 'Season': '2017-18'}, {'ï»¿Div': 'E0', 'Date': '13-08-2017', 'HomeTeam': 'Newcastle', 'AwayTeam': 'Tottenham', 'FTHG': '0', 'FTAG': '2', 'FTR': 'A', 'HTHG': '0', 'HTAG': '0', 'HTR': 'D', 'Season': '2017-18'}, {'ï»¿Div': 'E0', 'Date': '19-08-2017', 'HomeTeam': 'Bournemouth', 'AwayTeam': 'Watford', 'FTHG': '0', 'FTAG': '2', 'FTR': 'A', 'HTHG': '0', 'HTAG': '0', 'HTR': 'D', 'Season': '2017-18'}, {'ï»¿Div': 'E0', 'Date': '19-08-2017', 'HomeTeam': 'Burnley', 'AwayTeam': 'West Brom', 'FTHG': '0', 'FTAG': '1', 'FTR': 'A', 'HTHG': '0', 'HTAG': '0', 'HTR': 'D', 'Season': '2017-18'}, {'ï»¿Div': 'E0', 'Date': '19-08-2017', 'HomeTeam': 'Leicester', 'AwayTeam': 'Brighton', 'FTHG': '2', 'FTAG': '0', 'FTR': 'H', 'HTHG': '1', 'HTAG': '0', 'HTR': 'H', 'Season': '2017-18'}, {'ï»¿Div': 'E0', 'Date': '19-08-2017', 'HomeTeam': 'Liverpool', 'AwayTeam': 'Crystal Palace', 'FTHG': '1', 'FTAG': '0', 'FTR': 'H', 'HTHG': '0', 'HTAG': '0', 'HTR': 'D', 'Season': '2017-18'}, {'ï»¿Div': 'E0', 'Date': '19-08-2017', 'HomeTeam': 'Southampton', 'AwayTeam': 'West Ham', 'FTHG': '3', 'FTAG': '2', 'FTR': 'H', 'HTHG': '2', 'HTAG': '1', 'HTR': 'H', 'Season': '2017-18'}, {'ï»¿Div': 'E0', 'Date': '19-08-2017', 'HomeTeam': 'Stoke', 'AwayTeam': 'Arsenal', 'FTHG': '1', 'FTAG': '0', 'FTR': 'H', 'HTHG': '0', 'HTAG': '0', 'HTR': 'D', 'Season': '2017-18'}, {'ï»¿Div': 'E0', 'Date': '19-08-2017', 'HomeTeam': 'Swansea', 'AwayTeam': 'Man United', 'FTHG': '0', 'FTAG': '4', 'FTR': 'A', 'HTHG': '0', 'HTAG': '1', 'HTR': 'A', 'Season': '2017-18'}, {'ï»¿Div': 'E0', 'Date': '20-08-2017', 'HomeTeam': 'Huddersfield', 'AwayTeam': 'Newcastle', 'FTHG': '1', 'FTAG': '0', 'FTR': 'H', 'HTHG': '0', 'HTAG': '0', 'HTR': 'D', 'Season': '2017-18'}, {'ï»¿Div': 'E0', 'Date': '20-08-2017', 'HomeTeam': 'Tottenham', 'AwayTeam': 'Chelsea', 'FTHG': '1', 'FTAG': '2', 'FTR': 'A', 'HTHG': '0', 'HTAG': '1', 'HTR': 'A', 'Season': '2017-18'}, {'ï»¿Div': 'E0', 'Date': '21-08-2017', 'HomeTeam': 'Man City', 'AwayTeam': 'Everton', 'FTHG': '1', 'FTAG': '1', 'FTR': 'D', 'HTHG': '0', 'HTAG': '1', 'HTR': 'A', 'Season': '2017-18'}, {'ï»¿Div': 'E0', 'Date': '26-08-2017', 'HomeTeam': 'Bournemouth', 'AwayTeam': 'Man City', 'FTHG': '1', 'FTAG': '2', 'FTR': 'A', 'HTHG': '1', 'HTAG': '1', 'HTR': 'D', 'Season': '2017-18'}, {'ï»¿Div': 'E0', 'Date': '26-08-2017', 'HomeTeam': 'Crystal Palace', 'AwayTeam': 'Swansea', 'FTHG': '0', 'FTAG': '2', 'FTR': 'A', 'HTHG': '0', 'HTAG': '1', 'HTR': 'A', 'Season': '2017-18'}, {'ï»¿Div': 'E0', 'Date': '26-08-2017', 'HomeTeam': 'Huddersfield', 'AwayTeam': 'Southampton', 'FTHG': '0', 'FTAG': '0', 'FTR': 'D', 'HTHG': '0', 'HTAG': '0', 'HTR': 'D', 'Season': '2017-18'}, {'ï»¿Div': 'E0', 'Date': '26-08-2017', 'HomeTeam': 'Man United', 'AwayTeam': 'Leicester', 'FTHG': '2', 'FTAG': '0', 'FTR': 'H', 'HTHG': '0', 'HTAG': '0', 'HTR': 'D', 'Season': '2017-18'}, {'ï»¿Div': 'E0', 'Date': '26-08-2017', 'HomeTeam': 'Newcastle', 'AwayTeam': 'West Ham', 'FTHG': '3', 'FTAG': '0', 'FTR': 'H', 'HTHG': '1', 'HTAG': '0', 'HTR': 'H', 'Season': '2017-18'}, {'ï»¿Div': 'E0', 'Date': '26-08-2017', 'HomeTeam': 'Watford', 'AwayTeam': 'Brighton', 'FTHG': '0', 'FTAG': '0', 'FTR': 'D', 'HTHG': '0', 'HTAG': '0', 'HTR': 'D', 'Season': '2017-18'}, {'ï»¿Div': 'E0', 'Date': '27-08-2017', 'HomeTeam': 'Chelsea', 'AwayTeam': 'Everton', 'FTHG': '2', 'FTAG': '0', 'FTR': 'H', 'HTHG': '2', 'HTAG': '0', 'HTR': 'H', 'Season': '2017-18'}, {'ï»¿Div': 'E0', 'Date': '27-08-2017', 'HomeTeam': 'Liverpool', 'AwayTeam': 'Arsenal', 'FTHG': '4', 'FTAG': '0', 'FTR': 'H', 'HTHG': '2', 'HTAG': '0', 'HTR': 'H', 'Season': '2017-18'}, {'ï»¿Div': 'E0', 'Date': '27-08-2017', 'HomeTeam': 'Tottenham', 'AwayTeam': 'Burnley', 'FTHG': '1', 'FTAG': '1', 'FTR': 'D', 'HTHG': '0', 'HTAG': '0', 'HTR': 'D', 'Season': '2017-18'}, {'ï»¿Div': 'E0', 'Date': '27-08-2017', 'HomeTeam': 'West Brom', 'AwayTeam': 'Stoke', 'FTHG': '1', 'FTAG': '1', 'FTR': 'D', 'HTHG': '0', 'HTAG': '0', 'HTR': 'D', 'Season': '2017-18'}, {'ï»¿Div': 'E0', 'Date': '09-09-2017', 'HomeTeam': 'Arsenal', 'AwayTeam': 'Bournemouth', 'FTHG': '3', 'FTAG': '0', 'FTR': 'H', 'HTHG': '2', 'HTAG': '0', 'HTR': 'H', 'Season': '2017-18'}, {'ï»¿Div': 'E0', 'Date': '09-09-2017', 'HomeTeam': 'Brighton', 'AwayTeam': 'West Brom', 'FTHG': '3', 'FTAG': '1', 'FTR': 'H', 'HTHG': '1', 'HTAG': '0', 'HTR': 'H', 'Season': '2017-18'}, {'ï»¿Div': 'E0', 'Date': '09-09-2017', 'HomeTeam': 'Everton', 'AwayTeam': 'Tottenham', 'FTHG': '0', 'FTAG': '3', 'FTR': 'A', 'HTHG': '0', 'HTAG': '2', 'HTR': 'A', 'Season': '2017-18'}, {'ï»¿Div': 'E0', 'Date': '09-09-2017', 'HomeTeam': 'Leicester', 'AwayTeam': 'Chelsea', 'FTHG': '1', 'FTAG': '2', 'FTR': 'A', 'HTHG': '0', 'HTAG': '1', 'HTR': 'A', 'Season': '2017-18'}, {'ï»¿Div': 'E0', 'Date': '09-09-2017', 'HomeTeam': 'Man City', 'AwayTeam': 'Liverpool', 'FTHG': '5', 'FTAG': '0', 'FTR': 'H', 'HTHG': '2', 'HTAG': '0', 'HTR': 'H', 'Season': '2017-18'}, {'ï»¿Div': 'E0', 'Date': '09-09-2017', 'HomeTeam': 'Southampton', 'AwayTeam': 'Watford', 'FTHG': '0', 'FTAG': '2', 'FTR': 'A', 'HTHG': '0', 'HTAG': '1', 'HTR': 'A', 'Season': '2017-18'}, {'ï»¿Div': 'E0', 'Date': '09-09-2017', 'HomeTeam': 'Stoke', 'AwayTeam': 'Man United', 'FTHG': '2', 'FTAG': '2', 'FTR': 'D', 'HTHG': '1', 'HTAG': '1', 'HTR': 'D', 'Season': '2017-18'}, {'ï»¿Div': 'E0', 'Date': '10-09-2017', 'HomeTeam': 'Burnley', 'AwayTeam': 'Crystal Palace', 'FTHG': '1', 'FTAG': '0', 'FTR': 'H', 'HTHG': '1', 'HTAG': '0', 'HTR': 'H', 'Season': '2017-18'}, {'ï»¿Div': 'E0', 'Date': '10-09-2017', 'HomeTeam': 'Swansea', 'AwayTeam': 'Newcastle', 'FTHG': '0', 'FTAG': '1', 'FTR': 'A', 'HTHG': '0', 'HTAG': '0', 'HTR': 'D', 'Season': '2017-18'}, {'ï»¿Div': 'E0', 'Date': '11-09-2017', 'HomeTeam': 'West Ham', 'AwayTeam': 'Huddersfield', 'FTHG': '2', 'FTAG': '0', 'FTR': 'H', 'HTHG': '0', 'HTAG': '0', 'HTR': 'D', 'Season': '2017-18'}, {'ï»¿Div': 'E0', 'Date': '15-09-2017', 'HomeTeam': 'Bournemouth', 'AwayTeam': 'Brighton', 'FTHG': '2', 'FTAG': '1', 'FTR': 'H', 'HTHG': '0', 'HTAG': '0', 'HTR': 'D', 'Season': '2017-18'}, {'ï»¿Div': 'E0', 'Date': '16-09-2017', 'HomeTeam': 'Crystal Palace', 'AwayTeam': 'Southampton', 'FTHG': '0', 'FTAG': '1', 'FTR': 'A', 'HTHG': '0', 'HTAG': '1', 'HTR': 'A', 'Season': '2017-18'}, {'ï»¿Div': 'E0', 'Date': '16-09-2017', 'HomeTeam': 'Huddersfield', 'AwayTeam': 'Leicester', 'FTHG': '1', 'FTAG': '1', 'FTR': 'D', 'HTHG': '0', 'HTAG': '0', 'HTR': 'D', 'Season': '2017-18'}, {'ï»¿Div': 'E0', 'Date': '16-09-2017', 'HomeTeam': 'Liverpool', 'AwayTeam': 'Burnley', 'FTHG': '1', 'FTAG': '1', 'FTR': 'D', 'HTHG': '1', 'HTAG': '1', 'HTR': 'D', 'Season': '2017-18'}, {'ï»¿Div': 'E0', 'Date': '16-09-2017', 'HomeTeam': 'Newcastle', 'AwayTeam': 'Stoke', 'FTHG': '2', 'FTAG': '1', 'FTR': 'H', 'HTHG': '1', 'HTAG': '0', 'HTR': 'H', 'Season': '2017-18'}, {'ï»¿Div': 'E0', 'Date': '16-09-2017', 'HomeTeam': 'Tottenham', 'AwayTeam': 'Swansea', 'FTHG': '0', 'FTAG': '0', 'FTR': 'D', 'HTHG': '0', 'HTAG': '0', 'HTR': 'D', 'Season': '2017-18'}, {'ï»¿Div': 'E0', 'Date': '16-09-2017', 'HomeTeam': 'Watford', 'AwayTeam': 'Man City', 'FTHG': '0', 'FTAG': '6', 'FTR': 'A', 'HTHG': '0', 'HTAG': '3', 'HTR': 'A', 'Season': '2017-18'}, {'ï»¿Div': 'E0', 'Date': '16-09-2017', 'HomeTeam': 'West Brom', 'AwayTeam': 'West Ham', 'FTHG': '0', 'FTAG': '0', 'FTR': 'D', 'HTHG': '0', 'HTAG': '0', 'HTR': 'D', 'Season': '2017-18'}, {'ï»¿Div': 'E0', 'Date': '17-09-2017', 'HomeTeam': 'Chelsea', 'AwayTeam': 'Arsenal', 'FTHG': '0', 'FTAG': '0', 'FTR': 'D', 'HTHG': '0', 'HTAG': '0', 'HTR': 'D', 'Season': '2017-18'}, {'ï»¿Div': 'E0', 'Date': '17-09-2017', 'HomeTeam': 'Man United', 'AwayTeam': 'Everton', 'FTHG': '4', 'FTAG': '0', 'FTR': 'H', 'HTHG': '1', 'HTAG': '0', 'HTR': 'H', 'Season': '2017-18'}, {'ï»¿Div': 'E0', 'Date': '23-09-2017', 'HomeTeam': 'Burnley', 'AwayTeam': 'Huddersfield', 'FTHG': '0', 'FTAG': '0', 'FTR': 'D', 'HTHG': '0', 'HTAG': '0', 'HTR': 'D', 'Season': '2017-18'}, {'ï»¿Div': 'E0', 'Date': '23-09-2017', 'HomeTeam': 'Everton', 'AwayTeam': 'Bournemouth', 'FTHG': '2', 'FTAG': '1', 'FTR': 'H', 'HTHG': '0', 'HTAG': '0', 'HTR': 'D', 'Season': '2017-18'}, {'ï»¿Div': 'E0', 'Date': '23-09-2017', 'HomeTeam': 'Leicester', 'AwayTeam': 'Liverpool', 'FTHG': '2', 'FTAG': '3', 'FTR': 'A', 'HTHG': '1', 'HTAG': '2', 'HTR': 'A', 'Season': '2017-18'}, {'ï»¿Div': 'E0', 'Date': '23-09-2017', 'HomeTeam': 'Man City', 'AwayTeam': 'Crystal Palace', 'FTHG': '5', 'FTAG': '0', 'FTR': 'H', 'HTHG': '1', 'HTAG': '0', 'HTR': 'H', 'Season': '2017-18'}, {'ï»¿Div': 'E0', 'Date': '23-09-2017', 'HomeTeam': 'Southampton', 'AwayTeam': 'Man United', 'FTHG': '0', 'FTAG': '1', 'FTR': 'A', 'HTHG': '0', 'HTAG': '1', 'HTR': 'A', 'Season': '2017-18'}, {'ï»¿Div': 'E0', 'Date': '23-09-2017', 'HomeTeam': 'Stoke', 'AwayTeam': 'Chelsea', 'FTHG': '0', 'FTAG': '4', 'FTR': 'A', 'HTHG': '0', 'HTAG': '2', 'HTR': 'A', 'Season': '2017-18'}, {'ï»¿Div': 'E0', 'Date': '23-09-2017', 'HomeTeam': 'Swansea', 'AwayTeam': 'Watford', 'FTHG': '1', 'FTAG': '2', 'FTR': 'A', 'HTHG': '0', 'HTAG': '1', 'HTR': 'A', 'Season': '2017-18'}, {'ï»¿Div': 'E0', 'Date': '23-09-2017', 'HomeTeam': 'West Ham', 'AwayTeam': 'Tottenham', 'FTHG': '2', 'FTAG': '3', 'FTR': 'A', 'HTHG': '0', 'HTAG': '2', 'HTR': 'A', 'Season': '2017-18'}, {'ï»¿Div': 'E0', 'Date': '24-09-2017', 'HomeTeam': 'Brighton', 'AwayTeam': 'Newcastle', 'FTHG': '1', 'FTAG': '0', 'FTR': 'H', 'HTHG': '0', 'HTAG': '0', 'HTR': 'D', 'Season': '2017-18'}, {'ï»¿Div': 'E0', 'Date': '25-09-2017', 'HomeTeam': 'Arsenal', 'AwayTeam': 'West Brom', 'FTHG': '2', 'FTAG': '0', 'FTR': 'H', 'HTHG': '1', 'HTAG': '0', 'HTR': 'H', 'Season': '2017-18'}, {'ï»¿Div': 'E0', 'Date': '30-09-2017', 'HomeTeam': 'Bournemouth', 'AwayTeam': 'Leicester', 'FTHG': '0', 'FTAG': '0', 'FTR': 'D', 'HTHG': '0', 'HTAG': '0', 'HTR': 'D', 'Season': '2017-18'}, {'ï»¿Div': 'E0', 'Date': '30-09-2017', 'HomeTeam': 'Chelsea', 'AwayTeam': 'Man City', 'FTHG': '0', 'FTAG': '1', 'FTR': 'A', 'HTHG': '0', 'HTAG': '0', 'HTR': 'D', 'Season': '2017-18'}, {'ï»¿Div': 'E0', 'Date': '30-09-2017', 'HomeTeam': 'Huddersfield', 'AwayTeam': 'Tottenham', 'FTHG': '0', 'FTAG': '4', 'FTR': 'A', 'HTHG': '0', 'HTAG': '3', 'HTR': 'A', 'Season': '2017-18'}, {'ï»¿Div': 'E0', 'Date': '30-09-2017', 'HomeTeam': 'Man United', 'AwayTeam': 'Crystal Palace', 'FTHG': '4', 'FTAG': '0', 'FTR': 'H', 'HTHG': '2', 'HTAG': '0', 'HTR': 'H', 'Season': '2017-18'}, {'ï»¿Div': 'E0', 'Date': '30-09-2017', 'HomeTeam': 'Stoke', 'AwayTeam': 'Southampton', 'FTHG': '2', 'FTAG': '1', 'FTR': 'H', 'HTHG': '1', 'HTAG': '0', 'HTR': 'H', 'Season': '2017-18'}, {'ï»¿Div': 'E0', 'Date': '30-09-2017', 'HomeTeam': 'West Brom', 'AwayTeam': 'Watford', 'FTHG': '2', 'FTAG': '2', 'FTR': 'D', 'HTHG': '2', 'HTAG': '1', 'HTR': 'H', 'Season': '2017-18'}, {'ï»¿Div': 'E0', 'Date': '30-09-2017', 'HomeTeam': 'West Ham', 'AwayTeam': 'Swansea', 'FTHG': '1', 'FTAG': '0', 'FTR': 'H', 'HTHG': '0', 'HTAG': '0', 'HTR': 'D', 'Season': '2017-18'}, {'ï»¿Div': 'E0', 'Date': '01-10-2017', 'HomeTeam': 'Arsenal', 'AwayTeam': 'Brighton', 'FTHG': '2', 'FTAG': '0', 'FTR': 'H', 'HTHG': '1', 'HTAG': '0', 'HTR': 'H', 'Season': '2017-18'}, {'ï»¿Div': 'E0', 'Date': '01-10-2017', 'HomeTeam': 'Everton', 'AwayTeam': 'Burnley', 'FTHG': '0', 'FTAG': '1', 'FTR': 'A', 'HTHG': '0', 'HTAG': '1', 'HTR': 'A', 'Season': '2017-18'}, {'ï»¿Div': 'E0', 'Date': '01-10-2017', 'HomeTeam': 'Newcastle', 'AwayTeam': 'Liverpool', 'FTHG': '1', 'FTAG': '1', 'FTR': 'D', 'HTHG': '1', 'HTAG': '1', 'HTR': 'D', 'Season': '2017-18'}, {'ï»¿Div': 'E0', 'Date': '14-10-2017', 'HomeTeam': 'Burnley', 'AwayTeam': 'West Ham', 'FTHG': '1', 'FTAG': '1', 'FTR': 'D', 'HTHG': '0', 'HTAG': '1', 'HTR': 'A', 'Season': '2017-18'}, {'ï»¿Div': 'E0', 'Date': '14-10-2017', 'HomeTeam': 'Crystal Palace', 'AwayTeam': 'Chelsea', 'FTHG': '2', 'FTAG': '1', 'FTR': 'H', 'HTHG': '2', 'HTAG': '1', 'HTR': 'H', 'Season': '2017-18'}, {'ï»¿Div': 'E0', 'Date': '14-10-2017', 'HomeTeam': 'Liverpool', 'AwayTeam': 'Man United', 'FTHG': '0', 'FTAG': '0', 'FTR': 'D', 'HTHG': '0', 'HTAG': '0', 'HTR': 'D', 'Season': '2017-18'}, {'ï»¿Div': 'E0', 'Date': '14-10-2017', 'HomeTeam': 'Man City', 'AwayTeam': 'Stoke', 'FTHG': '7', 'FTAG': '2', 'FTR': 'H', 'HTHG': '3', 'HTAG': '1', 'HTR': 'H', 'Season': '2017-18'}, {'ï»¿Div': 'E0', 'Date': '14-10-2017', 'HomeTeam': 'Swansea', 'AwayTeam': 'Huddersfield', 'FTHG': '2', 'FTAG': '0', 'FTR': 'H', 'HTHG': '1', 'HTAG': '0', 'HTR': 'H', 'Season': '2017-18'}, {'ï»¿Div': 'E0', 'Date': '14-10-2017', 'HomeTeam': 'Tottenham', 'AwayTeam': 'Bournemouth', 'FTHG': '1', 'FTAG': '0', 'FTR': 'H', 'HTHG': '0', 'HTAG': '0', 'HTR': 'D', 'Season': '2017-18'}, {'ï»¿Div': 'E0', 'Date': '14-10-2017', 'HomeTeam': 'Watford', 'AwayTeam': 'Arsenal', 'FTHG': '2', 'FTAG': '1', 'FTR': 'H', 'HTHG': '0', 'HTAG': '1', 'HTR': 'A', 'Season': '2017-18'}, {'ï»¿Div': 'E0', 'Date': '15-10-2017', 'HomeTeam': 'Brighton', 'AwayTeam': 'Everton', 'FTHG': '1', 'FTAG': '1', 'FTR': 'D', 'HTHG': '0', 'HTAG': '0', 'HTR': 'D', 'Season': '2017-18'}, {'ï»¿Div': 'E0', 'Date': '15-10-2017', 'HomeTeam': 'Southampton', 'AwayTeam': 'Newcastle', 'FTHG': '2', 'FTAG': '2', 'FTR': 'D', 'HTHG': '0', 'HTAG': '1', 'HTR': 'A', 'Season': '2017-18'}, {'ï»¿Div': 'E0', 'Date': '16-10-2017', 'HomeTeam': 'Leicester', 'AwayTeam': 'West Brom', 'FTHG': '1', 'FTAG': '1', 'FTR': 'D', 'HTHG': '0', 'HTAG': '0', 'HTR': 'D', 'Season': '2017-18'}, {'ï»¿Div': 'E0', 'Date': '20-10-2017', 'HomeTeam': 'West Ham', 'AwayTeam': 'Brighton', 'FTHG': '0', 'FTAG': '3', 'FTR': 'A', 'HTHG': '0', 'HTAG': '2', 'HTR': 'A', 'Season': '2017-18'}, {'ï»¿Div': 'E0', 'Date': '21-10-2017', 'HomeTeam': 'Chelsea', 'AwayTeam': 'Watford', 'FTHG': '4', 'FTAG': '2', 'FTR': 'H', 'HTHG': '1', 'HTAG': '1', 'HTR': 'D', 'Season': '2017-18'}, {'ï»¿Div': 'E0', 'Date': '21-10-2017', 'HomeTeam': 'Huddersfield', 'AwayTeam': 'Man United', 'FTHG': '2', 'FTAG': '1', 'FTR': 'H', 'HTHG': '2', 'HTAG': '0', 'HTR': 'H', 'Season': '2017-18'}, {'ï»¿Div': 'E0', 'Date': '21-10-2017', 'HomeTeam': 'Man City', 'AwayTeam': 'Burnley', 'FTHG': '3', 'FTAG': '0', 'FTR': 'H', 'HTHG': '1', 'HTAG': '0', 'HTR': 'H', 'Season': '2017-18'}, {'ï»¿Div': 'E0', 'Date': '21-10-2017', 'HomeTeam': 'Newcastle', 'AwayTeam': 'Crystal Palace', 'FTHG': '1', 'FTAG': '0', 'FTR': 'H', 'HTHG': '0', 'HTAG': '0', 'HTR': 'D', 'Season': '2017-18'}, {'ï»¿Div': 'E0', 'Date': '21-10-2017', 'HomeTeam': 'Southampton', 'AwayTeam': 'West Brom', 'FTHG': '1', 'FTAG': '0', 'FTR': 'H', 'HTHG': '0', 'HTAG': '0', 'HTR': 'D', 'Season': '2017-18'}, {'ï»¿Div': 'E0', 'Date': '21-10-2017', 'HomeTeam': 'Stoke', 'AwayTeam': 'Bournemouth', 'FTHG': '1', 'FTAG': '2', 'FTR': 'A', 'HTHG': '0', 'HTAG': '2', 'HTR': 'A', 'Season': '2017-18'}, {'ï»¿Div': 'E0', 'Date': '21-10-2017', 'HomeTeam': 'Swansea', 'AwayTeam': 'Leicester', 'FTHG': '1', 'FTAG': '2', 'FTR': 'A', 'HTHG': '0', 'HTAG': '1', 'HTR': 'A', 'Season': '2017-18'}, {'ï»¿Div': 'E0', 'Date': '22-10-2017', 'HomeTeam': 'Everton', 'AwayTeam': 'Arsenal', 'FTHG': '2', 'FTAG': '5', 'FTR': 'A', 'HTHG': '1', 'HTAG': '1', 'HTR': 'D', 'Season': '2017-18'}, {'ï»¿Div': 'E0', 'Date': '22-10-2017', 'HomeTeam': 'Tottenham', 'AwayTeam': 'Liverpool', 'FTHG': '4', 'FTAG': '1', 'FTR': 'H', 'HTHG': '3', 'HTAG': '1', 'HTR': 'H', 'Season': '2017-18'}, {'ï»¿Div': 'E0', 'Date': '28-10-2017', 'HomeTeam': 'Arsenal', 'AwayTeam': 'Swansea', 'FTHG': '2', 'FTAG': '1', 'FTR': 'H', 'HTHG': '0', 'HTAG': '1', 'HTR': 'A', 'Season': '2017-18'}, {'ï»¿Div': 'E0', 'Date': '28-10-2017', 'HomeTeam': 'Bournemouth', 'AwayTeam': 'Chelsea', 'FTHG': '0', 'FTAG': '1', 'FTR': 'A', 'HTHG': '0', 'HTAG': '0', 'HTR': 'D', 'Season': '2017-18'}, {'ï»¿Div': 'E0', 'Date': '28-10-2017', 'HomeTeam': 'Crystal Palace', 'AwayTeam': 'West Ham', 'FTHG': '2', 'FTAG': '2', 'FTR': 'D', 'HTHG': '0', 'HTAG': '2', 'HTR': 'A', 'Season': '2017-18'}, {'ï»¿Div': 'E0', 'Date': '28-10-2017', 'HomeTeam': 'Liverpool', 'AwayTeam': 'Huddersfield', 'FTHG': '3', 'FTAG': '0', 'FTR': 'H', 'HTHG': '0', 'HTAG': '0', 'HTR': 'D', 'Season': '2017-18'}, {'ï»¿Div': 'E0', 'Date': '28-10-2017', 'HomeTeam': 'Man United', 'AwayTeam': 'Tottenham', 'FTHG': '1', 'FTAG': '0', 'FTR': 'H', 'HTHG': '0', 'HTAG': '0', 'HTR': 'D', 'Season': '2017-18'}, {'ï»¿Div': 'E0', 'Date': '28-10-2017', 'HomeTeam': 'Watford', 'AwayTeam': 'Stoke', 'FTHG': '0', 'FTAG': '1', 'FTR': 'A', 'HTHG': '0', 'HTAG': '1', 'HTR': 'A', 'Season': '2017-18'}, {'ï»¿Div': 'E0', 'Date': '28-10-2017', 'HomeTeam': 'West Brom', 'AwayTeam': 'Man City', 'FTHG': '2', 'FTAG': '3', 'FTR': 'A', 'HTHG': '1', 'HTAG': '2', 'HTR': 'A', 'Season': '2017-18'}, {'ï»¿Div': 'E0', 'Date': '29-10-2017', 'HomeTeam': 'Brighton', 'AwayTeam': 'Southampton', 'FTHG': '1', 'FTAG': '1', 'FTR': 'D', 'HTHG': '0', 'HTAG': '1', 'HTR': 'A', 'Season': '2017-18'}, {'ï»¿Div': 'E0', 'Date': '29-10-2017', 'HomeTeam': 'Leicester', 'AwayTeam': 'Everton', 'FTHG': '2', 'FTAG': '0', 'FTR': 'H', 'HTHG': '2', 'HTAG': '0', 'HTR': 'H', 'Season': '2017-18'}, {'ï»¿Div': 'E0', 'Date': '30-10-2017', 'HomeTeam': 'Burnley', 'AwayTeam': 'Newcastle', 'FTHG': '1', 'FTAG': '0', 'FTR': 'H', 'HTHG': '0', 'HTAG': '0', 'HTR': 'D', 'Season': '2017-18'}, {'ï»¿Div': 'E0', 'Date': '04-11-2017', 'HomeTeam': 'Huddersfield', 'AwayTeam': 'West Brom', 'FTHG': '1', 'FTAG': '0', 'FTR': 'H', 'HTHG': '1', 'HTAG': '0', 'HTR': 'H', 'Season': '2017-18'}, {'ï»¿Div': 'E0', 'Date': '04-11-2017', 'HomeTeam': 'Newcastle', 'AwayTeam': 'Bournemouth', 'FTHG': '0', 'FTAG': '1', 'FTR': 'A', 'HTHG': '0', 'HTAG': '0', 'HTR': 'D', 'Season': '2017-18'}, {'ï»¿Div': 'E0', 'Date': '04-11-2017', 'HomeTeam': 'Southampton', 'AwayTeam': 'Burnley', 'FTHG': '0', 'FTAG': '1', 'FTR': 'A', 'HTHG': '0', 'HTAG': '0', 'HTR': 'D', 'Season': '2017-18'}, {'ï»¿Div': 'E0', 'Date': '04-11-2017', 'HomeTeam': 'Stoke', 'AwayTeam': 'Leicester', 'FTHG': '2', 'FTAG': '2', 'FTR': 'D', 'HTHG': '1', 'HTAG': '1', 'HTR': 'D', 'Season': '2017-18'}, {'ï»¿Div': 'E0', 'Date': '04-11-2017', 'HomeTeam': 'Swansea', 'AwayTeam': 'Brighton', 'FTHG': '0', 'FTAG': '1', 'FTR': 'A', 'HTHG': '0', 'HTAG': '1', 'HTR': 'A', 'Season': '2017-18'}, {'ï»¿Div': 'E0', 'Date': '04-11-2017', 'HomeTeam': 'West Ham', 'AwayTeam': 'Liverpool', 'FTHG': '1', 'FTAG': '4', 'FTR': 'A', 'HTHG': '0', 'HTAG': '2', 'HTR': 'A', 'Season': '2017-18'}, {'ï»¿Div': 'E0', 'Date': '05-11-2017', 'HomeTeam': 'Chelsea', 'AwayTeam': 'Man United', 'FTHG': '1', 'FTAG': '0', 'FTR': 'H', 'HTHG': '0', 'HTAG': '0', 'HTR': 'D', 'Season': '2017-18'}, {'ï»¿Div': 'E0', 'Date': '05-11-2017', 'HomeTeam': 'Everton', 'AwayTeam': 'Watford', 'FTHG': '3', 'FTAG': '2', 'FTR': 'H', 'HTHG': '0', 'HTAG': '0', 'HTR': 'D', 'Season': '2017-18'}, {'ï»¿Div': 'E0', 'Date': '05-11-2017', 'HomeTeam': 'Man City', 'AwayTeam': 'Arsenal', 'FTHG': '3', 'FTAG': '1', 'FTR': 'H', 'HTHG': '1', 'HTAG': '0', 'HTR': 'H', 'Season': '2017-18'}, {'ï»¿Div': 'E0', 'Date': '05-11-2017', 'HomeTeam': 'Tottenham', 'AwayTeam': 'Crystal Palace', 'FTHG': '1', 'FTAG': '0', 'FTR': 'H', 'HTHG': '0', 'HTAG': '0', 'HTR': 'D', 'Season': '2017-18'}, {'ï»¿Div': 'E0', 'Date': '18-11-2017', 'HomeTeam': 'Arsenal', 'AwayTeam': 'Tottenham', 'FTHG': '2', 'FTAG': '0', 'FTR': 'H', 'HTHG': '2', 'HTAG': '0', 'HTR': 'H', 'Season': '2017-18'}, {'ï»¿Div': 'E0', 'Date': '18-11-2017', 'HomeTeam': 'Bournemouth', 'AwayTeam': 'Huddersfield', 'FTHG': '4', 'FTAG': '0', 'FTR': 'H', 'HTHG': '2', 'HTAG': '0', 'HTR': 'H', 'Season': '2017-18'}, {'ï»¿Div': 'E0', 'Date': '18-11-2017', 'HomeTeam': 'Burnley', 'AwayTeam': 'Swansea', 'FTHG': '2', 'FTAG': '0', 'FTR': 'H', 'HTHG': '2', 'HTAG': '0', 'HTR': 'H', 'Season': '2017-18'}, {'ï»¿Div': 'E0', 'Date': '18-11-2017', 'HomeTeam': 'Crystal Palace', 'AwayTeam': 'Everton', 'FTHG': '2', 'FTAG': '2', 'FTR': 'D', 'HTHG': '2', 'HTAG': '2', 'HTR': 'D', 'Season': '2017-18'}, {'ï»¿Div': 'E0', 'Date': '18-11-2017', 'HomeTeam': 'Leicester', 'AwayTeam': 'Man City', 'FTHG': '0', 'FTAG': '2', 'FTR': 'A', 'HTHG': '0', 'HTAG': '1', 'HTR': 'A', 'Season': '2017-18'}, {'ï»¿Div': 'E0', 'Date': '18-11-2017', 'HomeTeam': 'Liverpool', 'AwayTeam': 'Southampton', 'FTHG': '3', 'FTAG': '0', 'FTR': 'H', 'HTHG': '2', 'HTAG': '0', 'HTR': 'H', 'Season': '2017-18'}, {'ï»¿Div': 'E0', 'Date': '18-11-2017', 'HomeTeam': 'Man United', 'AwayTeam': 'Newcastle', 'FTHG': '4', 'FTAG': '1', 'FTR': 'H', 'HTHG': '2', 'HTAG': '1', 'HTR': 'H', 'Season': '2017-18'}, {'ï»¿Div': 'E0', 'Date': '18-11-2017', 'HomeTeam': 'West Brom', 'AwayTeam': 'Chelsea', 'FTHG': '0', 'FTAG': '4', 'FTR': 'A', 'HTHG': '0', 'HTAG': '3', 'HTR': 'A', 'Season': '2017-18'}, {'ï»¿Div': 'E0', 'Date': '19-11-2017', 'HomeTeam': 'Watford', 'AwayTeam': 'West Ham', 'FTHG': '2', 'FTAG': '0', 'FTR': 'H', 'HTHG': '1', 'HTAG': '0', 'HTR': 'H', 'Season': '2017-18'}, {'ï»¿Div': 'E0', 'Date': '20-11-2017', 'HomeTeam': 'Brighton', 'AwayTeam': 'Stoke', 'FTHG': '2', 'FTAG': '2', 'FTR': 'D', 'HTHG': '1', 'HTAG': '2', 'HTR': 'A', 'Season': '2017-18'}, {'ï»¿Div': 'E0', 'Date': '24-11-2017', 'HomeTeam': 'West Ham', 'AwayTeam': 'Leicester', 'FTHG': '1', 'FTAG': '1', 'FTR': 'D', 'HTHG': '1', 'HTAG': '1', 'HTR': 'D', 'Season': '2017-18'}, {'ï»¿Div': 'E0', 'Date': '25-11-2017', 'HomeTeam': 'Crystal Palace', 'AwayTeam': 'Stoke', 'FTHG': '2', 'FTAG': '1', 'FTR': 'H', 'HTHG': '0', 'HTAG': '0', 'HTR': 'D', 'Season': '2017-18'}, {'ï»¿Div': 'E0', 'Date': '25-11-2017', 'HomeTeam': 'Liverpool', 'AwayTeam': 'Chelsea', 'FTHG': '1', 'FTAG': '1', 'FTR': 'D', 'HTHG': '0', 'HTAG': '0', 'HTR': 'D', 'Season': '2017-18'}, {'ï»¿Div': 'E0', 'Date': '25-11-2017', 'HomeTeam': 'Man United', 'AwayTeam': 'Brighton', 'FTHG': '1', 'FTAG': '0', 'FTR': 'H', 'HTHG': '0', 'HTAG': '0', 'HTR': 'D', 'Season': '2017-18'}, {'ï»¿Div': 'E0', 'Date': '25-11-2017', 'HomeTeam': 'Newcastle', 'AwayTeam': 'Watford', 'FTHG': '0', 'FTAG': '3', 'FTR': 'A', 'HTHG': '0', 'HTAG': '2', 'HTR': 'A', 'Season': '2017-18'}, {'ï»¿Div': 'E0', 'Date': '25-11-2017', 'HomeTeam': 'Swansea', 'AwayTeam': 'Bournemouth', 'FTHG': '0', 'FTAG': '0', 'FTR': 'D', 'HTHG': '0', 'HTAG': '0', 'HTR': 'D', 'Season': '2017-18'}, {'ï»¿Div': 'E0', 'Date': '25-11-2017', 'HomeTeam': 'Tottenham', 'AwayTeam': 'West Brom', 'FTHG': '1', 'FTAG': '1', 'FTR': 'D', 'HTHG': '0', 'HTAG': '1', 'HTR': 'A', 'Season': '2017-18'}, {'ï»¿Div': 'E0', 'Date': '26-11-2017', 'HomeTeam': 'Burnley', 'AwayTeam': 'Arsenal', 'FTHG': '0', 'FTAG': '1', 'FTR': 'A', 'HTHG': '0', 'HTAG': '0', 'HTR': 'D', 'Season': '2017-18'}, {'ï»¿Div': 'E0', 'Date': '26-11-2017', 'HomeTeam': 'Huddersfield', 'AwayTeam': 'Man City', 'FTHG': '1', 'FTAG': '2', 'FTR': 'A', 'HTHG': '1', 'HTAG': '0', 'HTR': 'H', 'Season': '2017-18'}, {'ï»¿Div': 'E0', 'Date': '26-11-2017', 'HomeTeam': 'Southampton', 'AwayTeam': 'Everton', 'FTHG': '4', 'FTAG': '1', 'FTR': 'H', 'HTHG': '1', 'HTAG': '1', 'HTR': 'D', 'Season': '2017-18'}, {'ï»¿Div': 'E0', 'Date': '28-11-2017', 'HomeTeam': 'Brighton', 'AwayTeam': 'Crystal Palace', 'FTHG': '0', 'FTAG': '0', 'FTR': 'D', 'HTHG': '0', 'HTAG': '0', 'HTR': 'D', 'Season': '2017-18'}, {'ï»¿Div': 'E0', 'Date': '28-11-2017', 'HomeTeam': 'Leicester', 'AwayTeam': 'Tottenham', 'FTHG': '2', 'FTAG': '1', 'FTR': 'H', 'HTHG': '2', 'HTAG': '0', 'HTR': 'H', 'Season': '2017-18'}, {'ï»¿Div': 'E0', 'Date': '28-11-2017', 'HomeTeam': 'Watford', 'AwayTeam': 'Man United', 'FTHG': '2', 'FTAG': '4', 'FTR': 'A', 'HTHG': '0', 'HTAG': '3', 'HTR': 'A', 'Season': '2017-18'}, {'ï»¿Div': 'E0', 'Date': '28-11-2017', 'HomeTeam': 'West Brom', 'AwayTeam': 'Newcastle', 'FTHG': '2', 'FTAG': '2', 'FTR': 'D', 'HTHG': '1', 'HTAG': '0', 'HTR': 'H', 'Season': '2017-18'}, {'ï»¿Div': 'E0', 'Date': '29-11-2017', 'HomeTeam': 'Arsenal', 'AwayTeam': 'Huddersfield', 'FTHG': '5', 'FTAG': '0', 'FTR': 'H', 'HTHG': '1', 'HTAG': '0', 'HTR': 'H', 'Season': '2017-18'}, {'ï»¿Div': 'E0', 'Date': '29-11-2017', 'HomeTeam': 'Bournemouth', 'AwayTeam': 'Burnley', 'FTHG': '1', 'FTAG': '2', 'FTR': 'A', 'HTHG': '0', 'HTAG': '1', 'HTR': 'A', 'Season': '2017-18'}, {'ï»¿Div': 'E0', 'Date': '29-11-2017', 'HomeTeam': 'Chelsea', 'AwayTeam': 'Swansea', 'FTHG': '1', 'FTAG': '0', 'FTR': 'H', 'HTHG': '0', 'HTAG': '0', 'HTR': 'D', 'Season': '2017-18'}, {'ï»¿Div': 'E0', 'Date': '29-11-2017', 'HomeTeam': 'Everton', 'AwayTeam': 'West Ham', 'FTHG': '4', 'FTAG': '0', 'FTR': 'H', 'HTHG': '2', 'HTAG': '0', 'HTR': 'H', 'Season': '2017-18'}, {'ï»¿Div': 'E0', 'Date': '29-11-2017', 'HomeTeam': 'Man City', 'AwayTeam': 'Southampton', 'FTHG': '2', 'FTAG': '1', 'FTR': 'H', 'HTHG': '0', 'HTAG': '0', 'HTR': 'D', 'Season': '2017-18'}, {'ï»¿Div': 'E0', 'Date': '29-11-2017', 'HomeTeam': 'Stoke', 'AwayTeam': 'Liverpool', 'FTHG': '0', 'FTAG': '3', 'FTR': 'A', 'HTHG': '0', 'HTAG': '1', 'HTR': 'A', 'Season': '2017-18'}, {'ï»¿Div': 'E0', 'Date': '02-12-2017', 'HomeTeam': 'Arsenal', 'AwayTeam': 'Man United', 'FTHG': '1', 'FTAG': '3', 'FTR': 'A', 'HTHG': '0', 'HTAG': '2', 'HTR': 'A', 'Season': '2017-18'}, {'ï»¿Div': 'E0', 'Date': '02-12-2017', 'HomeTeam': 'Brighton', 'AwayTeam': 'Liverpool', 'FTHG': '1', 'FTAG': '5', 'FTR': 'A', 'HTHG': '0', 'HTAG': '2', 'HTR': 'A', 'Season': '2017-18'}, {'ï»¿Div': 'E0', 'Date': '02-12-2017', 'HomeTeam': 'Chelsea', 'AwayTeam': 'Newcastle', 'FTHG': '3', 'FTAG': '1', 'FTR': 'H', 'HTHG': '2', 'HTAG': '1', 'HTR': 'H', 'Season': '2017-18'}, {'ï»¿Div': 'E0', 'Date': '02-12-2017', 'HomeTeam': 'Everton', 'AwayTeam': 'Huddersfield', 'FTHG': '2', 'FTAG': '0', 'FTR': 'H', 'HTHG': '0', 'HTAG': '0', 'HTR': 'D', 'Season': '2017-18'}, {'ï»¿Div': 'E0', 'Date': '02-12-2017', 'HomeTeam': 'Leicester', 'AwayTeam': 'Burnley', 'FTHG': '1', 'FTAG': '0', 'FTR': 'H', 'HTHG': '1', 'HTAG': '0', 'HTR': 'H', 'Season': '2017-18'}, {'ï»¿Div': 'E0', 'Date': '02-12-2017', 'HomeTeam': 'Stoke', 'AwayTeam': 'Swansea', 'FTHG': '2', 'FTAG': '1', 'FTR': 'H', 'HTHG': '2', 'HTAG': '1', 'HTR': 'H', 'Season': '2017-18'}, {'ï»¿Div': 'E0', 'Date': '02-12-2017', 'HomeTeam': 'Watford', 'AwayTeam': 'Tottenham', 'FTHG': '1', 'FTAG': '1', 'FTR': 'D', 'HTHG': '1', 'HTAG': '1', 'HTR': 'D', 'Season': '2017-18'}, {'ï»¿Div': 'E0', 'Date': '02-12-2017', 'HomeTeam': 'West Brom', 'AwayTeam': 'Crystal Palace', 'FTHG': '0', 'FTAG': '0', 'FTR': 'D', 'HTHG': '0', 'HTAG': '0', 'HTR': 'D', 'Season': '2017-18'}, {'ï»¿Div': 'E0', 'Date': '03-12-2017', 'HomeTeam': 'Bournemouth', 'AwayTeam': 'Southampton', 'FTHG': '1', 'FTAG': '1', 'FTR': 'D', 'HTHG': '1', 'HTAG': '0', 'HTR': 'H', 'Season': '2017-18'}, {'ï»¿Div': 'E0', 'Date': '03-12-2017', 'HomeTeam': 'Man City', 'AwayTeam': 'West Ham', 'FTHG': '2', 'FTAG': '1', 'FTR': 'H', 'HTHG': '0', 'HTAG': '1', 'HTR': 'A', 'Season': '2017-18'}, {'ï»¿Div': 'E0', 'Date': '09-12-2017', 'HomeTeam': 'Burnley', 'AwayTeam': 'Watford', 'FTHG': '1', 'FTAG': '0', 'FTR': 'H', 'HTHG': '1', 'HTAG': '0', 'HTR': 'H', 'Season': '2017-18'}, {'ï»¿Div': 'E0', 'Date': '09-12-2017', 'HomeTeam': 'Crystal Palace', 'AwayTeam': 'Bournemouth', 'FTHG': '2', 'FTAG': '2', 'FTR': 'D', 'HTHG': '2', 'HTAG': '2', 'HTR': 'D', 'Season': '2017-18'}, {'ï»¿Div': 'E0', 'Date': '09-12-2017', 'HomeTeam': 'Huddersfield', 'AwayTeam': 'Brighton', 'FTHG': '2', 'FTAG': '0', 'FTR': 'H', 'HTHG': '2', 'HTAG': '0', 'HTR': 'H', 'Season': '2017-18'}, {'ï»¿Div': 'E0', 'Date': '09-12-2017', 'HomeTeam': 'Newcastle', 'AwayTeam': 'Leicester', 'FTHG': '2', 'FTAG': '3', 'FTR': 'A', 'HTHG': '1', 'HTAG': '1', 'HTR': 'D', 'Season': '2017-18'}, {'ï»¿Div': 'E0', 'Date': '09-12-2017', 'HomeTeam': 'Swansea', 'AwayTeam': 'West Brom', 'FTHG': '1', 'FTAG': '0', 'FTR': 'H', 'HTHG': '0', 'HTAG': '0', 'HTR': 'D', 'Season': '2017-18'}, {'ï»¿Div': 'E0', 'Date': '09-12-2017', 'HomeTeam': 'Tottenham', 'AwayTeam': 'Stoke', 'FTHG': '5', 'FTAG': '1', 'FTR': 'H', 'HTHG': '1', 'HTAG': '0', 'HTR': 'H', 'Season': '2017-18'}, {'ï»¿Div': 'E0', 'Date': '09-12-2017', 'HomeTeam': 'West Ham', 'AwayTeam': 'Chelsea', 'FTHG': '1', 'FTAG': '0', 'FTR': 'H', 'HTHG': '1', 'HTAG': '0', 'HTR': 'H', 'Season': '2017-18'}, {'ï»¿Div': 'E0', 'Date': '10-12-2017', 'HomeTeam': 'Liverpool', 'AwayTeam': 'Everton', 'FTHG': '1', 'FTAG': '1', 'FTR': 'D', 'HTHG': '1', 'HTAG': '0', 'HTR': 'H', 'Season': '2017-18'}, {'ï»¿Div': 'E0', 'Date': '10-12-2017', 'HomeTeam': 'Man United', 'AwayTeam': 'Man City', 'FTHG': '1', 'FTAG': '2', 'FTR': 'A', 'HTHG': '1', 'HTAG': '1', 'HTR': 'D', 'Season': '2017-18'}, {'ï»¿Div': 'E0', 'Date': '10-12-2017', 'HomeTeam': 'Southampton', 'AwayTeam': 'Arsenal', 'FTHG': '1', 'FTAG': '1', 'FTR': 'D', 'HTHG': '1', 'HTAG': '0', 'HTR': 'H', 'Season': '2017-18'}, {'ï»¿Div': 'E0', 'Date': '12-12-2017', 'HomeTeam': 'Burnley', 'AwayTeam': 'Stoke', 'FTHG': '1', 'FTAG': '0', 'FTR': 'H', 'HTHG': '0', 'HTAG': '0', 'HTR': 'D', 'Season': '2017-18'}, {'ï»¿Div': 'E0', 'Date': '12-12-2017', 'HomeTeam': 'Crystal Palace', 'AwayTeam': 'Watford', 'FTHG': '2', 'FTAG': '1', 'FTR': 'H', 'HTHG': '0', 'HTAG': '1', 'HTR': 'A', 'Season': '2017-18'}, {'ï»¿Div': 'E0', 'Date': '12-12-2017', 'HomeTeam': 'Huddersfield', 'AwayTeam': 'Chelsea', 'FTHG': '1', 'FTAG': '3', 'FTR': 'A', 'HTHG': '0', 'HTAG': '2', 'HTR': 'A', 'Season': '2017-18'}, {'ï»¿Div': 'E0', 'Date': '13-12-2017', 'HomeTeam': 'Liverpool', 'AwayTeam': 'West Brom', 'FTHG': '0', 'FTAG': '0', 'FTR': 'D', 'HTHG': '0', 'HTAG': '0', 'HTR': 'D', 'Season': '2017-18'}, {'ï»¿Div': 'E0', 'Date': '13-12-2017', 'HomeTeam': 'Man United', 'AwayTeam': 'Bournemouth', 'FTHG': '1', 'FTAG': '0', 'FTR': 'H', 'HTHG': '1', 'HTAG': '0', 'HTR': 'H', 'Season': '2017-18'}, {'ï»¿Div': 'E0', 'Date': '13-12-2017', 'HomeTeam': 'Newcastle', 'AwayTeam': 'Everton', 'FTHG': '0', 'FTAG': '1', 'FTR': 'A', 'HTHG': '0', 'HTAG': '1', 'HTR': 'A', 'Season': '2017-18'}, {'ï»¿Div': 'E0', 'Date': '13-12-2017', 'HomeTeam': 'Southampton', 'AwayTeam': 'Leicester', 'FTHG': '1', 'FTAG': '4', 'FTR': 'A', 'HTHG': '0', 'HTAG': '3', 'HTR': 'A', 'Season': '2017-18'}, {'ï»¿Div': 'E0', 'Date': '13-12-2017', 'HomeTeam': 'Swansea', 'AwayTeam': 'Man City', 'FTHG': '0', 'FTAG': '4', 'FTR': 'A', 'HTHG': '0', 'HTAG': '2', 'HTR': 'A', 'Season': '2017-18'}, {'ï»¿Div': 'E0', 'Date': '13-12-2017', 'HomeTeam': 'Tottenham', 'AwayTeam': 'Brighton', 'FTHG': '2', 'FTAG': '0', 'FTR': 'H', 'HTHG': '1', 'HTAG': '0', 'HTR': 'H', 'Season': '2017-18'}, {'ï»¿Div': 'E0', 'Date': '13-12-2017', 'HomeTeam': 'West Ham', 'AwayTeam': 'Arsenal', 'FTHG': '0', 'FTAG': '0', 'FTR': 'D', 'HTHG': '0', 'HTAG': '0', 'HTR': 'D', 'Season': '2017-18'}, {'ï»¿Div': 'E0', 'Date': '16-12-2017', 'HomeTeam': 'Arsenal', 'AwayTeam': 'Newcastle', 'FTHG': '1', 'FTAG': '0', 'FTR': 'H', 'HTHG': '1', 'HTAG': '0', 'HTR': 'H', 'Season': '2017-18'}, {'ï»¿Div': 'E0', 'Date': '16-12-2017', 'HomeTeam': 'Brighton', 'AwayTeam': 'Burnley', 'FTHG': '0', 'FTAG': '0', 'FTR': 'D', 'HTHG': '0', 'HTAG': '0', 'HTR': 'D', 'Season': '2017-18'}, {'ï»¿Div': 'E0', 'Date': '16-12-2017', 'HomeTeam': 'Chelsea', 'AwayTeam': 'Southampton', 'FTHG': '1', 'FTAG': '0', 'FTR': 'H', 'HTHG': '1', 'HTAG': '0', 'HTR': 'H', 'Season': '2017-18'}, {'ï»¿Div': 'E0', 'Date': '16-12-2017', 'HomeTeam': 'Leicester', 'AwayTeam': 'Crystal Palace', 'FTHG': '0', 'FTAG': '3', 'FTR': 'A', 'HTHG': '0', 'HTAG': '2', 'HTR': 'A', 'Season': '2017-18'}, {'ï»¿Div': 'E0', 'Date': '16-12-2017', 'HomeTeam': 'Man City', 'AwayTeam': 'Tottenham', 'FTHG': '4', 'FTAG': '1', 'FTR': 'H', 'HTHG': '1', 'HTAG': '0', 'HTR': 'H', 'Season': '2017-18'}, {'ï»¿Div': 'E0', 'Date': '16-12-2017', 'HomeTeam': 'Stoke', 'AwayTeam': 'West Ham', 'FTHG': '0', 'FTAG': '3', 'FTR': 'A', 'HTHG': '0', 'HTAG': '1', 'HTR': 'A', 'Season': '2017-18'}, {'ï»¿Div': 'E0', 'Date': '16-12-2017', 'HomeTeam': 'Watford', 'AwayTeam': 'Huddersfield', 'FTHG': '1', 'FTAG': '4', 'FTR': 'A', 'HTHG': '0', 'HTAG': '2', 'HTR': 'A', 'Season': '2017-18'}, {'ï»¿Div': 'E0', 'Date': '17-12-2017', 'HomeTeam': 'Bournemouth', 'AwayTeam': 'Liverpool', 'FTHG': '0', 'FTAG': '4', 'FTR': 'A', 'HTHG': '0', 'HTAG': '3', 'HTR': 'A', 'Season': '2017-18'}, {'ï»¿Div': 'E0', 'Date': '17-12-2017', 'HomeTeam': 'West Brom', 'AwayTeam': 'Man United', 'FTHG': '1', 'FTAG': '2', 'FTR': 'A', 'HTHG': '0', 'HTAG': '2', 'HTR': 'A', 'Season': '2017-18'}, {'ï»¿Div': 'E0', 'Date': '18-12-2017', 'HomeTeam': 'Everton', 'AwayTeam': 'Swansea', 'FTHG': '3', 'FTAG': '1', 'FTR': 'H', 'HTHG': '1', 'HTAG': '1', 'HTR': 'D', 'Season': '2017-18'}, {'ï»¿Div': 'E0', 'Date': '22-12-2017', 'HomeTeam': 'Arsenal', 'AwayTeam': 'Liverpool', 'FTHG': '3', 'FTAG': '3', 'FTR': 'D', 'HTHG': '0', 'HTAG': '1', 'HTR': 'A', 'Season': '2017-18'}, {'ï»¿Div': 'E0', 'Date': '23-12-2017', 'HomeTeam': 'Brighton', 'AwayTeam': 'Watford', 'FTHG': '1', 'FTAG': '0', 'FTR': 'H', 'HTHG': '0', 'HTAG': '0', 'HTR': 'D', 'Season': '2017-18'}, {'ï»¿Div': 'E0', 'Date': '23-12-2017', 'HomeTeam': 'Burnley', 'AwayTeam': 'Tottenham', 'FTHG': '0', 'FTAG': '3', 'FTR': 'A', 'HTHG': '0', 'HTAG': '1', 'HTR': 'A', 'Season': '2017-18'}, {'ï»¿Div': 'E0', 'Date': '23-12-2017', 'HomeTeam': 'Everton', 'AwayTeam': 'Chelsea', 'FTHG': '0', 'FTAG': '0', 'FTR': 'D', 'HTHG': '0', 'HTAG': '0', 'HTR': 'D', 'Season': '2017-18'}, {'ï»¿Div': 'E0', 'Date': '23-12-2017', 'HomeTeam': 'Leicester', 'AwayTeam': 'Man United', 'FTHG': '2', 'FTAG': '2', 'FTR': 'D', 'HTHG': '1', 'HTAG': '1', 'HTR': 'D', 'Season': '2017-18'}, {'ï»¿Div': 'E0', 'Date': '23-12-2017', 'HomeTeam': 'Man City', 'AwayTeam': 'Bournemouth', 'FTHG': '4', 'FTAG': '0', 'FTR': 'H', 'HTHG': '1', 'HTAG': '0', 'HTR': 'H', 'Season': '2017-18'}, {'ï»¿Div': 'E0', 'Date': '23-12-2017', 'HomeTeam': 'Southampton', 'AwayTeam': 'Huddersfield', 'FTHG': '1', 'FTAG': '1', 'FTR': 'D', 'HTHG': '1', 'HTAG': '0', 'HTR': 'H', 'Season': '2017-18'}, {'ï»¿Div': 'E0', 'Date': '23-12-2017', 'HomeTeam': 'Stoke', 'AwayTeam': 'West Brom', 'FTHG': '3', 'FTAG': '1', 'FTR': 'H', 'HTHG': '2', 'HTAG': '0', 'HTR': 'H', 'Season': '2017-18'}, {'ï»¿Div': 'E0', 'Date': '23-12-2017', 'HomeTeam': 'Swansea', 'AwayTeam': 'Crystal Palace', 'FTHG': '1', 'FTAG': '1', 'FTR': 'D', 'HTHG': '0', 'HTAG': '0', 'HTR': 'D', 'Season': '2017-18'}, {'ï»¿Div': 'E0', 'Date': '23-12-2017', 'HomeTeam': 'West Ham', 'AwayTeam': 'Newcastle', 'FTHG': '2', 'FTAG': '3', 'FTR': 'A', 'HTHG': '1', 'HTAG': '1', 'HTR': 'D', 'Season': '2017-18'}, {'ï»¿Div': 'E0', 'Date': '26-12-2017', 'HomeTeam': 'Bournemouth', 'AwayTeam': 'West Ham', 'FTHG': '3', 'FTAG': '3', 'FTR': 'D', 'HTHG': '1', 'HTAG': '1', 'HTR': 'D', 'Season': '2017-18'}, {'ï»¿Div': 'E0', 'Date': '26-12-2017', 'HomeTeam': 'Chelsea', 'AwayTeam': 'Brighton', 'FTHG': '2', 'FTAG': '0', 'FTR': 'H', 'HTHG': '0', 'HTAG': '0', 'HTR': 'D', 'Season': '2017-18'}, {'ï»¿Div': 'E0', 'Date': '26-12-2017', 'HomeTeam': 'Huddersfield', 'AwayTeam': 'Stoke', 'FTHG': '1', 'FTAG': '1', 'FTR': 'D', 'HTHG': '1', 'HTAG': '0', 'HTR': 'H', 'Season': '2017-18'}, {'ï»¿Div': 'E0', 'Date': '26-12-2017', 'HomeTeam': 'Liverpool', 'AwayTeam': 'Swansea', 'FTHG': '5', 'FTAG': '0', 'FTR': 'H', 'HTHG': '1', 'HTAG': '0', 'HTR': 'H', 'Season': '2017-18'}, {'ï»¿Div': 'E0', 'Date': '26-12-2017', 'HomeTeam': 'Man United', 'AwayTeam': 'Burnley', 'FTHG': '2', 'FTAG': '2', 'FTR': 'D', 'HTHG': '0', 'HTAG': '2', 'HTR': 'A', 'Season': '2017-18'}, {'ï»¿Div': 'E0', 'Date': '26-12-2017', 'HomeTeam': 'Tottenham', 'AwayTeam': 'Southampton', 'FTHG': '5', 'FTAG': '2', 'FTR': 'H', 'HTHG': '2', 'HTAG': '0', 'HTR': 'H', 'Season': '2017-18'}, {'ï»¿Div': 'E0', 'Date': '26-12-2017', 'HomeTeam': 'Watford', 'AwayTeam': 'Leicester', 'FTHG': '2', 'FTAG': '1', 'FTR': 'H', 'HTHG': '1', 'HTAG': '1', 'HTR': 'D', 'Season': '2017-18'}, {'ï»¿Div': 'E0', 'Date': '26-12-2017', 'HomeTeam': 'West Brom', 'AwayTeam': 'Everton', 'FTHG': '0', 'FTAG': '0', 'FTR': 'D', 'HTHG': '0', 'HTAG': '0', 'HTR': 'D', 'Season': '2017-18'}, {'ï»¿Div': 'E0', 'Date': '27-12-2017', 'HomeTeam': 'Newcastle', 'AwayTeam': 'Man City', 'FTHG': '0', 'FTAG': '1', 'FTR': 'A', 'HTHG': '0', 'HTAG': '1', 'HTR': 'A', 'Season': '2017-18'}, {'ï»¿Div': 'E0', 'Date': '28-12-2017', 'HomeTeam': 'Crystal Palace', 'AwayTeam': 'Arsenal', 'FTHG': '2', 'FTAG': '3', 'FTR': 'A', 'HTHG': '0', 'HTAG': '1', 'HTR': 'A', 'Season': '2017-18'}, {'ï»¿Div': 'E0', 'Date': '30-12-2017', 'HomeTeam': 'Bournemouth', 'AwayTeam': 'Everton', 'FTHG': '2', 'FTAG': '1', 'FTR': 'H', 'HTHG': '1', 'HTAG': '0', 'HTR': 'H', 'Season': '2017-18'}, {'ï»¿Div': 'E0', 'Date': '30-12-2017', 'HomeTeam': 'Chelsea', 'AwayTeam': 'Stoke', 'FTHG': '5', 'FTAG': '0', 'FTR': 'H', 'HTHG': '3', 'HTAG': '0', 'HTR': 'H', 'Season': '2017-18'}, {'ï»¿Div': 'E0', 'Date': '30-12-2017', 'HomeTeam': 'Huddersfield', 'AwayTeam': 'Burnley', 'FTHG': '0', 'FTAG': '0', 'FTR': 'D', 'HTHG': '0', 'HTAG': '0', 'HTR': 'D', 'Season': '2017-18'}, {'ï»¿Div': 'E0', 'Date': '30-12-2017', 'HomeTeam': 'Liverpool', 'AwayTeam': 'Leicester', 'FTHG': '2', 'FTAG': '1', 'FTR': 'H', 'HTHG': '0', 'HTAG': '1', 'HTR': 'A', 'Season': '2017-18'}, {'ï»¿Div': 'E0', 'Date': '30-12-2017', 'HomeTeam': 'Man United', 'AwayTeam': 'Southampton', 'FTHG': '0', 'FTAG': '0', 'FTR': 'D', 'HTHG': '0', 'HTAG': '0', 'HTR': 'D', 'Season': '2017-18'}, {'ï»¿Div': 'E0', 'Date': '30-12-2017', 'HomeTeam': 'Newcastle', 'AwayTeam': 'Brighton', 'FTHG': '0', 'FTAG': '0', 'FTR': 'D', 'HTHG': '0', 'HTAG': '0', 'HTR': 'D', 'Season': '2017-18'}, {'ï»¿Div': 'E0', 'Date': '30-12-2017', 'HomeTeam': 'Watford', 'AwayTeam': 'Swansea', 'FTHG': '1', 'FTAG': '2', 'FTR': 'A', 'HTHG': '1', 'HTAG': '0', 'HTR': 'H', 'Season': '2017-18'}, {'ï»¿Div': 'E0', 'Date': '31-12-2017', 'HomeTeam': 'Crystal Palace', 'AwayTeam': 'Man City', 'FTHG': '0', 'FTAG': '0', 'FTR': 'D', 'HTHG': '0', 'HTAG': '0', 'HTR': 'D', 'Season': '2017-18'}, {'ï»¿Div': 'E0', 'Date': '31-12-2017', 'HomeTeam': 'West Brom', 'AwayTeam': 'Arsenal', 'FTHG': '1', 'FTAG': '1', 'FTR': 'D', 'HTHG': '0', 'HTAG': '0', 'HTR': 'D', 'Season': '2017-18'}, {'ï»¿Div': 'E0', 'Date': '01-01-2018', 'HomeTeam': 'Brighton', 'AwayTeam': 'Bournemouth', 'FTHG': '2', 'FTAG': '2', 'FTR': 'D', 'HTHG': '1', 'HTAG': '1', 'HTR': 'D', 'Season': '2017-18'}, {'ï»¿Div': 'E0', 'Date': '01-01-2018', 'HomeTeam': 'Burnley', 'AwayTeam': 'Liverpool', 'FTHG': '1', 'FTAG': '2', 'FTR': 'A', 'HTHG': '0', 'HTAG': '0', 'HTR': 'D', 'Season': '2017-18'}, {'ï»¿Div': 'E0', 'Date': '01-01-2018', 'HomeTeam': 'Everton', 'AwayTeam': 'Man United', 'FTHG': '0', 'FTAG': '2', 'FTR': 'A', 'HTHG': '0', 'HTAG': '0', 'HTR': 'D', 'Season': '2017-18'}, {'ï»¿Div': 'E0', 'Date': '01-01-2018', 'HomeTeam': 'Leicester', 'AwayTeam': 'Huddersfield', 'FTHG': '3', 'FTAG': '0', 'FTR': 'H', 'HTHG': '0', 'HTAG': '0', 'HTR': 'D', 'Season': '2017-18'}, {'ï»¿Div': 'E0', 'Date': '01-01-2018', 'HomeTeam': 'Stoke', 'AwayTeam': 'Newcastle', 'FTHG': '0', 'FTAG': '1', 'FTR': 'A', 'HTHG': '0', 'HTAG': '0', 'HTR': 'D', 'Season': '2017-18'}, {'ï»¿Div': 'E0', 'Date': '02-01-2018', 'HomeTeam': 'Man City', 'AwayTeam': 'Watford', 'FTHG': '3', 'FTAG': '1', 'FTR': 'H', 'HTHG': '2', 'HTAG': '0', 'HTR': 'H', 'Season': '2017-18'}, {'ï»¿Div': 'E0', 'Date': '02-01-2018', 'HomeTeam': 'Southampton', 'AwayTeam': 'Crystal Palace', 'FTHG': '1', 'FTAG': '2', 'FTR': 'A', 'HTHG': '1', 'HTAG': '0', 'HTR': 'H', 'Season': '2017-18'}, {'ï»¿Div': 'E0', 'Date': '02-01-2018', 'HomeTeam': 'Swansea', 'AwayTeam': 'Tottenham', 'FTHG': '0', 'FTAG': '2', 'FTR': 'A', 'HTHG': '0', 'HTAG': '1', 'HTR': 'A', 'Season': '2017-18'}, {'ï»¿Div': 'E0', 'Date': '02-01-2018', 'HomeTeam': 'West Ham', 'AwayTeam': 'West Brom', 'FTHG': '2', 'FTAG': '1', 'FTR': 'H', 'HTHG': '0', 'HTAG': '1', 'HTR': 'A', 'Season': '2017-18'}, {'ï»¿Div': 'E0', 'Date': '03-01-2018', 'HomeTeam': 'Arsenal', 'AwayTeam': 'Chelsea', 'FTHG': '2', 'FTAG': '2', 'FTR': 'D', 'HTHG': '0', 'HTAG': '0', 'HTR': 'D', 'Season': '2017-18'}, {'ï»¿Div': 'E0', 'Date': '04-01-2018', 'HomeTeam': 'Tottenham', 'AwayTeam': 'West Ham', 'FTHG': '1', 'FTAG': '1', 'FTR': 'D', 'HTHG': '0', 'HTAG': '0', 'HTR': 'D', 'Season': '2017-18'}, {'ï»¿Div': 'E0', 'Date': '13-01-2018', 'HomeTeam': 'Chelsea', 'AwayTeam': 'Leicester', 'FTHG': '0', 'FTAG': '0', 'FTR': 'D', 'HTHG': '0', 'HTAG': '0', 'HTR': 'D', 'Season': '2017-18'}, {'ï»¿Div': 'E0', 'Date': '13-01-2018', 'HomeTeam': 'Crystal Palace', 'AwayTeam': 'Burnley', 'FTHG': '1', 'FTAG': '0', 'FTR': 'H', 'HTHG': '1', 'HTAG': '0', 'HTR': 'H', 'Season': '2017-18'}, {'ï»¿Div': 'E0', 'Date': '13-01-2018', 'HomeTeam': 'Huddersfield', 'AwayTeam': 'West Ham', 'FTHG': '1', 'FTAG': '4', 'FTR': 'A', 'HTHG': '1', 'HTAG': '1', 'HTR': 'D', 'Season': '2017-18'}, {'ï»¿Div': 'E0', 'Date': '13-01-2018', 'HomeTeam': 'Newcastle', 'AwayTeam': 'Swansea', 'FTHG': '1', 'FTAG': '1', 'FTR': 'D', 'HTHG': '0', 'HTAG': '0', 'HTR': 'D', 'Season': '2017-18'}, {'ï»¿Div': 'E0', 'Date': '13-01-2018', 'HomeTeam': 'Tottenham', 'AwayTeam': 'Everton', 'FTHG': '4', 'FTAG': '0', 'FTR': 'H', 'HTHG': '1', 'HTAG': '0', 'HTR': 'H', 'Season': '2017-18'}, {'ï»¿Div': 'E0', 'Date': '13-01-2018', 'HomeTeam': 'Watford', 'AwayTeam': 'Southampton', 'FTHG': '2', 'FTAG': '2', 'FTR': 'D', 'HTHG': '0', 'HTAG': '2', 'HTR': 'A', 'Season': '2017-18'}, {'ï»¿Div': 'E0', 'Date': '13-01-2018', 'HomeTeam': 'West Brom', 'AwayTeam': 'Brighton', 'FTHG': '2', 'FTAG': '0', 'FTR': 'H', 'HTHG': '1', 'HTAG': '0', 'HTR': 'H', 'Season': '2017-18'}, {'ï»¿Div': 'E0', 'Date': '14-01-2018', 'HomeTeam': 'Bournemouth', 'AwayTeam': 'Arsenal', 'FTHG': '2', 'FTAG': '1', 'FTR': 'H', 'HTHG': '0', 'HTAG': '0', 'HTR': 'D', 'Season': '2017-18'}, {'ï»¿Div': 'E0', 'Date': '14-01-2018', 'HomeTeam': 'Liverpool', 'AwayTeam': 'Man City', 'FTHG': '4', 'FTAG': '3', 'FTR': 'H', 'HTHG': '1', 'HTAG': '1', 'HTR': 'D', 'Season': '2017-18'}, {'ï»¿Div': 'E0', 'Date': '15-01-2018', 'HomeTeam': 'Man United', 'AwayTeam': 'Stoke', 'FTHG': '3', 'FTAG': '0', 'FTR': 'H', 'HTHG': '2', 'HTAG': '0', 'HTR': 'H', 'Season': '2017-18'}, {'ï»¿Div': 'E0', 'Date': '20-01-2018', 'HomeTeam': 'Arsenal', 'AwayTeam': 'Crystal Palace', 'FTHG': '4', 'FTAG': '1', 'FTR': 'H', 'HTHG': '4', 'HTAG': '0', 'HTR': 'H', 'Season': '2017-18'}, {'ï»¿Div': 'E0', 'Date': '20-01-2018', 'HomeTeam': 'Brighton', 'AwayTeam': 'Chelsea', 'FTHG': '0', 'FTAG': '4', 'FTR': 'A', 'HTHG': '0', 'HTAG': '2', 'HTR': 'A', 'Season': '2017-18'}, {'ï»¿Div': 'E0', 'Date': '20-01-2018', 'HomeTeam': 'Burnley', 'AwayTeam': 'Man United', 'FTHG': '0', 'FTAG': '1', 'FTR': 'A', 'HTHG': '0', 'HTAG': '0', 'HTR': 'D', 'Season': '2017-18'}, {'ï»¿Div': 'E0', 'Date': '20-01-2018', 'HomeTeam': 'Everton', 'AwayTeam': 'West Brom', 'FTHG': '1', 'FTAG': '1', 'FTR': 'D', 'HTHG': '0', 'HTAG': '1', 'HTR': 'A', 'Season': '2017-18'}, {'ï»¿Div': 'E0', 'Date': '20-01-2018', 'HomeTeam': 'Leicester', 'AwayTeam': 'Watford', 'FTHG': '2', 'FTAG': '0', 'FTR': 'H', 'HTHG': '1', 'HTAG': '0', 'HTR': 'H', 'Season': '2017-18'}, {'ï»¿Div': 'E0', 'Date': '20-01-2018', 'HomeTeam': 'Man City', 'AwayTeam': 'Newcastle', 'FTHG': '3', 'FTAG': '1', 'FTR': 'H', 'HTHG': '1', 'HTAG': '0', 'HTR': 'H', 'Season': '2017-18'}, {'ï»¿Div': 'E0', 'Date': '20-01-2018', 'HomeTeam': 'Stoke', 'AwayTeam': 'Huddersfield', 'FTHG': '2', 'FTAG': '0', 'FTR': 'H', 'HTHG': '0', 'HTAG': '0', 'HTR': 'D', 'Season': '2017-18'}, {'ï»¿Div': 'E0', 'Date': '20-01-2018', 'HomeTeam': 'West Ham', 'AwayTeam': 'Bournemouth', 'FTHG': '1', 'FTAG': '1', 'FTR': 'D', 'HTHG': '0', 'HTAG': '0', 'HTR': 'D', 'Season': '2017-18'}, {'ï»¿Div': 'E0', 'Date': '21-01-2018', 'HomeTeam': 'Southampton', 'AwayTeam': 'Tottenham', 'FTHG': '1', 'FTAG': '1', 'FTR': 'D', 'HTHG': '1', 'HTAG': '1', 'HTR': 'D', 'Season': '2017-18'}, {'ï»¿Div': 'E0', 'Date': '22-01-2018', 'HomeTeam': 'Swansea', 'AwayTeam': 'Liverpool', 'FTHG': '1', 'FTAG': '0', 'FTR': 'H', 'HTHG': '1', 'HTAG': '0', 'HTR': 'H', 'Season': '2017-18'}, {'ï»¿Div': 'E0', 'Date': '30-01-2018', 'HomeTeam': 'Huddersfield', 'AwayTeam': 'Liverpool', 'FTHG': '0', 'FTAG': '3', 'FTR': 'A', 'HTHG': '0', 'HTAG': '2', 'HTR': 'A', 'Season': '2017-18'}, {'ï»¿Div': 'E0', 'Date': '30-01-2018', 'HomeTeam': 'Swansea', 'AwayTeam': 'Arsenal', 'FTHG': '3', 'FTAG': '1', 'FTR': 'H', 'HTHG': '1', 'HTAG': '1', 'HTR': 'D', 'Season': '2017-18'}, {'ï»¿Div': 'E0', 'Date': '30-01-2018', 'HomeTeam': 'West Ham', 'AwayTeam': 'Crystal Palace', 'FTHG': '1', 'FTAG': '1', 'FTR': 'D', 'HTHG': '1', 'HTAG': '1', 'HTR': 'D', 'Season': '2017-18'}, {'ï»¿Div': 'E0', 'Date': '31-01-2018', 'HomeTeam': 'Chelsea', 'AwayTeam': 'Bournemouth', 'FTHG': '0', 'FTAG': '3', 'FTR': 'A', 'HTHG': '0', 'HTAG': '0', 'HTR': 'D', 'Season': '2017-18'}, {'ï»¿Div': 'E0', 'Date': '31-01-2018', 'HomeTeam': 'Everton', 'AwayTeam': 'Leicester', 'FTHG': '2', 'FTAG': '1', 'FTR': 'H', 'HTHG': '2', 'HTAG': '0', 'HTR': 'H', 'Season': '2017-18'}, {'ï»¿Div': 'E0', 'Date': '31-01-2018', 'HomeTeam': 'Man City', 'AwayTeam': 'West Brom', 'FTHG': '3', 'FTAG': '0', 'FTR': 'H', 'HTHG': '1', 'HTAG': '0', 'HTR': 'H', 'Season': '2017-18'}, {'ï»¿Div': 'E0', 'Date': '31-01-2018', 'HomeTeam': 'Newcastle', 'AwayTeam': 'Burnley', 'FTHG': '1', 'FTAG': '1', 'FTR': 'D', 'HTHG': '0', 'HTAG': '0', 'HTR': 'D', 'Season': '2017-18'}, {'ï»¿Div': 'E0', 'Date': '31-01-2018', 'HomeTeam': 'Southampton', 'AwayTeam': 'Brighton', 'FTHG': '1', 'FTAG': '1', 'FTR': 'D', 'HTHG': '0', 'HTAG': '1', 'HTR': 'A', 'Season': '2017-18'}, {'ï»¿Div': 'E0', 'Date': '31-01-2018', 'HomeTeam': 'Stoke', 'AwayTeam': 'Watford', 'FTHG': '0', 'FTAG': '0', 'FTR': 'D', 'HTHG': '0', 'HTAG': '0', 'HTR': 'D', 'Season': '2017-18'}, {'ï»¿Div': 'E0', 'Date': '31-01-2018', 'HomeTeam': 'Tottenham', 'AwayTeam': 'Man United', 'FTHG': '2', 'FTAG': '0', 'FTR': 'H', 'HTHG': '2', 'HTAG': '0', 'HTR': 'H', 'Season': '2017-18'}, {'ï»¿Div': 'E0', 'Date': '03-02-2018', 'HomeTeam': 'Arsenal', 'AwayTeam': 'Everton', 'FTHG': '5', 'FTAG': '1', 'FTR': 'H', 'HTHG': '4', 'HTAG': '0', 'HTR': 'H', 'Season': '2017-18'}, {'ï»¿Div': 'E0', 'Date': '03-02-2018', 'HomeTeam': 'Bournemouth', 'AwayTeam': 'Stoke', 'FTHG': '2', 'FTAG': '1', 'FTR': 'H', 'HTHG': '0', 'HTAG': '1', 'HTR': 'A', 'Season': '2017-18'}, {'ï»¿Div': 'E0', 'Date': '03-02-2018', 'HomeTeam': 'Brighton', 'AwayTeam': 'West Ham', 'FTHG': '3', 'FTAG': '1', 'FTR': 'H', 'HTHG': '1', 'HTAG': '1', 'HTR': 'D', 'Season': '2017-18'}, {'ï»¿Div': 'E0', 'Date': '03-02-2018', 'HomeTeam': 'Burnley', 'AwayTeam': 'Man City', 'FTHG': '1', 'FTAG': '1', 'FTR': 'D', 'HTHG': '0', 'HTAG': '1', 'HTR': 'A', 'Season': '2017-18'}, {'ï»¿Div': 'E0', 'Date': '03-02-2018', 'HomeTeam': 'Leicester', 'AwayTeam': 'Swansea', 'FTHG': '1', 'FTAG': '1', 'FTR': 'D', 'HTHG': '1', 'HTAG': '0', 'HTR': 'H', 'Season': '2017-18'}, {'ï»¿Div': 'E0', 'Date': '03-02-2018', 'HomeTeam': 'Man United', 'AwayTeam': 'Huddersfield', 'FTHG': '2', 'FTAG': '0', 'FTR': 'H', 'HTHG': '0', 'HTAG': '0', 'HTR': 'D', 'Season': '2017-18'}, {'ï»¿Div': 'E0', 'Date': '03-02-2018', 'HomeTeam': 'West Brom', 'AwayTeam': 'Southampton', 'FTHG': '2', 'FTAG': '3', 'FTR': 'A', 'HTHG': '1', 'HTAG': '2', 'HTR': 'A', 'Season': '2017-18'}, {'ï»¿Div': 'E0', 'Date': '04-02-2018', 'HomeTeam': 'Crystal Palace', 'AwayTeam': 'Newcastle', 'FTHG': '1', 'FTAG': '1', 'FTR': 'D', 'HTHG': '0', 'HTAG': '1', 'HTR': 'A', 'Season': '2017-18'}, {'ï»¿Div': 'E0', 'Date': '04-02-2018', 'HomeTeam': 'Liverpool', 'AwayTeam': 'Tottenham', 'FTHG': '2', 'FTAG': '2', 'FTR': 'D', 'HTHG': '1', 'HTAG': '0', 'HTR': 'H', 'Season': '2017-18'}, {'ï»¿Div': 'E0', 'Date': '05-02-2018', 'HomeTeam': 'Watford', 'AwayTeam': 'Chelsea', 'FTHG': '4', 'FTAG': '1', 'FTR': 'H', 'HTHG': '1', 'HTAG': '0', 'HTR': 'H', 'Season': '2017-18'}, {'ï»¿Div': 'E0', 'Date': '10-02-2018', 'HomeTeam': 'Everton', 'AwayTeam': 'Crystal Palace', 'FTHG': '3', 'FTAG': '1', 'FTR': 'H', 'HTHG': '0', 'HTAG': '0', 'HTR': 'D', 'Season': '2017-18'}, {'ï»¿Div': 'E0', 'Date': '10-02-2018', 'HomeTeam': 'Man City', 'AwayTeam': 'Leicester', 'FTHG': '5', 'FTAG': '1', 'FTR': 'H', 'HTHG': '1', 'HTAG': '1', 'HTR': 'D', 'Season': '2017-18'}, {'ï»¿Div': 'E0', 'Date': '10-02-2018', 'HomeTeam': 'Stoke', 'AwayTeam': 'Brighton', 'FTHG': '1', 'FTAG': '1', 'FTR': 'D', 'HTHG': '0', 'HTAG': '1', 'HTR': 'A', 'Season': '2017-18'}, {'ï»¿Div': 'E0', 'Date': '10-02-2018', 'HomeTeam': 'Swansea', 'AwayTeam': 'Burnley', 'FTHG': '1', 'FTAG': '0', 'FTR': 'H', 'HTHG': '0', 'HTAG': '0', 'HTR': 'D', 'Season': '2017-18'}, {'ï»¿Div': 'E0', 'Date': '10-02-2018', 'HomeTeam': 'Tottenham', 'AwayTeam': 'Arsenal', 'FTHG': '1', 'FTAG': '0', 'FTR': 'H', 'HTHG': '0', 'HTAG': '0', 'HTR': 'D', 'Season': '2017-18'}, {'ï»¿Div': 'E0', 'Date': '10-02-2018', 'HomeTeam': 'West Ham', 'AwayTeam': 'Watford', 'FTHG': '2', 'FTAG': '0', 'FTR': 'H', 'HTHG': '1', 'HTAG': '0', 'HTR': 'H', 'Season': '2017-18'}, {'ï»¿Div': 'E0', 'Date': '11-02-2018', 'HomeTeam': 'Huddersfield', 'AwayTeam': 'Bournemouth', 'FTHG': '4', 'FTAG': '1', 'FTR': 'H', 'HTHG': '2', 'HTAG': '1', 'HTR': 'H', 'Season': '2017-18'}, {'ï»¿Div': 'E0', 'Date': '11-02-2018', 'HomeTeam': 'Newcastle', 'AwayTeam': 'Man United', 'FTHG': '1', 'FTAG': '0', 'FTR': 'H', 'HTHG': '0', 'HTAG': '0', 'HTR': 'D', 'Season': '2017-18'}, {'ï»¿Div': 'E0', 'Date': '11-02-2018', 'HomeTeam': 'Southampton', 'AwayTeam': 'Liverpool', 'FTHG': '0', 'FTAG': '2', 'FTR': 'A', 'HTHG': '0', 'HTAG': '2', 'HTR': 'A', 'Season': '2017-18'}, {'ï»¿Div': 'E0', 'Date': '12-02-2018', 'HomeTeam': 'Chelsea', 'AwayTeam': 'West Brom', 'FTHG': '3', 'FTAG': '0', 'FTR': 'H', 'HTHG': '1', 'HTAG': '0', 'HTR': 'H', 'Season': '2017-18'}, {'ï»¿Div': 'E0', 'Date': '24-02-2018', 'HomeTeam': 'Bournemouth', 'AwayTeam': 'Newcastle', 'FTHG': '2', 'FTAG': '2', 'FTR': 'D', 'HTHG': '0', 'HTAG': '2', 'HTR': 'A', 'Season': '2017-18'}, {'ï»¿Div': 'E0', 'Date': '24-02-2018', 'HomeTeam': 'Brighton', 'AwayTeam': 'Swansea', 'FTHG': '4', 'FTAG': '1', 'FTR': 'H', 'HTHG': '1', 'HTAG': '0', 'HTR': 'H', 'Season': '2017-18'}, {'ï»¿Div': 'E0', 'Date': '24-02-2018', 'HomeTeam': 'Burnley', 'AwayTeam': 'Southampton', 'FTHG': '1', 'FTAG': '1', 'FTR': 'D', 'HTHG': '0', 'HTAG': '0', 'HTR': 'D', 'Season': '2017-18'}, {'ï»¿Div': 'E0', 'Date': '24-02-2018', 'HomeTeam': 'Leicester', 'AwayTeam': 'Stoke', 'FTHG': '1', 'FTAG': '1', 'FTR': 'D', 'HTHG': '0', 'HTAG': '1', 'HTR': 'A', 'Season': '2017-18'}, {'ï»¿Div': 'E0', 'Date': '24-02-2018', 'HomeTeam': 'Liverpool', 'AwayTeam': 'West Ham', 'FTHG': '4', 'FTAG': '1', 'FTR': 'H', 'HTHG': '1', 'HTAG': '0', 'HTR': 'H', 'Season': '2017-18'}, {'ï»¿Div': 'E0', 'Date': '24-02-2018', 'HomeTeam': 'Watford', 'AwayTeam': 'Everton', 'FTHG': '1', 'FTAG': '0', 'FTR': 'H', 'HTHG': '0', 'HTAG': '0', 'HTR': 'D', 'Season': '2017-18'}, {'ï»¿Div': 'E0', 'Date': '24-02-2018', 'HomeTeam': 'West Brom', 'AwayTeam': 'Huddersfield', 'FTHG': '1', 'FTAG': '2', 'FTR': 'A', 'HTHG': '0', 'HTAG': '0', 'HTR': 'D', 'Season': '2017-18'}, {'ï»¿Div': 'E0', 'Date': '25-02-2018', 'HomeTeam': 'Crystal Palace', 'AwayTeam': 'Tottenham', 'FTHG': '0', 'FTAG': '1', 'FTR': 'A', 'HTHG': '0', 'HTAG': '0', 'HTR': 'D', 'Season': '2017-18'}, {'ï»¿Div': 'E0', 'Date': '25-02-2018', 'HomeTeam': 'Man United', 'AwayTeam': 'Chelsea', 'FTHG': '2', 'FTAG': '1', 'FTR': 'H', 'HTHG': '1', 'HTAG': '1', 'HTR': 'D', 'Season': '2017-18'}, {'ï»¿Div': 'E0', 'Date': '01-03-2018', 'HomeTeam': 'Arsenal', 'AwayTeam': 'Man City', 'FTHG': '0', 'FTAG': '3', 'FTR': 'A', 'HTHG': '0', 'HTAG': '3', 'HTR': 'A', 'Season': '2017-18'}, {'ï»¿Div': 'E0', 'Date': '03-03-2018', 'HomeTeam': 'Burnley', 'AwayTeam': 'Everton', 'FTHG': '2', 'FTAG': '1', 'FTR': 'H', 'HTHG': '0', 'HTAG': '1', 'HTR': 'A', 'Season': '2017-18'}, {'ï»¿Div': 'E0', 'Date': '03-03-2018', 'HomeTeam': 'Leicester', 'AwayTeam': 'Bournemouth', 'FTHG': '1', 'FTAG': '1', 'FTR': 'D', 'HTHG': '0', 'HTAG': '1', 'HTR': 'A', 'Season': '2017-18'}, {'ï»¿Div': 'E0', 'Date': '03-03-2018', 'HomeTeam': 'Liverpool', 'AwayTeam': 'Newcastle', 'FTHG': '2', 'FTAG': '0', 'FTR': 'H', 'HTHG': '1', 'HTAG': '0', 'HTR': 'H', 'Season': '2017-18'}, {'ï»¿Div': 'E0', 'Date': '03-03-2018', 'HomeTeam': 'Southampton', 'AwayTeam': 'Stoke', 'FTHG': '0', 'FTAG': '0', 'FTR': 'D', 'HTHG': '0', 'HTAG': '0', 'HTR': 'D', 'Season': '2017-18'}, {'ï»¿Div': 'E0', 'Date': '03-03-2018', 'HomeTeam': 'Swansea', 'AwayTeam': 'West Ham', 'FTHG': '4', 'FTAG': '1', 'FTR': 'H', 'HTHG': '2', 'HTAG': '0', 'HTR': 'H', 'Season': '2017-18'}, {'ï»¿Div': 'E0', 'Date': '03-03-2018', 'HomeTeam': 'Tottenham', 'AwayTeam': 'Huddersfield', 'FTHG': '2', 'FTAG': '0', 'FTR': 'H', 'HTHG': '1', 'HTAG': '0', 'HTR': 'H', 'Season': '2017-18'}, {'ï»¿Div': 'E0', 'Date': '03-03-2018', 'HomeTeam': 'Watford', 'AwayTeam': 'West Brom', 'FTHG': '1', 'FTAG': '0', 'FTR': 'H', 'HTHG': '0', 'HTAG': '0', 'HTR': 'D', 'Season': '2017-18'}, {'ï»¿Div': 'E0', 'Date': '04-03-2018', 'HomeTeam': 'Brighton', 'AwayTeam': 'Arsenal', 'FTHG': '2', 'FTAG': '1', 'FTR': 'H', 'HTHG': '2', 'HTAG': '1', 'HTR': 'H', 'Season': '2017-18'}, {'ï»¿Div': 'E0', 'Date': '04-03-2018', 'HomeTeam': 'Man City', 'AwayTeam': 'Chelsea', 'FTHG': '1', 'FTAG': '0', 'FTR': 'H', 'HTHG': '0', 'HTAG': '0', 'HTR': 'D', 'Season': '2017-18'}, {'ï»¿Div': 'E0', 'Date': '05-03-2018', 'HomeTeam': 'Crystal Palace', 'AwayTeam': 'Man United', 'FTHG': '2', 'FTAG': '3', 'FTR': 'A', 'HTHG': '1', 'HTAG': '0', 'HTR': 'H', 'Season': '2017-18'}, {'ï»¿Div': 'E0', 'Date': '10-03-2018', 'HomeTeam': 'Chelsea', 'AwayTeam': 'Crystal Palace', 'FTHG': '2', 'FTAG': '1', 'FTR': 'H', 'HTHG': '2', 'HTAG': '0', 'HTR': 'H', 'Season': '2017-18'}, {'ï»¿Div': 'E0', 'Date': '10-03-2018', 'HomeTeam': 'Everton', 'AwayTeam': 'Brighton', 'FTHG': '2', 'FTAG': '0', 'FTR': 'H', 'HTHG': '0', 'HTAG': '0', 'HTR': 'D', 'Season': '2017-18'}, {'ï»¿Div': 'E0', 'Date': '10-03-2018', 'HomeTeam': 'Huddersfield', 'AwayTeam': 'Swansea', 'FTHG': '0', 'FTAG': '0', 'FTR': 'D', 'HTHG': '0', 'HTAG': '0', 'HTR': 'D', 'Season': '2017-18'}, {'ï»¿Div': 'E0', 'Date': '10-03-2018', 'HomeTeam': 'Man United', 'AwayTeam': 'Liverpool', 'FTHG': '2', 'FTAG': '1', 'FTR': 'H', 'HTHG': '2', 'HTAG': '0', 'HTR': 'H', 'Season': '2017-18'}, {'ï»¿Div': 'E0', 'Date': '10-03-2018', 'HomeTeam': 'Newcastle', 'AwayTeam': 'Southampton', 'FTHG': '3', 'FTAG': '0', 'FTR': 'H', 'HTHG': '2', 'HTAG': '0', 'HTR': 'H', 'Season': '2017-18'}, {'ï»¿Div': 'E0', 'Date': '10-03-2018', 'HomeTeam': 'West Brom', 'AwayTeam': 'Leicester', 'FTHG': '1', 'FTAG': '4', 'FTR': 'A', 'HTHG': '1', 'HTAG': '1', 'HTR': 'D', 'Season': '2017-18'}, {'ï»¿Div': 'E0', 'Date': '10-03-2018', 'HomeTeam': 'West Ham', 'AwayTeam': 'Burnley', 'FTHG': '0', 'FTAG': '3', 'FTR': 'A', 'HTHG': '0', 'HTAG': '0', 'HTR': 'D', 'Season': '2017-18'}, {'ï»¿Div': 'E0', 'Date': '11-03-2018', 'HomeTeam': 'Arsenal', 'AwayTeam': 'Watford', 'FTHG': '3', 'FTAG': '0', 'FTR': 'H', 'HTHG': '1', 'HTAG': '0', 'HTR': 'H', 'Season': '2017-18'}, {'ï»¿Div': 'E0', 'Date': '11-03-2018', 'HomeTeam': 'Bournemouth', 'AwayTeam': 'Tottenham', 'FTHG': '1', 'FTAG': '4', 'FTR': 'A', 'HTHG': '1', 'HTAG': '1', 'HTR': 'D', 'Season': '2017-18'}, {'ï»¿Div': 'E0', 'Date': '12-03-2018', 'HomeTeam': 'Stoke', 'AwayTeam': 'Man City', 'FTHG': '0', 'FTAG': '2', 'FTR': 'A', 'HTHG': '0', 'HTAG': '1', 'HTR': 'A', 'Season': '2017-18'}, {'ï»¿Div': 'E0', 'Date': '17-03-2018', 'HomeTeam': 'Bournemouth', 'AwayTeam': 'West Brom', 'FTHG': '2', 'FTAG': '1', 'FTR': 'H', 'HTHG': '0', 'HTAG': '0', 'HTR': 'D', 'Season': '2017-18'}, {'ï»¿Div': 'E0', 'Date': '17-03-2018', 'HomeTeam': 'Huddersfield', 'AwayTeam': 'Crystal Palace', 'FTHG': '0', 'FTAG': '2', 'FTR': 'A', 'HTHG': '0', 'HTAG': '1', 'HTR': 'A', 'Season': '2017-18'}, {'ï»¿Div': 'E0', 'Date': '17-03-2018', 'HomeTeam': 'Liverpool', 'AwayTeam': 'Watford', 'FTHG': '5', 'FTAG': '0', 'FTR': 'H', 'HTHG': '2', 'HTAG': '0', 'HTR': 'H', 'Season': '2017-18'}, {'ï»¿Div': 'E0', 'Date': '17-03-2018', 'HomeTeam': 'Stoke', 'AwayTeam': 'Everton', 'FTHG': '1', 'FTAG': '2', 'FTR': 'A', 'HTHG': '0', 'HTAG': '0', 'HTR': 'D', 'Season': '2017-18'}, {'ï»¿Div': 'E0', 'Date': '31-03-2018', 'HomeTeam': 'Brighton', 'AwayTeam': 'Leicester', 'FTHG': '0', 'FTAG': '2', 'FTR': 'A', 'HTHG': '0', 'HTAG': '0', 'HTR': 'D', 'Season': '2017-18'}, {'ï»¿Div': 'E0', 'Date': '31-03-2018', 'HomeTeam': 'Crystal Palace', 'AwayTeam': 'Liverpool', 'FTHG': '1', 'FTAG': '2', 'FTR': 'A', 'HTHG': '1', 'HTAG': '0', 'HTR': 'H', 'Season': '2017-18'}, {'ï»¿Div': 'E0', 'Date': '31-03-2018', 'HomeTeam': 'Everton', 'AwayTeam': 'Man City', 'FTHG': '1', 'FTAG': '3', 'FTR': 'A', 'HTHG': '0', 'HTAG': '3', 'HTR': 'A', 'Season': '2017-18'}, {'ï»¿Div': 'E0', 'Date': '31-03-2018', 'HomeTeam': 'Man United', 'AwayTeam': 'Swansea', 'FTHG': '2', 'FTAG': '0', 'FTR': 'H', 'HTHG': '2', 'HTAG': '0', 'HTR': 'H', 'Season': '2017-18'}, {'ï»¿Div': 'E0', 'Date': '31-03-2018', 'HomeTeam': 'Newcastle', 'AwayTeam': 'Huddersfield', 'FTHG': '1', 'FTAG': '0', 'FTR': 'H', 'HTHG': '0', 'HTAG': '0', 'HTR': 'D', 'Season': '2017-18'}, {'ï»¿Div': 'E0', 'Date': '31-03-2018', 'HomeTeam': 'Watford', 'AwayTeam': 'Bournemouth', 'FTHG': '2', 'FTAG': '2', 'FTR': 'D', 'HTHG': '1', 'HTAG': '1', 'HTR': 'D', 'Season': '2017-18'}, {'ï»¿Div': 'E0', 'Date': '31-03-2018', 'HomeTeam': 'West Brom', 'AwayTeam': 'Burnley', 'FTHG': '1', 'FTAG': '2', 'FTR': 'A', 'HTHG': '0', 'HTAG': '1', 'HTR': 'A', 'Season': '2017-18'}, {'ï»¿Div': 'E0', 'Date': '31-03-2018', 'HomeTeam': 'West Ham', 'AwayTeam': 'Southampton', 'FTHG': '3', 'FTAG': '0', 'FTR': 'H', 'HTHG': '3', 'HTAG': '0', 'HTR': 'H', 'Season': '2017-18'}, {'ï»¿Div': 'E0', 'Date': '01-04-2018', 'HomeTeam': 'Arsenal', 'AwayTeam': 'Stoke', 'FTHG': '3', 'FTAG': '0', 'FTR': 'H', 'HTHG': '0', 'HTAG': '0', 'HTR': 'D', 'Season': '2017-18'}, {'ï»¿Div': 'E0', 'Date': '01-04-2018', 'HomeTeam': 'Chelsea', 'AwayTeam': 'Tottenham', 'FTHG': '1', 'FTAG': '3', 'FTR': 'A', 'HTHG': '1', 'HTAG': '1', 'HTR': 'D', 'Season': '2017-18'}, {'ï»¿Div': 'E0', 'Date': '07-04-2018', 'HomeTeam': 'Bournemouth', 'AwayTeam': 'Crystal Palace', 'FTHG': '2', 'FTAG': '2', 'FTR': 'D', 'HTHG': '0', 'HTAG': '0', 'HTR': 'D', 'Season': '2017-18'}, {'ï»¿Div': 'E0', 'Date': '07-04-2018', 'HomeTeam': 'Brighton', 'AwayTeam': 'Huddersfield', 'FTHG': '1', 'FTAG': '1', 'FTR': 'D', 'HTHG': '1', 'HTAG': '1', 'HTR': 'D', 'Season': '2017-18'}, {'ï»¿Div': 'E0', 'Date': '07-04-2018', 'HomeTeam': 'Everton', 'AwayTeam': 'Liverpool', 'FTHG': '0', 'FTAG': '0', 'FTR': 'D', 'HTHG': '0', 'HTAG': '0', 'HTR': 'D', 'Season': '2017-18'}, {'ï»¿Div': 'E0', 'Date': '07-04-2018', 'HomeTeam': 'Leicester', 'AwayTeam': 'Newcastle', 'FTHG': '1', 'FTAG': '2', 'FTR': 'A', 'HTHG': '0', 'HTAG': '1', 'HTR': 'A', 'Season': '2017-18'}, {'ï»¿Div': 'E0', 'Date': '07-04-2018', 'HomeTeam': 'Man City', 'AwayTeam': 'Man United', 'FTHG': '2', 'FTAG': '3', 'FTR': 'A', 'HTHG': '2', 'HTAG': '0', 'HTR': 'H', 'Season': '2017-18'}, {'ï»¿Div': 'E0', 'Date': '07-04-2018', 'HomeTeam': 'Stoke', 'AwayTeam': 'Tottenham', 'FTHG': '1', 'FTAG': '2', 'FTR': 'A', 'HTHG': '0', 'HTAG': '0', 'HTR': 'D', 'Season': '2017-18'}, {'ï»¿Div': 'E0', 'Date': '07-04-2018', 'HomeTeam': 'Watford', 'AwayTeam': 'Burnley', 'FTHG': '1', 'FTAG': '2', 'FTR': 'A', 'HTHG': '0', 'HTAG': '0', 'HTR': 'D', 'Season': '2017-18'}, {'ï»¿Div': 'E0', 'Date': '07-04-2018', 'HomeTeam': 'West Brom', 'AwayTeam': 'Swansea', 'FTHG': '1', 'FTAG': '1', 'FTR': 'D', 'HTHG': '0', 'HTAG': '0', 'HTR': 'D', 'Season': '2017-18'}, {'ï»¿Div': 'E0', 'Date': '08-04-2018', 'HomeTeam': 'Arsenal', 'AwayTeam': 'Southampton', 'FTHG': '3', 'FTAG': '2', 'FTR': 'H', 'HTHG': '2', 'HTAG': '1', 'HTR': 'H', 'Season': '2017-18'}, {'ï»¿Div': 'E0', 'Date': '08-04-2018', 'HomeTeam': 'Chelsea', 'AwayTeam': 'West Ham', 'FTHG': '1', 'FTAG': '1', 'FTR': 'D', 'HTHG': '1', 'HTAG': '0', 'HTR': 'H', 'Season': '2017-18'}, {'ï»¿Div': 'E0', 'Date': '14-04-2018', 'HomeTeam': 'Burnley', 'AwayTeam': 'Leicester', 'FTHG': '2', 'FTAG': '1', 'FTR': 'H', 'HTHG': '2', 'HTAG': '0', 'HTR': 'H', 'Season': '2017-18'}, {'ï»¿Div': 'E0', 'Date': '14-04-2018', 'HomeTeam': 'Crystal Palace', 'AwayTeam': 'Brighton', 'FTHG': '3', 'FTAG': '2', 'FTR': 'H', 'HTHG': '3', 'HTAG': '2', 'HTR': 'H', 'Season': '2017-18'}, {'ï»¿Div': 'E0', 'Date': '14-04-2018', 'HomeTeam': 'Huddersfield', 'AwayTeam': 'Watford', 'FTHG': '1', 'FTAG': '0', 'FTR': 'H', 'HTHG': '0', 'HTAG': '0', 'HTR': 'D', 'Season': '2017-18'}, {'ï»¿Div': 'E0', 'Date': '14-04-2018', 'HomeTeam': 'Liverpool', 'AwayTeam': 'Bournemouth', 'FTHG': '3', 'FTAG': '0', 'FTR': 'H', 'HTHG': '1', 'HTAG': '0', 'HTR': 'H', 'Season': '2017-18'}, {'ï»¿Div': 'E0', 'Date': '14-04-2018', 'HomeTeam': 'Southampton', 'AwayTeam': 'Chelsea', 'FTHG': '2', 'FTAG': '3', 'FTR': 'A', 'HTHG': '1', 'HTAG': '0', 'HTR': 'H', 'Season': '2017-18'}, {'ï»¿Div': 'E0', 'Date': '14-04-2018', 'HomeTeam': 'Swansea', 'AwayTeam': 'Everton', 'FTHG': '1', 'FTAG': '1', 'FTR': 'D', 'HTHG': '0', 'HTAG': '1', 'HTR': 'A', 'Season': '2017-18'}, {'ï»¿Div': 'E0', 'Date': '14-04-2018', 'HomeTeam': 'Tottenham', 'AwayTeam': 'Man City', 'FTHG': '1', 'FTAG': '3', 'FTR': 'A', 'HTHG': '1', 'HTAG': '2', 'HTR': 'A', 'Season': '2017-18'}, {'ï»¿Div': 'E0', 'Date': '15-04-2018', 'HomeTeam': 'Man United', 'AwayTeam': 'West Brom', 'FTHG': '0', 'FTAG': '1', 'FTR': 'A', 'HTHG': '0', 'HTAG': '0', 'HTR': 'D', 'Season': '2017-18'}, {'ï»¿Div': 'E0', 'Date': '15-04-2018', 'HomeTeam': 'Newcastle', 'AwayTeam': 'Arsenal', 'FTHG': '2', 'FTAG': '1', 'FTR': 'H', 'HTHG': '1', 'HTAG': '1', 'HTR': 'D', 'Season': '2017-18'}, {'ï»¿Div': 'E0', 'Date': '16-04-2018', 'HomeTeam': 'West Ham', 'AwayTeam': 'Stoke', 'FTHG': '1', 'FTAG': '1', 'FTR': 'D', 'HTHG': '0', 'HTAG': '0', 'HTR': 'D', 'Season': '2017-18'}, {'ï»¿Div': 'E0', 'Date': '17-04-2018', 'HomeTeam': 'Brighton', 'AwayTeam': 'Tottenham', 'FTHG': '1', 'FTAG': '1', 'FTR': 'D', 'HTHG': '0', 'HTAG': '0', 'HTR': 'D', 'Season': '2017-18'}, {'ï»¿Div': 'E0', 'Date': '18-04-2018', 'HomeTeam': 'Bournemouth', 'AwayTeam': 'Man United', 'FTHG': '0', 'FTAG': '2', 'FTR': 'A', 'HTHG': '0', 'HTAG': '1', 'HTR': 'A', 'Season': '2017-18'}, {'ï»¿Div': 'E0', 'Date': '19-04-2018', 'HomeTeam': 'Burnley', 'AwayTeam': 'Chelsea', 'FTHG': '1', 'FTAG': '2', 'FTR': 'A', 'HTHG': '0', 'HTAG': '1', 'HTR': 'A', 'Season': '2017-18'}, {'ï»¿Div': 'E0', 'Date': '19-04-2018', 'HomeTeam': 'Leicester', 'AwayTeam': 'Southampton', 'FTHG': '0', 'FTAG': '0', 'FTR': 'D', 'HTHG': '0', 'HTAG': '0', 'HTR': 'D', 'Season': '2017-18'}, {'ï»¿Div': 'E0', 'Date': '21-04-2018', 'HomeTeam': 'Watford', 'AwayTeam': 'Crystal Palace', 'FTHG': '0', 'FTAG': '0', 'FTR': 'D', 'HTHG': '0', 'HTAG': '0', 'HTR': 'D', 'Season': '2017-18'}, {'ï»¿Div': 'E0', 'Date': '21-04-2018', 'HomeTeam': 'West Brom', 'AwayTeam': 'Liverpool', 'FTHG': '2', 'FTAG': '2', 'FTR': 'D', 'HTHG': '0', 'HTAG': '1', 'HTR': 'A', 'Season': '2017-18'}, {'ï»¿Div': 'E0', 'Date': '22-04-2018', 'HomeTeam': 'Arsenal', 'AwayTeam': 'West Ham', 'FTHG': '4', 'FTAG': '1', 'FTR': 'H', 'HTHG': '0', 'HTAG': '0', 'HTR': 'D', 'Season': '2017-18'}, {'ï»¿Div': 'E0', 'Date': '22-04-2018', 'HomeTeam': 'Man City', 'AwayTeam': 'Swansea', 'FTHG': '5', 'FTAG': '0', 'FTR': 'H', 'HTHG': '2', 'HTAG': '0', 'HTR': 'H', 'Season': '2017-18'}, {'ï»¿Div': 'E0', 'Date': '22-04-2018', 'HomeTeam': 'Stoke', 'AwayTeam': 'Burnley', 'FTHG': '1', 'FTAG': '1', 'FTR': 'D', 'HTHG': '1', 'HTAG': '0', 'HTR': 'H', 'Season': '2017-18'}, {'ï»¿Div': 'E0', 'Date': '23-04-2018', 'HomeTeam': 'Everton', 'AwayTeam': 'Newcastle', 'FTHG': '1', 'FTAG': '0', 'FTR': 'H', 'HTHG': '0', 'HTAG': '0', 'HTR': 'D', 'Season': '2017-18'}, {'ï»¿Div': 'E0', 'Date': '28-04-2018', 'HomeTeam': 'Burnley', 'AwayTeam': 'Brighton', 'FTHG': '0', 'FTAG': '0', 'FTR': 'D', 'HTHG': '0', 'HTAG': '0', 'HTR': 'D', 'Season': '2017-18'}, {'ï»¿Div': 'E0', 'Date': '28-04-2018', 'HomeTeam': 'Crystal Palace', 'AwayTeam': 'Leicester', 'FTHG': '5', 'FTAG': '0', 'FTR': 'H', 'HTHG': '2', 'HTAG': '0', 'HTR': 'H', 'Season': '2017-18'}, {'ï»¿Div': 'E0', 'Date': '28-04-2018', 'HomeTeam': 'Huddersfield', 'AwayTeam': 'Everton', 'FTHG': '0', 'FTAG': '2', 'FTR': 'A', 'HTHG': '0', 'HTAG': '1', 'HTR': 'A', 'Season': '2017-18'}, {'ï»¿Div': 'E0', 'Date': '28-04-2018', 'HomeTeam': 'Liverpool', 'AwayTeam': 'Stoke', 'FTHG': '0', 'FTAG': '0', 'FTR': 'D', 'HTHG': '0', 'HTAG': '0', 'HTR': 'D', 'Season': '2017-18'}, {'ï»¿Div': 'E0', 'Date': '28-04-2018', 'HomeTeam': 'Newcastle', 'AwayTeam': 'West Brom', 'FTHG': '0', 'FTAG': '1', 'FTR': 'A', 'HTHG': '0', 'HTAG': '1', 'HTR': 'A', 'Season': '2017-18'}, {'ï»¿Div': 'E0', 'Date': '28-04-2018', 'HomeTeam': 'Southampton', 'AwayTeam': 'Bournemouth', 'FTHG': '2', 'FTAG': '1', 'FTR': 'H', 'HTHG': '1', 'HTAG': '1', 'HTR': 'D', 'Season': '2017-18'}, {'ï»¿Div': 'E0', 'Date': '28-04-2018', 'HomeTeam': 'Swansea', 'AwayTeam': 'Chelsea', 'FTHG': '0', 'FTAG': '1', 'FTR': 'A', 'HTHG': '0', 'HTAG': '1', 'HTR': 'A', 'Season': '2017-18'}, {'ï»¿Div': 'E0', 'Date': '29-04-2018', 'HomeTeam': 'Man United', 'AwayTeam': 'Arsenal', 'FTHG': '2', 'FTAG': '1', 'FTR': 'H', 'HTHG': '1', 'HTAG': '0', 'HTR': 'H', 'Season': '2017-18'}, {'ï»¿Div': 'E0', 'Date': '29-04-2018', 'HomeTeam': 'West Ham', 'AwayTeam': 'Man City', 'FTHG': '1', 'FTAG': '4', 'FTR': 'A', 'HTHG': '1', 'HTAG': '2', 'HTR': 'A', 'Season': '2017-18'}, {'ï»¿Div': 'E0', 'Date': '30-04-2018', 'HomeTeam': 'Tottenham', 'AwayTeam': 'Watford', 'FTHG': '2', 'FTAG': '0', 'FTR': 'H', 'HTHG': '1', 'HTAG': '0', 'HTR': 'H', 'Season': '2017-18'}, {'ï»¿Div': 'E0', 'Date': '04-05-2018', 'HomeTeam': 'Brighton', 'AwayTeam': 'Man United', 'FTHG': '1', 'FTAG': '0', 'FTR': 'H', 'HTHG': '0', 'HTAG': '0', 'HTR': 'D', 'Season': '2017-18'}, {'ï»¿Div': 'E0', 'Date': '05-05-2018', 'HomeTeam': 'Bournemouth', 'AwayTeam': 'Swansea', 'FTHG': '1', 'FTAG': '0', 'FTR': 'H', 'HTHG': '1', 'HTAG': '0', 'HTR': 'H', 'Season': '2017-18'}, {'ï»¿Div': 'E0', 'Date': '05-05-2018', 'HomeTeam': 'Everton', 'AwayTeam': 'Southampton', 'FTHG': '1', 'FTAG': '1', 'FTR': 'D', 'HTHG': '0', 'HTAG': '0', 'HTR': 'D', 'Season': '2017-18'}, {'ï»¿Div': 'E0', 'Date': '05-05-2018', 'HomeTeam': 'Leicester', 'AwayTeam': 'West Ham', 'FTHG': '0', 'FTAG': '2', 'FTR': 'A', 'HTHG': '0', 'HTAG': '1', 'HTR': 'A', 'Season': '2017-18'}, {'ï»¿Div': 'E0', 'Date': '05-05-2018', 'HomeTeam': 'Stoke', 'AwayTeam': 'Crystal Palace', 'FTHG': '1', 'FTAG': '2', 'FTR': 'A', 'HTHG': '1', 'HTAG': '0', 'HTR': 'H', 'Season': '2017-18'}, {'ï»¿Div': 'E0', 'Date': '05-05-2018', 'HomeTeam': 'Watford', 'AwayTeam': 'Newcastle', 'FTHG': '2', 'FTAG': '1', 'FTR': 'H', 'HTHG': '2', 'HTAG': '0', 'HTR': 'H', 'Season': '2017-18'}, {'ï»¿Div': 'E0', 'Date': '05-05-2018', 'HomeTeam': 'West Brom', 'AwayTeam': 'Tottenham', 'FTHG': '1', 'FTAG': '0', 'FTR': 'H', 'HTHG': '0', 'HTAG': '0', 'HTR': 'D', 'Season': '2017-18'}, {'ï»¿Div': 'E0', 'Date': '06-05-2018', 'HomeTeam': 'Arsenal', 'AwayTeam': 'Burnley', 'FTHG': '5', 'FTAG': '0', 'FTR': 'H', 'HTHG': '2', 'HTAG': '0', 'HTR': 'H', 'Season': '2017-18'}, {'ï»¿Div': 'E0', 'Date': '06-05-2018', 'HomeTeam': 'Chelsea', 'AwayTeam': 'Liverpool', 'FTHG': '1', 'FTAG': '0', 'FTR': 'H', 'HTHG': '1', 'HTAG': '0', 'HTR': 'H', 'Season': '2017-18'}, {'ï»¿Div': 'E0', 'Date': '06-05-2018', 'HomeTeam': 'Man City', 'AwayTeam': 'Huddersfield', 'FTHG': '0', 'FTAG': '0', 'FTR': 'D', 'HTHG': '0', 'HTAG': '0', 'HTR': 'D', 'Season': '2017-18'}, {'ï»¿Div': 'E0', 'Date': '08-05-2018', 'HomeTeam': 'Swansea', 'AwayTeam': 'Southampton', 'FTHG': '0', 'FTAG': '1', 'FTR': 'A', 'HTHG': '0', 'HTAG': '0', 'HTR': 'D', 'Season': '2017-18'}, {'ï»¿Div': 'E0', 'Date': '09-05-2018', 'HomeTeam': 'Chelsea', 'AwayTeam': 'Huddersfield', 'FTHG': '1', 'FTAG': '1', 'FTR': 'D', 'HTHG': '0', 'HTAG': '0', 'HTR': 'D', 'Season': '2017-18'}, {'ï»¿Div': 'E0', 'Date': '09-05-2018', 'HomeTeam': 'Leicester', 'AwayTeam': 'Arsenal', 'FTHG': '3', 'FTAG': '1', 'FTR': 'H', 'HTHG': '1', 'HTAG': '0', 'HTR': 'H', 'Season': '2017-18'}, {'ï»¿Div': 'E0', 'Date': '09-05-2018', 'HomeTeam': 'Man City', 'AwayTeam': 'Brighton', 'FTHG': '3', 'FTAG': '1', 'FTR': 'H', 'HTHG': '2', 'HTAG': '1', 'HTR': 'H', 'Season': '2017-18'}, {'ï»¿Div': 'E0', 'Date': '09-05-2018', 'HomeTeam': 'Tottenham', 'AwayTeam': 'Newcastle', 'FTHG': '1', 'FTAG': '0', 'FTR': 'H', 'HTHG': '0', 'HTAG': '0', 'HTR': 'D', 'Season': '2017-18'}, {'ï»¿Div': 'E0', 'Date': '10-05-2018', 'HomeTeam': 'West Ham', 'AwayTeam': 'Man United', 'FTHG': '0', 'FTAG': '0', 'FTR': 'D', 'HTHG': '0', 'HTAG': '0', 'HTR': 'D', 'Season': '2017-18'}, {'ï»¿Div': 'E0', 'Date': '13-05-2018', 'HomeTeam': 'Burnley', 'AwayTeam': 'Bournemouth', 'FTHG': '1', 'FTAG': '2', 'FTR': 'A', 'HTHG': '1', 'HTAG': '0', 'HTR': 'H', 'Season': '2017-18'}, {'ï»¿Div': 'E0', 'Date': '13-05-2018', 'HomeTeam': 'Crystal Palace', 'AwayTeam': 'West Brom', 'FTHG': '2', 'FTAG': '0', 'FTR': 'H', 'HTHG': '0', 'HTAG': '0', 'HTR': 'D', 'Season': '2017-18'}, {'ï»¿Div': 'E0', 'Date': '13-05-2018', 'HomeTeam': 'Huddersfield', 'AwayTeam': 'Arsenal', 'FTHG': '0', 'FTAG': '1', 'FTR': 'A', 'HTHG': '0', 'HTAG': '1', 'HTR': 'A', 'Season': '2017-18'}, {'ï»¿Div': 'E0', 'Date': '13-05-2018', 'HomeTeam': 'Liverpool', 'AwayTeam': 'Brighton', 'FTHG': '4', 'FTAG': '0', 'FTR': 'H', 'HTHG': '2', 'HTAG': '0', 'HTR': 'H', 'Season': '2017-18'}, {'ï»¿Div': 'E0', 'Date': '13-05-2018', 'HomeTeam': 'Man United', 'AwayTeam': 'Watford', 'FTHG': '1', 'FTAG': '0', 'FTR': 'H', 'HTHG': '1', 'HTAG': '0', 'HTR': 'H', 'Season': '2017-18'}, {'ï»¿Div': 'E0', 'Date': '13-05-2018', 'HomeTeam': 'Newcastle', 'AwayTeam': 'Chelsea', 'FTHG': '3', 'FTAG': '0', 'FTR': 'H', 'HTHG': '1', 'HTAG': '0', 'HTR': 'H', 'Season': '2017-18'}, {'ï»¿Div': 'E0', 'Date': '13-05-2018', 'HomeTeam': 'Southampton', 'AwayTeam': 'Man City', 'FTHG': '0', 'FTAG': '1', 'FTR': 'A', 'HTHG': '0', 'HTAG': '0', 'HTR': 'D', 'Season': '2017-18'}, {'ï»¿Div': 'E0', 'Date': '13-05-2018', 'HomeTeam': 'Swansea', 'AwayTeam': 'Stoke', 'FTHG': '1', 'FTAG': '2', 'FTR': 'A', 'HTHG': '1', 'HTAG': '2', 'HTR': 'A', 'Season': '2017-18'}, {'ï»¿Div': 'E0', 'Date': '13-05-2018', 'HomeTeam': 'Tottenham', 'AwayTeam': 'Leicester', 'FTHG': '5', 'FTAG': '4', 'FTR': 'H', 'HTHG': '1', 'HTAG': '2', 'HTR': 'A', 'Season': '2017-18'}, {'ï»¿Div': 'E0', 'Date': '13-05-2018', 'HomeTeam': 'West Ham', 'AwayTeam': 'Everton', 'FTHG': '3', 'FTAG': '1', 'FTR': 'H', 'HTHG': '1', 'HTAG': '0', 'HTR': 'H', 'Season': '2017-18'}]\n"
     ]
    }
   ],
   "source": [
    "fixture_data = list(csv.DictReader(open('Football 17-18.csv')))\n",
    "print(fixture_data)"
   ]
  },
  {
   "cell_type": "markdown",
   "id": "e77945d3",
   "metadata": {},
   "source": [
    "1. open('Football 17-18.csv') - This part opens the file named \"Football 17-18.csv\" using the open() function. It returns a file object that represents the opened file.\n",
    "\n",
    "2. csv.DictReader(open('Football 17-18.csv')) - This part creates a DictReader object using the csv.DictReader() function. It takes the file object from step 1 as an argument. The DictReader object reads the contents of the CSV file and treats each row as a dictionary, where the column names are the dictionary keys and the cell values are the dictionary values.\n",
    "\n",
    "3. list(csv.DictReader(open('Football 17-18.csv'))) - This part converts the DictReader object into a list of dictionaries. By calling the list() function on the DictReader object, each row of the CSV file is converted into a dictionary and added to the list. Each dictionary represents a row from the CSV file, with column names as keys and corresponding cell values as values.\n",
    "\n",
    "4. fixture_data = list(csv.DictReader(open('Football 17-18.csv'))) - This line assigns the resulting list of dictionaries to the variable fixture_data. The variable fixture_data now holds the structured representation of the CSV data, allowing you to access and manipulate the data conveniently.\n",
    "\n",
    "**Note: I use DictReader instead of a simple reader when working with CSV files to make the standing table because DictReader returns an ordered dictionary for each row of the CSV file.\n",
    "By using DictReader, We can access the values in each row using their corresponding column headers (keys). This makes it easier to handle and manipulate the data because we can refer to the values by their column names instead of relying on the index positions.**"
   ]
  },
  {
   "cell_type": "code",
   "execution_count": 3,
   "id": "7f4a399d",
   "metadata": {},
   "outputs": [],
   "source": [
    "team_table = {}"
   ]
  },
  {
   "cell_type": "markdown",
   "id": "1c8110e6",
   "metadata": {},
   "source": [
    "The line team_table = {} initializes an empty dictionary named team_table."
   ]
  },
  {
   "cell_type": "code",
   "execution_count": 4,
   "id": "0127e913",
   "metadata": {},
   "outputs": [],
   "source": [
    "for i in fixture_data:\n",
    "    home_team = i[\"HomeTeam\"]\n",
    "    away_team = i[\"AwayTeam\"]\n",
    "    home_goals = int(i[\"FTHG\"])\n",
    "    away_goals = int(i[\"FTAG\"])\n",
    "    result = i[\"FTR\"]\n",
    "    \n",
    "    if home_team not in team_table:\n",
    "        team_table[home_team] = {\"matches_played\": 0, \"points\": 0, \"wins\": 0, \"losses\": 0, \"draws\": 0, \"goals_for\": 0, \"goals_against\": 0}\n",
    "    team_table[home_team][\"matches_played\"] += 1\n",
    "    team_table[home_team][\"goals_for\"] += home_goals\n",
    "    team_table[home_team][\"goals_against\"] += away_goals\n",
    "\n",
    "    if away_team not in team_table:\n",
    "        team_table[away_team] = {\"matches_played\": 0, \"points\": 0, \"wins\": 0, \"losses\": 0, \"draws\": 0, \"goals_for\": 0, \"goals_against\": 0}\n",
    "    team_table[away_team][\"matches_played\"] += 1\n",
    "    team_table[away_team][\"goals_for\"] += away_goals\n",
    "    team_table[away_team][\"goals_against\"] += home_goals\n",
    "\n",
    "    if result == \"H\":\n",
    "        team_table[home_team][\"points\"] += 3\n",
    "        team_table[home_team][\"wins\"] += 1\n",
    "        team_table[away_team][\"losses\"] += 1\n",
    "    elif result == \"A\":\n",
    "        team_table[away_team][\"points\"] += 3\n",
    "        team_table[away_team][\"wins\"] += 1\n",
    "        team_table[home_team][\"losses\"] += 1\n",
    "    else:\n",
    "        team_table[home_team][\"points\"] += 1\n",
    "        team_table[away_team][\"points\"] += 1\n",
    "        team_table[home_team][\"draws\"] += 1\n",
    "        team_table[away_team][\"draws\"] += 1"
   ]
  },
  {
   "cell_type": "markdown",
   "id": "b62f3f9c",
   "metadata": {},
   "source": [
    "1. for i in fixture_data:: This line initiates a loop that iterates over each element in the fixture_data list. Each element represents a match in a football league.\n",
    "\n",
    "2. home_team = i[\"HomeTeam\"] and away_team = i[\"AwayTeam\"]: These lines extract the values of the \"HomeTeam\" and \"AwayTeam\" columns from the current match and assign them to the variables home_team and away_team, respectively.\n",
    "\n",
    "3. home_goals = int(i[\"FTHG\"]) and away_goals = int(i[\"FTAG\"]): These lines extract the values of the \"FTHG\" (full-time home team goals) and \"FTAG\" (full-time away team goals) columns from the current match and convert them to integers using the int() function. The converted values are assigned to the variables home_goals and away_goals, respectively.\n",
    "\n",
    "4. result = i[\"FTR\"]: This line extracts the value of the \"FTR\" (full-time result) column from the current match and assigns it to the variable result.\n",
    "\n",
    "5. The following if statments checks if the home team and away team are already present in the team_table dictionary which we make in line 3. If not, it adds them as keys to the dictionary and initializes their corresponding values as dictionaries containing various statistics such as matches played, points, wins, losses, draws, goals scored, and goals conceded. This ensures that each team has a record in the team_table dictionary, allowing us to update their statistics.\n",
    "\n",
    "6. team_table[home_team][\"matches_played\"] += 1: This line increments the \"matches_played\" value for the home team by 1.\n",
    "\n",
    "7. team_table[home_team][\"goals_for\"] += home_goals: This line adds the number of goals scored by the home team to the \"goals_for\" value.\n",
    "\n",
    "8. team_table[home_team][\"goals_against\"] += away_goals: This line adds the number of goals conceded by the home team to the \"goals_against\" value.\n",
    "\n",
    "9. Similar to steps 6-8 in line 4, the code updates the statistics for the away team in steps 13-15 in line 4.\n",
    "\n",
    "10. The following conditional statements check the result of the fixture. If the home team wins (result == \"H\"), it adds 3 points to their \"points\" value, increments their \"wins\" count by 1, and increments the \"losses\" count for the away team by 1. Similarly, if the away team wins (result == \"A\"), it updates the statistics accordingly. If the result is a draw, both teams receive 1 point and their \"draws\" count is incremented by 1.\n",
    "\n",
    "11. The loop continues to the next fixture, repeating the same process until all fixtures in fixture_data have been processed."
   ]
  },
  {
   "cell_type": "code",
   "execution_count": 5,
   "id": "a3e95ef3",
   "metadata": {},
   "outputs": [
    {
     "name": "stdout",
     "output_type": "stream",
     "text": [
      "{'Arsenal': {'matches_played': 38, 'points': 63, 'wins': 19, 'losses': 13, 'draws': 6, 'goals_for': 74, 'goals_against': 51}, 'Leicester': {'matches_played': 38, 'points': 47, 'wins': 12, 'losses': 15, 'draws': 11, 'goals_for': 56, 'goals_against': 60}, 'Brighton': {'matches_played': 38, 'points': 40, 'wins': 9, 'losses': 16, 'draws': 13, 'goals_for': 34, 'goals_against': 54}, 'Man City': {'matches_played': 38, 'points': 100, 'wins': 32, 'losses': 2, 'draws': 4, 'goals_for': 106, 'goals_against': 27}, 'Chelsea': {'matches_played': 38, 'points': 70, 'wins': 21, 'losses': 10, 'draws': 7, 'goals_for': 62, 'goals_against': 38}, 'Burnley': {'matches_played': 38, 'points': 54, 'wins': 14, 'losses': 12, 'draws': 12, 'goals_for': 36, 'goals_against': 39}, 'Crystal Palace': {'matches_played': 38, 'points': 44, 'wins': 11, 'losses': 16, 'draws': 11, 'goals_for': 45, 'goals_against': 55}, 'Huddersfield': {'matches_played': 38, 'points': 37, 'wins': 9, 'losses': 19, 'draws': 10, 'goals_for': 28, 'goals_against': 58}, 'Everton': {'matches_played': 38, 'points': 49, 'wins': 13, 'losses': 15, 'draws': 10, 'goals_for': 44, 'goals_against': 58}, 'Stoke': {'matches_played': 38, 'points': 33, 'wins': 7, 'losses': 19, 'draws': 12, 'goals_for': 35, 'goals_against': 68}, 'Southampton': {'matches_played': 38, 'points': 36, 'wins': 7, 'losses': 16, 'draws': 15, 'goals_for': 37, 'goals_against': 56}, 'Swansea': {'matches_played': 38, 'points': 33, 'wins': 8, 'losses': 21, 'draws': 9, 'goals_for': 28, 'goals_against': 56}, 'Watford': {'matches_played': 38, 'points': 41, 'wins': 11, 'losses': 19, 'draws': 8, 'goals_for': 44, 'goals_against': 64}, 'Liverpool': {'matches_played': 38, 'points': 75, 'wins': 21, 'losses': 5, 'draws': 12, 'goals_for': 84, 'goals_against': 38}, 'West Brom': {'matches_played': 38, 'points': 31, 'wins': 6, 'losses': 19, 'draws': 13, 'goals_for': 31, 'goals_against': 56}, 'Bournemouth': {'matches_played': 38, 'points': 44, 'wins': 11, 'losses': 16, 'draws': 11, 'goals_for': 45, 'goals_against': 61}, 'Man United': {'matches_played': 38, 'points': 81, 'wins': 25, 'losses': 7, 'draws': 6, 'goals_for': 68, 'goals_against': 28}, 'West Ham': {'matches_played': 38, 'points': 42, 'wins': 10, 'losses': 16, 'draws': 12, 'goals_for': 48, 'goals_against': 68}, 'Newcastle': {'matches_played': 38, 'points': 44, 'wins': 12, 'losses': 18, 'draws': 8, 'goals_for': 39, 'goals_against': 47}, 'Tottenham': {'matches_played': 38, 'points': 77, 'wins': 23, 'losses': 7, 'draws': 8, 'goals_for': 74, 'goals_against': 36}}\n"
     ]
    }
   ],
   "source": [
    "print(team_table)"
   ]
  },
  {
   "cell_type": "markdown",
   "id": "2179968d",
   "metadata": {},
   "source": [
    "Above we can see the dictionary of dictionaries."
   ]
  },
  {
   "cell_type": "code",
   "execution_count": 6,
   "id": "bdde94ce",
   "metadata": {},
   "outputs": [
    {
     "data": {
      "text/plain": [
       "dict_items([('Arsenal', {'matches_played': 38, 'points': 63, 'wins': 19, 'losses': 13, 'draws': 6, 'goals_for': 74, 'goals_against': 51}), ('Leicester', {'matches_played': 38, 'points': 47, 'wins': 12, 'losses': 15, 'draws': 11, 'goals_for': 56, 'goals_against': 60}), ('Brighton', {'matches_played': 38, 'points': 40, 'wins': 9, 'losses': 16, 'draws': 13, 'goals_for': 34, 'goals_against': 54}), ('Man City', {'matches_played': 38, 'points': 100, 'wins': 32, 'losses': 2, 'draws': 4, 'goals_for': 106, 'goals_against': 27}), ('Chelsea', {'matches_played': 38, 'points': 70, 'wins': 21, 'losses': 10, 'draws': 7, 'goals_for': 62, 'goals_against': 38}), ('Burnley', {'matches_played': 38, 'points': 54, 'wins': 14, 'losses': 12, 'draws': 12, 'goals_for': 36, 'goals_against': 39}), ('Crystal Palace', {'matches_played': 38, 'points': 44, 'wins': 11, 'losses': 16, 'draws': 11, 'goals_for': 45, 'goals_against': 55}), ('Huddersfield', {'matches_played': 38, 'points': 37, 'wins': 9, 'losses': 19, 'draws': 10, 'goals_for': 28, 'goals_against': 58}), ('Everton', {'matches_played': 38, 'points': 49, 'wins': 13, 'losses': 15, 'draws': 10, 'goals_for': 44, 'goals_against': 58}), ('Stoke', {'matches_played': 38, 'points': 33, 'wins': 7, 'losses': 19, 'draws': 12, 'goals_for': 35, 'goals_against': 68}), ('Southampton', {'matches_played': 38, 'points': 36, 'wins': 7, 'losses': 16, 'draws': 15, 'goals_for': 37, 'goals_against': 56}), ('Swansea', {'matches_played': 38, 'points': 33, 'wins': 8, 'losses': 21, 'draws': 9, 'goals_for': 28, 'goals_against': 56}), ('Watford', {'matches_played': 38, 'points': 41, 'wins': 11, 'losses': 19, 'draws': 8, 'goals_for': 44, 'goals_against': 64}), ('Liverpool', {'matches_played': 38, 'points': 75, 'wins': 21, 'losses': 5, 'draws': 12, 'goals_for': 84, 'goals_against': 38}), ('West Brom', {'matches_played': 38, 'points': 31, 'wins': 6, 'losses': 19, 'draws': 13, 'goals_for': 31, 'goals_against': 56}), ('Bournemouth', {'matches_played': 38, 'points': 44, 'wins': 11, 'losses': 16, 'draws': 11, 'goals_for': 45, 'goals_against': 61}), ('Man United', {'matches_played': 38, 'points': 81, 'wins': 25, 'losses': 7, 'draws': 6, 'goals_for': 68, 'goals_against': 28}), ('West Ham', {'matches_played': 38, 'points': 42, 'wins': 10, 'losses': 16, 'draws': 12, 'goals_for': 48, 'goals_against': 68}), ('Newcastle', {'matches_played': 38, 'points': 44, 'wins': 12, 'losses': 18, 'draws': 8, 'goals_for': 39, 'goals_against': 47}), ('Tottenham', {'matches_played': 38, 'points': 77, 'wins': 23, 'losses': 7, 'draws': 8, 'goals_for': 74, 'goals_against': 36})])"
      ]
     },
     "execution_count": 6,
     "metadata": {},
     "output_type": "execute_result"
    }
   ],
   "source": [
    "team_table.items()"
   ]
  },
  {
   "cell_type": "markdown",
   "id": "7c21694f",
   "metadata": {},
   "source": [
    "Above we can see the the list of tuples containing team name and dictionaries containing match statistic of teams. In order make a league standing table we have to sort the list of tuple on the basis of points for this we have to access the second item of tuple. Let's see in a example how we can do this.\n",
    "\n",
    "**Note: A tuple() is an ordered, immutable collection of elements in Python. It is similar to a list but with one key difference: tuples cannot be modified once they are created.**\n",
    "\n",
    "**Note: .items() is a method in Python that returns a view object containing the key-value pairs of a dictionary. Each key-value pair is returned as a tuple, where the key is the first element and the value is the second element of the tuple.**"
   ]
  },
  {
   "cell_type": "code",
   "execution_count": 7,
   "id": "1588bcaf",
   "metadata": {},
   "outputs": [
    {
     "name": "stdout",
     "output_type": "stream",
     "text": [
      "25\n",
      "30\n",
      "28\n",
      "\n",
      "Points 63\n"
     ]
    }
   ],
   "source": [
    "# Example 01\n",
    "tuple_1 = ({'name': 'Muhammad', 'age': 25},{'name': 'Waqas', 'age': 30},{'name': 'Ali', 'age': 28})\n",
    "print(tuple_1[0][\"age\"])\n",
    "print(tuple_1[1][\"age\"])\n",
    "print(tuple_1[2][\"age\"])\n",
    "print()\n",
    "#Example 02\n",
    "tuple_2 = ('Arsenal', {'matches_played': 38, 'points': 63, 'wins': 19, 'losses': 13, 'draws': 6, 'goals_for': 74, 'goals_against': 51})\n",
    "points = tuple_2[1]['points']\n",
    "print(\"Points\",points)"
   ]
  },
  {
   "cell_type": "markdown",
   "id": "e56b9a69",
   "metadata": {},
   "source": [
    "In example 01 a tuple is defined with three elements. Each element is a dictionary representing a person's name and age. The code then accesses the \"age\" value from the dictionaries at index 0, 1, and 2 of the tuple and prints them individually.\n",
    "\n",
    "In example 02 a tuple is defined with two elements. The second element is a dictionary representing information about a football team. The code accesses the value corresponding to the key 'points' from the dictionary using tuple indexing and prints it as \"Points\"."
   ]
  },
  {
   "cell_type": "markdown",
   "id": "fc98b34a",
   "metadata": {},
   "source": [
    "This is how we can access the items in tuple. As we have tuples in our team_table we can access them in the same manner and sort it with respect to points. For this we can make a simple function,"
   ]
  },
  {
   "cell_type": "code",
   "execution_count": 8,
   "id": "134fdf51",
   "metadata": {},
   "outputs": [],
   "source": [
    "def sort_by_points(item):\n",
    "    return item[1][\"points\"]"
   ]
  },
  {
   "cell_type": "markdown",
   "id": "0362e892",
   "metadata": {},
   "source": [
    "1. def sort_by_points(item):: This line defines a function named sort_by_points that takes an item as an argument. The purpose of this function is to specify the sorting key for the sorted() function.\n",
    "\n",
    "2. return item[1][\"points\"]: This line returns the value of the \"points\" key from the second element (item[1]) of the item passed to the function. This value is used to determine the sorting order based on points."
   ]
  },
  {
   "cell_type": "markdown",
   "id": "b52763f7",
   "metadata": {},
   "source": [
    "To sort the team table we use sorted().\n",
    "\n",
    "### sorted()\n",
    "    The sorted() function is a built-in Python function used to sort iterable objects such as lists, tuples, or strings in a specified order. It takes an iterable as its argument and returns a new sorted list containing the elements of the original iterable in ascending order by default. The original iterable is not modified.\n",
    "    \n",
    "Here's an example:"
   ]
  },
  {
   "cell_type": "code",
   "execution_count": 9,
   "id": "5f0b15af",
   "metadata": {},
   "outputs": [
    {
     "name": "stdout",
     "output_type": "stream",
     "text": [
      "['banana', 'cherry', 'apple', 'date']\n"
     ]
    }
   ],
   "source": [
    "fruits = ['apple', 'banana', 'cherry', 'date']\n",
    "sorted_fruits = sorted(fruits, key=len, reverse = True)\n",
    "print(sorted_fruits)  \n"
   ]
  },
  {
   "cell_type": "markdown",
   "id": "2cfdcfc1",
   "metadata": {},
   "source": [
    "The sorted() function sorts the fruits list based on the length of each fruit in descending order. The fruits with longer names appear first in the sorted list, while fruits with shorter names appear towards the end. "
   ]
  },
  {
   "cell_type": "markdown",
   "id": "301ae642",
   "metadata": {},
   "source": [
    "**Let's sort team_table.**"
   ]
  },
  {
   "cell_type": "code",
   "execution_count": 10,
   "id": "0f5bb128",
   "metadata": {},
   "outputs": [
    {
     "name": "stdout",
     "output_type": "stream",
     "text": [
      "[('Man City', {'matches_played': 38, 'points': 100, 'wins': 32, 'losses': 2, 'draws': 4, 'goals_for': 106, 'goals_against': 27}), ('Man United', {'matches_played': 38, 'points': 81, 'wins': 25, 'losses': 7, 'draws': 6, 'goals_for': 68, 'goals_against': 28}), ('Tottenham', {'matches_played': 38, 'points': 77, 'wins': 23, 'losses': 7, 'draws': 8, 'goals_for': 74, 'goals_against': 36}), ('Liverpool', {'matches_played': 38, 'points': 75, 'wins': 21, 'losses': 5, 'draws': 12, 'goals_for': 84, 'goals_against': 38}), ('Chelsea', {'matches_played': 38, 'points': 70, 'wins': 21, 'losses': 10, 'draws': 7, 'goals_for': 62, 'goals_against': 38}), ('Arsenal', {'matches_played': 38, 'points': 63, 'wins': 19, 'losses': 13, 'draws': 6, 'goals_for': 74, 'goals_against': 51}), ('Burnley', {'matches_played': 38, 'points': 54, 'wins': 14, 'losses': 12, 'draws': 12, 'goals_for': 36, 'goals_against': 39}), ('Everton', {'matches_played': 38, 'points': 49, 'wins': 13, 'losses': 15, 'draws': 10, 'goals_for': 44, 'goals_against': 58}), ('Leicester', {'matches_played': 38, 'points': 47, 'wins': 12, 'losses': 15, 'draws': 11, 'goals_for': 56, 'goals_against': 60}), ('Crystal Palace', {'matches_played': 38, 'points': 44, 'wins': 11, 'losses': 16, 'draws': 11, 'goals_for': 45, 'goals_against': 55}), ('Bournemouth', {'matches_played': 38, 'points': 44, 'wins': 11, 'losses': 16, 'draws': 11, 'goals_for': 45, 'goals_against': 61}), ('Newcastle', {'matches_played': 38, 'points': 44, 'wins': 12, 'losses': 18, 'draws': 8, 'goals_for': 39, 'goals_against': 47}), ('West Ham', {'matches_played': 38, 'points': 42, 'wins': 10, 'losses': 16, 'draws': 12, 'goals_for': 48, 'goals_against': 68}), ('Watford', {'matches_played': 38, 'points': 41, 'wins': 11, 'losses': 19, 'draws': 8, 'goals_for': 44, 'goals_against': 64}), ('Brighton', {'matches_played': 38, 'points': 40, 'wins': 9, 'losses': 16, 'draws': 13, 'goals_for': 34, 'goals_against': 54}), ('Huddersfield', {'matches_played': 38, 'points': 37, 'wins': 9, 'losses': 19, 'draws': 10, 'goals_for': 28, 'goals_against': 58}), ('Southampton', {'matches_played': 38, 'points': 36, 'wins': 7, 'losses': 16, 'draws': 15, 'goals_for': 37, 'goals_against': 56}), ('Stoke', {'matches_played': 38, 'points': 33, 'wins': 7, 'losses': 19, 'draws': 12, 'goals_for': 35, 'goals_against': 68}), ('Swansea', {'matches_played': 38, 'points': 33, 'wins': 8, 'losses': 21, 'draws': 9, 'goals_for': 28, 'goals_against': 56}), ('West Brom', {'matches_played': 38, 'points': 31, 'wins': 6, 'losses': 19, 'draws': 13, 'goals_for': 31, 'goals_against': 56})]\n"
     ]
    }
   ],
   "source": [
    "sorted_table = sorted(team_table.items(), key=sort_by_points, reverse=True)\n",
    "print(sorted_table)"
   ]
  },
  {
   "cell_type": "markdown",
   "id": "e8a16623",
   "metadata": {},
   "source": [
    "Sorting the points table with respect to point is the most important step to get the final ranking of each teams after 38 matches.\n",
    "\n",
    "1. sorted_table = sorted(team_table.items(), key=sort_by_points, reverse=True): This line uses the sorted() function to sort the team_table dictionary items based on the \"points\" value. The key parameter is set to the sort_by_points function, which specifies the sorting key. The reverse parameter is set to True to sort the table in descending order.\n",
    "\n",
    "2. Finally by printing the sorted table we can se the list of tuples containing team name and dictionaries containf match statistic of teams.\n",
    "\n"
   ]
  },
  {
   "cell_type": "code",
   "execution_count": 11,
   "id": "32d01f0e",
   "metadata": {},
   "outputs": [
    {
     "name": "stdout",
     "output_type": "stream",
     "text": [
      "                                      Premier League 2017-18 Final Standing :\n",
      "\n",
      "Team\t\tMatches Played\tPoints\tWins\tLosses\tDraws\tGoal For\tGoal Against\tGoal Difference\n",
      "Man City\t\t38\t\t100\t32\t2\t4\t106\t\t27\t\t79\n",
      "Man United\t\t38\t\t81\t25\t7\t6\t68\t\t28\t\t40\n",
      "Tottenham\t\t38\t\t77\t23\t7\t8\t74\t\t36\t\t38\n",
      "Liverpool\t\t38\t\t75\t21\t5\t12\t84\t\t38\t\t46\n",
      "Chelsea\t\t38\t\t70\t21\t10\t7\t62\t\t38\t\t24\n",
      "Arsenal\t\t38\t\t63\t19\t13\t6\t74\t\t51\t\t23\n",
      "Burnley\t\t38\t\t54\t14\t12\t12\t36\t\t39\t\t-3\n",
      "Everton\t\t38\t\t49\t13\t15\t10\t44\t\t58\t\t-14\n",
      "Leicester\t\t38\t\t47\t12\t15\t11\t56\t\t60\t\t-4\n",
      "Crystal Palace\t\t38\t\t44\t11\t16\t11\t45\t\t55\t\t-10\n",
      "Bournemouth\t\t38\t\t44\t11\t16\t11\t45\t\t61\t\t-16\n",
      "Newcastle\t\t38\t\t44\t12\t18\t8\t39\t\t47\t\t-8\n",
      "West Ham\t\t38\t\t42\t10\t16\t12\t48\t\t68\t\t-20\n",
      "Watford\t\t38\t\t41\t11\t19\t8\t44\t\t64\t\t-20\n",
      "Brighton\t\t38\t\t40\t9\t16\t13\t34\t\t54\t\t-20\n",
      "Huddersfield\t\t38\t\t37\t9\t19\t10\t28\t\t58\t\t-30\n",
      "Southampton\t\t38\t\t36\t7\t16\t15\t37\t\t56\t\t-19\n",
      "Stoke\t\t38\t\t33\t7\t19\t12\t35\t\t68\t\t-33\n",
      "Swansea\t\t38\t\t33\t8\t21\t9\t28\t\t56\t\t-28\n",
      "West Brom\t\t38\t\t31\t6\t19\t13\t31\t\t56\t\t-25\n"
     ]
    }
   ],
   "source": [
    "print(\"                                      Premier League 2017-18 Final Standing :\")\n",
    "print()\n",
    "print(\"Team\\t\\tMatches Played\\tPoints\\tWins\\tLosses\\tDraws\\tGoal For\\tGoal Against\\tGoal Difference\")\n",
    "for team_stats in sorted_table:\n",
    "    team, stats = team_stats\n",
    "    goal_difference = stats[\"goals_for\"] - stats[\"goals_against\"]\n",
    "    print(f\"{team}\\t\\t{stats['matches_played']}\\t\\t{stats['points']}\\t{stats['wins']}\\t{stats['losses']}\\t{stats['draws']}\\t{stats['goals_for']}\\t\\t{stats['goals_against']}\\t\\t{goal_difference}\")\n"
   ]
  },
  {
   "cell_type": "markdown",
   "id": "f9bcc738",
   "metadata": {},
   "source": [
    "1. The following lines print the header and format the output for displaying the final standing of the Premier League 2017-18.\n",
    "\n",
    "2. for team_stats in sorted_table:: This line initiates a loop that iterates over each team and their corresponding statistics in the sorted_table.\n",
    "\n",
    "3. team, stats = team_stats: This line assigns the team name to the variable team and the team's statistics dictionary to the variable stats.\n",
    "\n",
    "4. goal_difference = stats[\"goals_for\"] - stats[\"goals_against\"]: This line calculates the goal difference by subtracting the \"goals_against\" value from the \"goals_for\" value.\n",
    "\n",
    "5. The following print() statement formats and displays the team name and its respective statistics, including matches played, points, wins, losses, draws, goals scored, goals conceded, and goal difference.\n",
    "\n",
    "6. The loop continues until all teams in sorted_table have been processed.\n",
    "\n",
    "**Note: In above table there is a spacing issue because of the length of team names. For better visiual please refer to the export file PremierLeagueStanding.csv.**"
   ]
  },
  {
   "cell_type": "code",
   "execution_count": 12,
   "id": "a1e1fab2",
   "metadata": {},
   "outputs": [
    {
     "name": "stdout",
     "output_type": "stream",
     "text": [
      "Man City {'matches_played': 38, 'points': 100, 'wins': 32, 'losses': 2, 'draws': 4, 'goals_for': 106, 'goals_against': 27}\n",
      "Man United {'matches_played': 38, 'points': 81, 'wins': 25, 'losses': 7, 'draws': 6, 'goals_for': 68, 'goals_against': 28}\n",
      "Tottenham {'matches_played': 38, 'points': 77, 'wins': 23, 'losses': 7, 'draws': 8, 'goals_for': 74, 'goals_against': 36}\n",
      "Liverpool {'matches_played': 38, 'points': 75, 'wins': 21, 'losses': 5, 'draws': 12, 'goals_for': 84, 'goals_against': 38}\n",
      "Chelsea {'matches_played': 38, 'points': 70, 'wins': 21, 'losses': 10, 'draws': 7, 'goals_for': 62, 'goals_against': 38}\n",
      "Arsenal {'matches_played': 38, 'points': 63, 'wins': 19, 'losses': 13, 'draws': 6, 'goals_for': 74, 'goals_against': 51}\n",
      "Burnley {'matches_played': 38, 'points': 54, 'wins': 14, 'losses': 12, 'draws': 12, 'goals_for': 36, 'goals_against': 39}\n",
      "Everton {'matches_played': 38, 'points': 49, 'wins': 13, 'losses': 15, 'draws': 10, 'goals_for': 44, 'goals_against': 58}\n",
      "Leicester {'matches_played': 38, 'points': 47, 'wins': 12, 'losses': 15, 'draws': 11, 'goals_for': 56, 'goals_against': 60}\n",
      "Crystal Palace {'matches_played': 38, 'points': 44, 'wins': 11, 'losses': 16, 'draws': 11, 'goals_for': 45, 'goals_against': 55}\n",
      "Bournemouth {'matches_played': 38, 'points': 44, 'wins': 11, 'losses': 16, 'draws': 11, 'goals_for': 45, 'goals_against': 61}\n",
      "Newcastle {'matches_played': 38, 'points': 44, 'wins': 12, 'losses': 18, 'draws': 8, 'goals_for': 39, 'goals_against': 47}\n",
      "West Ham {'matches_played': 38, 'points': 42, 'wins': 10, 'losses': 16, 'draws': 12, 'goals_for': 48, 'goals_against': 68}\n",
      "Watford {'matches_played': 38, 'points': 41, 'wins': 11, 'losses': 19, 'draws': 8, 'goals_for': 44, 'goals_against': 64}\n",
      "Brighton {'matches_played': 38, 'points': 40, 'wins': 9, 'losses': 16, 'draws': 13, 'goals_for': 34, 'goals_against': 54}\n",
      "Huddersfield {'matches_played': 38, 'points': 37, 'wins': 9, 'losses': 19, 'draws': 10, 'goals_for': 28, 'goals_against': 58}\n",
      "Southampton {'matches_played': 38, 'points': 36, 'wins': 7, 'losses': 16, 'draws': 15, 'goals_for': 37, 'goals_against': 56}\n",
      "Stoke {'matches_played': 38, 'points': 33, 'wins': 7, 'losses': 19, 'draws': 12, 'goals_for': 35, 'goals_against': 68}\n",
      "Swansea {'matches_played': 38, 'points': 33, 'wins': 8, 'losses': 21, 'draws': 9, 'goals_for': 28, 'goals_against': 56}\n",
      "West Brom {'matches_played': 38, 'points': 31, 'wins': 6, 'losses': 19, 'draws': 13, 'goals_for': 31, 'goals_against': 56}\n"
     ]
    }
   ],
   "source": [
    "with open('PremierLeagueStanding.csv', 'w', newline='') as csvfile:\n",
    "    writer = csv.writer(csvfile)\n",
    "    writer.writerow([\"Team\", \"Matches Played\", \"Points\", \"Wins\", \"Losses\", \"Draws\", \"Goal For\", \"Goal Against\", \"Goal Difference\"])\n",
    "    for team_stats in sorted_table:\n",
    "        team, stats = team_stats\n",
    "        print(team,stats)\n",
    "        goal_difference = stats[\"goals_for\"] - stats[\"goals_against\"]\n",
    "        writer.writerow([team, stats['matches_played'], stats['points'], stats['wins'], stats['losses'], stats['draws'], stats['goals_for'], stats['goals_against'], goal_difference])\n",
    "        \n"
   ]
  },
  {
   "cell_type": "markdown",
   "id": "ad3f88cb",
   "metadata": {},
   "source": [
    "Here's a breakdown of the code:\n",
    "\n",
    "1. The with statement ensures that the file is properly closed after writing.\n",
    "2. writer = csv.writer(csvfile) creates a csv.writer object to write to the CSV file.\n",
    "3. writer.writerow([\"Team\", \"Matches Played\", \"Points\", \"Wins\", \"Losses\", \"Draws\", \"Goal For\", \"Goal Against\", \"Goal Difference\"]) writes the header row with the column names.\n",
    "4. The for loop iterates over each team and its statistics in the sorted_table.\n",
    "5. team, stats = team_stats unpacks the team name and its corresponding statistics from each item in sorted_table.\n",
    "6. goal_difference = stats[\"goals_for\"] - stats[\"goals_against\"] calculates the goal difference by subtracting the goals against from the goals for.\n",
    "7. writer.writerow([team, stats['matches_played'], stats['points'], stats['wins'], stats['losses'], stats['draws'], stats['goals_for'], stats['goals_against'], goal_difference]) writes a row in the CSV file with the team's information."
   ]
  }
 ],
 "metadata": {
  "kernelspec": {
   "display_name": "Python 3 (ipykernel)",
   "language": "python",
   "name": "python3"
  },
  "language_info": {
   "codemirror_mode": {
    "name": "ipython",
    "version": 3
   },
   "file_extension": ".py",
   "mimetype": "text/x-python",
   "name": "python",
   "nbconvert_exporter": "python",
   "pygments_lexer": "ipython3",
   "version": "3.9.13"
  }
 },
 "nbformat": 4,
 "nbformat_minor": 5
}
