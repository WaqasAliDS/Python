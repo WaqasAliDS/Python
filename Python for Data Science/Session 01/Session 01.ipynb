{
 "cells": [
  {
   "cell_type": "markdown",
   "id": "d87d38ee",
   "metadata": {},
   "source": [
    "# Assignment 01\n"
   ]
  },
  {
   "cell_type": "markdown",
   "id": "276af2c8",
   "metadata": {},
   "source": [
    "## Data Types"
   ]
  },
  {
   "cell_type": "markdown",
   "id": "9a2815a5",
   "metadata": {},
   "source": [
    "### Integers\n",
    "    In Python, an integer is a numeric data type that represents a whole number, which can be positive, negative, or zero. Integers in Python can have unlimited precision, which means that they can be arbitrarily large or small as long as the system memory allows it.\n",
    "\n",
    "    In Python, integers are defined by writing a sequence of digits without any decimal point or fractional component. For example, 42 and -100 are integers in Python.\n",
    "\n",
    "    You can perform various arithmetic operations on integers, such as addition, subtraction, multiplication, and division."
   ]
  },
  {
   "cell_type": "code",
   "execution_count": 8,
   "id": "2fa4e01a",
   "metadata": {},
   "outputs": [
    {
     "name": "stdout",
     "output_type": "stream",
     "text": [
      "24\n"
     ]
    }
   ],
   "source": [
    "print(24) #Here print() is the predefined function whereas it's input \"24\" is integer."
   ]
  },
  {
   "cell_type": "code",
   "execution_count": 37,
   "id": "6a7ec75c",
   "metadata": {},
   "outputs": [
    {
     "data": {
      "text/plain": [
       "int"
      ]
     },
     "execution_count": 37,
     "metadata": {},
     "output_type": "execute_result"
    }
   ],
   "source": [
    "type(24) #We can find out the data type of any data by using type() function as here \"24\" is the input and the result is \"int\"."
   ]
  },
  {
   "cell_type": "markdown",
   "id": "dc150d2b",
   "metadata": {},
   "source": [
    "Note : In above line \"int\" has printed without print() function because the jupyter has the ability to print it's final line            if  it is printable."
   ]
  },
  {
   "cell_type": "markdown",
   "id": "d61c1ab8",
   "metadata": {},
   "source": [
    "#### Some Mathematical Operations Using Integers"
   ]
  },
  {
   "cell_type": "code",
   "execution_count": 4,
   "id": "4ab29be3",
   "metadata": {},
   "outputs": [
    {
     "name": "stdout",
     "output_type": "stream",
     "text": [
      "30\n"
     ]
    }
   ],
   "source": [
    "print(22+8) #Addition of two integers and printing the result"
   ]
  },
  {
   "cell_type": "code",
   "execution_count": 5,
   "id": "972bd2ed",
   "metadata": {},
   "outputs": [
    {
     "name": "stdout",
     "output_type": "stream",
     "text": [
      "20\n"
     ]
    }
   ],
   "source": [
    "print(22-2) #Subtraction of two integers and printing the result"
   ]
  },
  {
   "cell_type": "code",
   "execution_count": 6,
   "id": "2d892516",
   "metadata": {},
   "outputs": [
    {
     "name": "stdout",
     "output_type": "stream",
     "text": [
      "16\n"
     ]
    }
   ],
   "source": [
    "print(2*8)  #Multiplication of two integers and printing the result"
   ]
  },
  {
   "cell_type": "code",
   "execution_count": 7,
   "id": "2703481d",
   "metadata": {},
   "outputs": [
    {
     "name": "stdout",
     "output_type": "stream",
     "text": [
      "8.0\n"
     ]
    }
   ],
   "source": [
    "print(16/2) #Division of two integers and printing the result"
   ]
  },
  {
   "cell_type": "markdown",
   "id": "e055b777",
   "metadata": {},
   "source": [
    "Note that when you divide two integers in Python 3, the result is a float. If you want to perform integer division and get an integer result, you can use the \"//\" operator instead of the \"/\" operator. For example:"
   ]
  },
  {
   "cell_type": "code",
   "execution_count": 9,
   "id": "2f6b7745",
   "metadata": {},
   "outputs": [
    {
     "name": "stdout",
     "output_type": "stream",
     "text": [
      "8\n"
     ]
    }
   ],
   "source": [
    "print(16//2) #Division of two integers using floor division and printing the result"
   ]
  },
  {
   "cell_type": "code",
   "execution_count": 10,
   "id": "3500a6fe",
   "metadata": {},
   "outputs": [
    {
     "name": "stdout",
     "output_type": "stream",
     "text": [
      "4\n"
     ]
    }
   ],
   "source": [
    "print(2**2)  #Square of integer and printing it"
   ]
  },
  {
   "cell_type": "markdown",
   "id": "e55ad224",
   "metadata": {},
   "source": [
    "## Float\n",
    "    In Python, a float is a numeric data type that represents a decimal or floating-point number. Floats are used to represent numbers with fractional parts or numbers that are too large or too small to be represented as integers.\n",
    "\n",
    "    In Python, floats are defined by writing a sequence of digits with a decimal point. For example, 3.14 and -0.5 are floats in Python.\n",
    "\n",
    "    You can perform various arithmetic operations on floats, just like with integers.\n",
    "   "
   ]
  },
  {
   "cell_type": "code",
   "execution_count": 11,
   "id": "4645c742",
   "metadata": {},
   "outputs": [
    {
     "name": "stdout",
     "output_type": "stream",
     "text": [
      "22.3\n"
     ]
    }
   ],
   "source": [
    "print(22.3) #Printing a float number"
   ]
  },
  {
   "cell_type": "code",
   "execution_count": 12,
   "id": "933ede17",
   "metadata": {},
   "outputs": [
    {
     "data": {
      "text/plain": [
       "float"
      ]
     },
     "execution_count": 12,
     "metadata": {},
     "output_type": "execute_result"
    }
   ],
   "source": [
    "type(22.3) #We can find out the data type of any data by using type() function as here \"22.3\" is the input and the result is \"float\"."
   ]
  },
  {
   "cell_type": "markdown",
   "id": "73d1e257",
   "metadata": {},
   "source": [
    "#### Some Mathematical operations using float number"
   ]
  },
  {
   "cell_type": "code",
   "execution_count": 13,
   "id": "19385ce8",
   "metadata": {},
   "outputs": [
    {
     "name": "stdout",
     "output_type": "stream",
     "text": [
      "7.2\n"
     ]
    }
   ],
   "source": [
    "print(2.3+4.9) #Addition of two float numbers and printing the result"
   ]
  },
  {
   "cell_type": "code",
   "execution_count": 14,
   "id": "3d71e54c",
   "metadata": {},
   "outputs": [
    {
     "name": "stdout",
     "output_type": "stream",
     "text": [
      "2.5\n"
     ]
    }
   ],
   "source": [
    "print(4.8-2.3) #Subtraction of two float numbers and printing the result"
   ]
  },
  {
   "cell_type": "code",
   "execution_count": 15,
   "id": "c74c2fe1",
   "metadata": {},
   "outputs": [
    {
     "name": "stdout",
     "output_type": "stream",
     "text": [
      "5.06\n"
     ]
    }
   ],
   "source": [
    "print(2.3*2.2) #Multiplication of two float numbers and printing the result"
   ]
  },
  {
   "cell_type": "code",
   "execution_count": 16,
   "id": "9cd41f05",
   "metadata": {},
   "outputs": [
    {
     "name": "stdout",
     "output_type": "stream",
     "text": [
      "2.75\n"
     ]
    }
   ],
   "source": [
    "print(8.8/3.2) #Division of two float numbers and printing the result"
   ]
  },
  {
   "cell_type": "code",
   "execution_count": 18,
   "id": "500ae5dd",
   "metadata": {},
   "outputs": [
    {
     "name": "stdout",
     "output_type": "stream",
     "text": [
      "4.840000000000001\n"
     ]
    }
   ],
   "source": [
    "print(2.2**2) #Square of a float number and printing the result"
   ]
  },
  {
   "cell_type": "markdown",
   "id": "9c434623",
   "metadata": {},
   "source": [
    "## String \n",
    "    In Python, a string is a sequence of characters. Strings are used to represent text data, such as names, addresses, and messages. Strings can be defined using single quotes ('...'), double quotes (\"...\"), or triple quotes ('''...''' or \"\"\"...\"\"\"). Here are some examples:"
   ]
  },
  {
   "cell_type": "code",
   "execution_count": 19,
   "id": "418294ad",
   "metadata": {},
   "outputs": [
    {
     "name": "stdout",
     "output_type": "stream",
     "text": [
      "My name is \"Muhammad Waqas Ali\"\n"
     ]
    }
   ],
   "source": [
    "print('My name is \"Muhammad Waqas Ali\"') #String using single quote"
   ]
  },
  {
   "cell_type": "code",
   "execution_count": 20,
   "id": "b64b3682",
   "metadata": {},
   "outputs": [
    {
     "name": "stdout",
     "output_type": "stream",
     "text": [
      "It's a Izhaan's car.\n"
     ]
    }
   ],
   "source": [
    "print(\"It's a Izhaan's car.\") #String using double quote"
   ]
  },
  {
   "cell_type": "code",
   "execution_count": 21,
   "id": "214345e9",
   "metadata": {},
   "outputs": [
    {
     "name": "stdout",
     "output_type": "stream",
     "text": [
      "Top 3 mobile brands in Pakistan:\n",
      "(1) Apple\n",
      "(2) Samsung\n",
      "(3) Huawei\n"
     ]
    }
   ],
   "source": [
    "print('''Top 3 mobile brands in Pakistan:\n",
    "(1) Apple\n",
    "(2) Samsung\n",
    "(3) Huawei''') #String using triple quotes"
   ]
  },
  {
   "cell_type": "markdown",
   "id": "8ec4dd20",
   "metadata": {},
   "source": [
    "    Note : Strings in Python are immutable, which means that once a string is created, it cannot be modified."
   ]
  },
  {
   "cell_type": "markdown",
   "id": "cda37664",
   "metadata": {},
   "source": [
    "## Variable Declaration and Initialiazation Syntax\n",
    "    In Python, a variable is a named reference to a value stored in memory. Variables are used to store data that can be used later in the program.\n",
    "\n",
    "    In Python, you can define a variable by giving it a name and assigning it a value using the \"=\" assignment operator. For example:"
   ]
  },
  {
   "cell_type": "code",
   "execution_count": 22,
   "id": "e59738e0",
   "metadata": {},
   "outputs": [],
   "source": [
    "x=24 # Here \"x\" is a variable, \"=\" is the assignment operator and \"24\" is the integer value store in variable\"x\"."
   ]
  },
  {
   "cell_type": "code",
   "execution_count": 23,
   "id": "ee34f82e",
   "metadata": {},
   "outputs": [
    {
     "name": "stdout",
     "output_type": "stream",
     "text": [
      "24\n"
     ]
    }
   ],
   "source": [
    "print(x)"
   ]
  },
  {
   "cell_type": "code",
   "execution_count": 24,
   "id": "656674f6",
   "metadata": {},
   "outputs": [
    {
     "name": "stdout",
     "output_type": "stream",
     "text": [
      "Waqas Ali\n"
     ]
    }
   ],
   "source": [
    "Name=\"Waqas Ali\" ## Here \"x\" is a variable, \"=\" is the assignment operator and \"Waqas Ali\" is the string store in variable\"x\".\\\n",
    "print(Name)"
   ]
  },
  {
   "cell_type": "markdown",
   "id": "06274052",
   "metadata": {},
   "source": [
    "## Rules For Defining Variable\n",
    "    Python variable names must follow certain rules:\n",
    "\n",
    "    -The name can only contain letters, numbers, and underscores (_).\n",
    "    -The name must start with a letter or underscore.\n",
    "    -Variable names are case-sensitive (i.e., x, X, and X_ are all different variables).\n",
    "    \n",
    "    Here is the examples of some legal and illegal variables:"
   ]
  },
  {
   "cell_type": "code",
   "execution_count": 25,
   "id": "c76169ae",
   "metadata": {},
   "outputs": [
    {
     "name": "stdout",
     "output_type": "stream",
     "text": [
      "24\n"
     ]
    }
   ],
   "source": [
    "value=24 #Legal variable as it is started with a letter and contain letters.\n",
    "print(value)"
   ]
  },
  {
   "cell_type": "code",
   "execution_count": 26,
   "id": "d81b7912",
   "metadata": {},
   "outputs": [
    {
     "name": "stdout",
     "output_type": "stream",
     "text": [
      "803\n"
     ]
    }
   ],
   "source": [
    "_LM10=803 #Legal variable as it is started with underscore and contains letters, numbers, and underscores (_).\n",
    "print(_LM10)"
   ]
  },
  {
   "cell_type": "code",
   "execution_count": 27,
   "id": "1ec526fc",
   "metadata": {},
   "outputs": [
    {
     "ename": "SyntaxError",
     "evalue": "invalid syntax (3341878423.py, line 1)",
     "output_type": "error",
     "traceback": [
      "\u001b[1;36m  File \u001b[1;32m\"C:\\Users\\WAQSA\\AppData\\Local\\Temp\\ipykernel_4968\\3341878423.py\"\u001b[1;36m, line \u001b[1;32m1\u001b[0m\n\u001b[1;33m    1degree=\"Sneakers Brand\" # Illegal variable as it is started with a number.\u001b[0m\n\u001b[1;37m     ^\u001b[0m\n\u001b[1;31mSyntaxError\u001b[0m\u001b[1;31m:\u001b[0m invalid syntax\n"
     ]
    }
   ],
   "source": [
    "1degree=\"Sneakers Brand\" # Illegal variable as it is started with a number."
   ]
  },
  {
   "cell_type": "code",
   "execution_count": 28,
   "id": "d1dec479",
   "metadata": {},
   "outputs": [
    {
     "ename": "SyntaxError",
     "evalue": "invalid syntax (3025705042.py, line 1)",
     "output_type": "error",
     "traceback": [
      "\u001b[1;36m  File \u001b[1;32m\"C:\\Users\\WAQSA\\AppData\\Local\\Temp\\ipykernel_4968\\3025705042.py\"\u001b[1;36m, line \u001b[1;32m1\u001b[0m\n\u001b[1;33m    Value*$=322 #Illegal variable as it contains some special character.\u001b[0m\n\u001b[1;37m          ^\u001b[0m\n\u001b[1;31mSyntaxError\u001b[0m\u001b[1;31m:\u001b[0m invalid syntax\n"
     ]
    }
   ],
   "source": [
    "Value*$=322 #Illegal variable as it contains some special character."
   ]
  },
  {
   "cell_type": "markdown",
   "id": "6003cc11",
   "metadata": {},
   "source": [
    "### Using Variables in the expression"
   ]
  },
  {
   "cell_type": "code",
   "execution_count": 29,
   "id": "81989d78",
   "metadata": {},
   "outputs": [
    {
     "name": "stdout",
     "output_type": "stream",
     "text": [
      "400\n"
     ]
    }
   ],
   "source": [
    "a=24\n",
    "b=-4\n",
    "c=(a+b)**2\n",
    "print(c)"
   ]
  },
  {
   "cell_type": "markdown",
   "id": "1a2f4ccd",
   "metadata": {},
   "source": [
    "### Modification of Values stored in Variable"
   ]
  },
  {
   "cell_type": "code",
   "execution_count": 30,
   "id": "c140813b",
   "metadata": {},
   "outputs": [
    {
     "name": "stdout",
     "output_type": "stream",
     "text": [
      "44\n"
     ]
    }
   ],
   "source": [
    "a=a+20\n",
    "print(a) #Here previous value of a is 24, Now I am adding 20 in a."
   ]
  },
  {
   "cell_type": "code",
   "execution_count": 31,
   "id": "b77b6d89",
   "metadata": {},
   "outputs": [
    {
     "name": "stdout",
     "output_type": "stream",
     "text": [
      "-2.0\n"
     ]
    }
   ],
   "source": [
    "b=b/2\n",
    "print(b) #Here previous value of b is -4, Now I am dividing it by 2."
   ]
  },
  {
   "cell_type": "markdown",
   "id": "767d5bfc",
   "metadata": {},
   "source": [
    "### Modification of Values stored in Variable Using Special Assignment operator\n",
    "    Here is the list of some special assignment operators:\n",
    "    1)+= \n",
    "    2)*=\n",
    "    3)/=\n",
    "    3)//=\n",
    "    4)-=\n",
    "    5)%="
   ]
  },
  {
   "cell_type": "code",
   "execution_count": 32,
   "id": "94eefc62",
   "metadata": {},
   "outputs": [
    {
     "name": "stdout",
     "output_type": "stream",
     "text": [
      "49\n"
     ]
    }
   ],
   "source": [
    "a+=5\n",
    "print(a) #Adding 5 in a using += operator."
   ]
  },
  {
   "cell_type": "code",
   "execution_count": 33,
   "id": "e74c6872",
   "metadata": {},
   "outputs": [
    {
     "name": "stdout",
     "output_type": "stream",
     "text": [
      "98\n"
     ]
    }
   ],
   "source": [
    "a*=2 #Multiplying \"a\" by 2 using *= operator.\n",
    "print(a)"
   ]
  },
  {
   "cell_type": "code",
   "execution_count": 34,
   "id": "be7ca548",
   "metadata": {},
   "outputs": [
    {
     "name": "stdout",
     "output_type": "stream",
     "text": [
      "83\n"
     ]
    }
   ],
   "source": [
    "a-=15\n",
    "print(a) #Subtracting 15 from \"a\" using -= operator."
   ]
  },
  {
   "cell_type": "code",
   "execution_count": 35,
   "id": "c0291c24",
   "metadata": {},
   "outputs": [
    {
     "name": "stdout",
     "output_type": "stream",
     "text": [
      "41\n"
     ]
    }
   ],
   "source": [
    "a//=2 \n",
    "print(a) #Integer division of \"a\" by 2 using //= operator."
   ]
  },
  {
   "cell_type": "code",
   "execution_count": 36,
   "id": "8fd12058",
   "metadata": {},
   "outputs": [
    {
     "name": "stdout",
     "output_type": "stream",
     "text": [
      "1\n"
     ]
    }
   ],
   "source": [
    "a%=2\n",
    "print(a) #Reminder of \"a\" when divisor is 2."
   ]
  },
  {
   "cell_type": "code",
   "execution_count": null,
   "id": "6b5e4571",
   "metadata": {},
   "outputs": [],
   "source": []
  }
 ],
 "metadata": {
  "kernelspec": {
   "display_name": "Python 3 (ipykernel)",
   "language": "python",
   "name": "python3"
  },
  "language_info": {
   "codemirror_mode": {
    "name": "ipython",
    "version": 3
   },
   "file_extension": ".py",
   "mimetype": "text/x-python",
   "name": "python",
   "nbconvert_exporter": "python",
   "pygments_lexer": "ipython3",
   "version": "3.9.13"
  }
 },
 "nbformat": 4,
 "nbformat_minor": 5
}
